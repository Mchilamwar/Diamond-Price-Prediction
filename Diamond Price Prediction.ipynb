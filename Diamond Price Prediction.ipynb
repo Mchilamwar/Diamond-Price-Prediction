{
 "cells": [
  {
   "cell_type": "code",
   "execution_count": 125,
   "id": "1a47270e",
   "metadata": {},
   "outputs": [],
   "source": [
    "import pandas as pd\n",
    "import numpy as np"
   ]
  },
  {
   "cell_type": "code",
   "execution_count": 126,
   "id": "d46740dd",
   "metadata": {},
   "outputs": [],
   "source": [
    "DiamondPricesData=pd.read_csv(filepath_or_buffer='file:///E:/Data%20Science/Ivy%20Python%20&%20Machine%20Learning,Deep%20Learning/Python%20Datasets/Regression%20Datasets/DiamondPricesData.csv',\n",
    "                             sep=',',encoding='latin-1')"
   ]
  },
  {
   "cell_type": "code",
   "execution_count": 127,
   "id": "433c4ea8",
   "metadata": {
    "scrolled": true
   },
   "outputs": [
    {
     "data": {
      "text/html": [
       "<div>\n",
       "<style scoped>\n",
       "    .dataframe tbody tr th:only-of-type {\n",
       "        vertical-align: middle;\n",
       "    }\n",
       "\n",
       "    .dataframe tbody tr th {\n",
       "        vertical-align: top;\n",
       "    }\n",
       "\n",
       "    .dataframe thead th {\n",
       "        text-align: right;\n",
       "    }\n",
       "</style>\n",
       "<table border=\"1\" class=\"dataframe\">\n",
       "  <thead>\n",
       "    <tr style=\"text-align: right;\">\n",
       "      <th></th>\n",
       "      <th>price</th>\n",
       "      <th>carat</th>\n",
       "      <th>cut</th>\n",
       "      <th>color</th>\n",
       "      <th>clarity</th>\n",
       "      <th>depth</th>\n",
       "      <th>table</th>\n",
       "      <th>x</th>\n",
       "      <th>y</th>\n",
       "      <th>z</th>\n",
       "    </tr>\n",
       "  </thead>\n",
       "  <tbody>\n",
       "    <tr>\n",
       "      <th>0</th>\n",
       "      <td>326</td>\n",
       "      <td>0.23</td>\n",
       "      <td>Ideal</td>\n",
       "      <td>E</td>\n",
       "      <td>SI2</td>\n",
       "      <td>61.5</td>\n",
       "      <td>55.0</td>\n",
       "      <td>3.95</td>\n",
       "      <td>3.98</td>\n",
       "      <td>2.43</td>\n",
       "    </tr>\n",
       "    <tr>\n",
       "      <th>1</th>\n",
       "      <td>326</td>\n",
       "      <td>0.21</td>\n",
       "      <td>Premium</td>\n",
       "      <td>E</td>\n",
       "      <td>SI1</td>\n",
       "      <td>59.8</td>\n",
       "      <td>61.0</td>\n",
       "      <td>3.89</td>\n",
       "      <td>3.84</td>\n",
       "      <td>2.31</td>\n",
       "    </tr>\n",
       "    <tr>\n",
       "      <th>2</th>\n",
       "      <td>327</td>\n",
       "      <td>0.23</td>\n",
       "      <td>Good</td>\n",
       "      <td>E</td>\n",
       "      <td>VS1</td>\n",
       "      <td>56.9</td>\n",
       "      <td>65.0</td>\n",
       "      <td>4.05</td>\n",
       "      <td>4.07</td>\n",
       "      <td>2.31</td>\n",
       "    </tr>\n",
       "    <tr>\n",
       "      <th>3</th>\n",
       "      <td>334</td>\n",
       "      <td>0.29</td>\n",
       "      <td>Premium</td>\n",
       "      <td>I</td>\n",
       "      <td>VS2</td>\n",
       "      <td>62.4</td>\n",
       "      <td>58.0</td>\n",
       "      <td>4.20</td>\n",
       "      <td>4.23</td>\n",
       "      <td>2.63</td>\n",
       "    </tr>\n",
       "    <tr>\n",
       "      <th>4</th>\n",
       "      <td>335</td>\n",
       "      <td>0.31</td>\n",
       "      <td>Good</td>\n",
       "      <td>J</td>\n",
       "      <td>SI2</td>\n",
       "      <td>63.3</td>\n",
       "      <td>58.0</td>\n",
       "      <td>4.34</td>\n",
       "      <td>4.35</td>\n",
       "      <td>2.75</td>\n",
       "    </tr>\n",
       "    <tr>\n",
       "      <th>5</th>\n",
       "      <td>336</td>\n",
       "      <td>0.24</td>\n",
       "      <td>Very Good</td>\n",
       "      <td>J</td>\n",
       "      <td>VVS2</td>\n",
       "      <td>NaN</td>\n",
       "      <td>57.0</td>\n",
       "      <td>3.94</td>\n",
       "      <td>3.96</td>\n",
       "      <td>2.48</td>\n",
       "    </tr>\n",
       "    <tr>\n",
       "      <th>6</th>\n",
       "      <td>336</td>\n",
       "      <td>0.24</td>\n",
       "      <td>Very Good</td>\n",
       "      <td>I</td>\n",
       "      <td>VVS1</td>\n",
       "      <td>62.3</td>\n",
       "      <td>57.0</td>\n",
       "      <td>3.95</td>\n",
       "      <td>3.98</td>\n",
       "      <td>2.47</td>\n",
       "    </tr>\n",
       "    <tr>\n",
       "      <th>7</th>\n",
       "      <td>337</td>\n",
       "      <td>0.26</td>\n",
       "      <td>Very Good</td>\n",
       "      <td>H</td>\n",
       "      <td>SI1</td>\n",
       "      <td>61.9</td>\n",
       "      <td>55.0</td>\n",
       "      <td>4.07</td>\n",
       "      <td>4.11</td>\n",
       "      <td>2.53</td>\n",
       "    </tr>\n",
       "    <tr>\n",
       "      <th>8</th>\n",
       "      <td>337</td>\n",
       "      <td>0.22</td>\n",
       "      <td>Fair</td>\n",
       "      <td>E</td>\n",
       "      <td>VS2</td>\n",
       "      <td>65.1</td>\n",
       "      <td>61.0</td>\n",
       "      <td>3.87</td>\n",
       "      <td>3.78</td>\n",
       "      <td>2.49</td>\n",
       "    </tr>\n",
       "    <tr>\n",
       "      <th>9</th>\n",
       "      <td>338</td>\n",
       "      <td>0.23</td>\n",
       "      <td>Very Good</td>\n",
       "      <td>H</td>\n",
       "      <td>VS1</td>\n",
       "      <td>59.4</td>\n",
       "      <td>61.0</td>\n",
       "      <td>4.00</td>\n",
       "      <td>4.05</td>\n",
       "      <td>2.39</td>\n",
       "    </tr>\n",
       "    <tr>\n",
       "      <th>10</th>\n",
       "      <td>339</td>\n",
       "      <td>0.30</td>\n",
       "      <td>Good</td>\n",
       "      <td>J</td>\n",
       "      <td>SI1</td>\n",
       "      <td>64.0</td>\n",
       "      <td>55.0</td>\n",
       "      <td>4.25</td>\n",
       "      <td>4.28</td>\n",
       "      <td>2.73</td>\n",
       "    </tr>\n",
       "    <tr>\n",
       "      <th>11</th>\n",
       "      <td>340</td>\n",
       "      <td>0.23</td>\n",
       "      <td>Ideal</td>\n",
       "      <td>J</td>\n",
       "      <td>VS1</td>\n",
       "      <td>62.8</td>\n",
       "      <td>56.0</td>\n",
       "      <td>3.93</td>\n",
       "      <td>3.90</td>\n",
       "      <td>2.46</td>\n",
       "    </tr>\n",
       "    <tr>\n",
       "      <th>12</th>\n",
       "      <td>342</td>\n",
       "      <td>0.22</td>\n",
       "      <td>Premium</td>\n",
       "      <td>F</td>\n",
       "      <td>SI1</td>\n",
       "      <td>NaN</td>\n",
       "      <td>61.0</td>\n",
       "      <td>3.88</td>\n",
       "      <td>3.84</td>\n",
       "      <td>2.33</td>\n",
       "    </tr>\n",
       "    <tr>\n",
       "      <th>13</th>\n",
       "      <td>344</td>\n",
       "      <td>0.31</td>\n",
       "      <td>Ideal</td>\n",
       "      <td>J</td>\n",
       "      <td>SI2</td>\n",
       "      <td>62.2</td>\n",
       "      <td>54.0</td>\n",
       "      <td>4.35</td>\n",
       "      <td>4.37</td>\n",
       "      <td>2.71</td>\n",
       "    </tr>\n",
       "    <tr>\n",
       "      <th>14</th>\n",
       "      <td>345</td>\n",
       "      <td>0.20</td>\n",
       "      <td>Premium</td>\n",
       "      <td>E</td>\n",
       "      <td>SI2</td>\n",
       "      <td>60.2</td>\n",
       "      <td>62.0</td>\n",
       "      <td>3.79</td>\n",
       "      <td>3.75</td>\n",
       "      <td>2.27</td>\n",
       "    </tr>\n",
       "  </tbody>\n",
       "</table>\n",
       "</div>"
      ],
      "text/plain": [
       "    price  carat        cut color clarity  depth  table     x     y     z\n",
       "0     326   0.23      Ideal     E     SI2   61.5   55.0  3.95  3.98  2.43\n",
       "1     326   0.21    Premium     E     SI1   59.8   61.0  3.89  3.84  2.31\n",
       "2     327   0.23       Good     E     VS1   56.9   65.0  4.05  4.07  2.31\n",
       "3     334   0.29    Premium     I     VS2   62.4   58.0  4.20  4.23  2.63\n",
       "4     335   0.31       Good     J     SI2   63.3   58.0  4.34  4.35  2.75\n",
       "5     336   0.24  Very Good     J    VVS2    NaN   57.0  3.94  3.96  2.48\n",
       "6     336   0.24  Very Good     I    VVS1   62.3   57.0  3.95  3.98  2.47\n",
       "7     337   0.26  Very Good     H     SI1   61.9   55.0  4.07  4.11  2.53\n",
       "8     337   0.22       Fair     E     VS2   65.1   61.0  3.87  3.78  2.49\n",
       "9     338   0.23  Very Good     H     VS1   59.4   61.0  4.00  4.05  2.39\n",
       "10    339   0.30       Good     J     SI1   64.0   55.0  4.25  4.28  2.73\n",
       "11    340   0.23      Ideal     J     VS1   62.8   56.0  3.93  3.90  2.46\n",
       "12    342   0.22    Premium     F     SI1    NaN   61.0  3.88  3.84  2.33\n",
       "13    344   0.31      Ideal     J     SI2   62.2   54.0  4.35  4.37  2.71\n",
       "14    345   0.20    Premium     E     SI2   60.2   62.0  3.79  3.75  2.27"
      ]
     },
     "execution_count": 127,
     "metadata": {},
     "output_type": "execute_result"
    }
   ],
   "source": [
    "DiamondPricesData.head(15)"
   ]
  },
  {
   "cell_type": "code",
   "execution_count": 128,
   "id": "f5e7bbf7",
   "metadata": {},
   "outputs": [
    {
     "data": {
      "text/html": [
       "<div>\n",
       "<style scoped>\n",
       "    .dataframe tbody tr th:only-of-type {\n",
       "        vertical-align: middle;\n",
       "    }\n",
       "\n",
       "    .dataframe tbody tr th {\n",
       "        vertical-align: top;\n",
       "    }\n",
       "\n",
       "    .dataframe thead th {\n",
       "        text-align: right;\n",
       "    }\n",
       "</style>\n",
       "<table border=\"1\" class=\"dataframe\">\n",
       "  <thead>\n",
       "    <tr style=\"text-align: right;\">\n",
       "      <th></th>\n",
       "      <th>price</th>\n",
       "      <th>carat</th>\n",
       "      <th>cut</th>\n",
       "      <th>color</th>\n",
       "      <th>clarity</th>\n",
       "      <th>depth</th>\n",
       "      <th>table</th>\n",
       "      <th>x</th>\n",
       "      <th>y</th>\n",
       "      <th>z</th>\n",
       "    </tr>\n",
       "  </thead>\n",
       "  <tbody>\n",
       "    <tr>\n",
       "      <th>0</th>\n",
       "      <td>326</td>\n",
       "      <td>0.23</td>\n",
       "      <td>Ideal</td>\n",
       "      <td>E</td>\n",
       "      <td>SI2</td>\n",
       "      <td>61.5</td>\n",
       "      <td>55.0</td>\n",
       "      <td>3.95</td>\n",
       "      <td>3.98</td>\n",
       "      <td>2.43</td>\n",
       "    </tr>\n",
       "    <tr>\n",
       "      <th>1</th>\n",
       "      <td>326</td>\n",
       "      <td>0.21</td>\n",
       "      <td>Premium</td>\n",
       "      <td>E</td>\n",
       "      <td>SI1</td>\n",
       "      <td>59.8</td>\n",
       "      <td>61.0</td>\n",
       "      <td>3.89</td>\n",
       "      <td>3.84</td>\n",
       "      <td>2.31</td>\n",
       "    </tr>\n",
       "    <tr>\n",
       "      <th>2</th>\n",
       "      <td>327</td>\n",
       "      <td>0.23</td>\n",
       "      <td>Good</td>\n",
       "      <td>E</td>\n",
       "      <td>VS1</td>\n",
       "      <td>56.9</td>\n",
       "      <td>65.0</td>\n",
       "      <td>4.05</td>\n",
       "      <td>4.07</td>\n",
       "      <td>2.31</td>\n",
       "    </tr>\n",
       "    <tr>\n",
       "      <th>3</th>\n",
       "      <td>334</td>\n",
       "      <td>0.29</td>\n",
       "      <td>Premium</td>\n",
       "      <td>I</td>\n",
       "      <td>VS2</td>\n",
       "      <td>62.4</td>\n",
       "      <td>58.0</td>\n",
       "      <td>4.20</td>\n",
       "      <td>4.23</td>\n",
       "      <td>2.63</td>\n",
       "    </tr>\n",
       "    <tr>\n",
       "      <th>4</th>\n",
       "      <td>335</td>\n",
       "      <td>0.31</td>\n",
       "      <td>Good</td>\n",
       "      <td>J</td>\n",
       "      <td>SI2</td>\n",
       "      <td>63.3</td>\n",
       "      <td>58.0</td>\n",
       "      <td>4.34</td>\n",
       "      <td>4.35</td>\n",
       "      <td>2.75</td>\n",
       "    </tr>\n",
       "    <tr>\n",
       "      <th>...</th>\n",
       "      <td>...</td>\n",
       "      <td>...</td>\n",
       "      <td>...</td>\n",
       "      <td>...</td>\n",
       "      <td>...</td>\n",
       "      <td>...</td>\n",
       "      <td>...</td>\n",
       "      <td>...</td>\n",
       "      <td>...</td>\n",
       "      <td>...</td>\n",
       "    </tr>\n",
       "    <tr>\n",
       "      <th>53935</th>\n",
       "      <td>2757</td>\n",
       "      <td>0.72</td>\n",
       "      <td>Ideal</td>\n",
       "      <td>D</td>\n",
       "      <td>SI1</td>\n",
       "      <td>60.8</td>\n",
       "      <td>57.0</td>\n",
       "      <td>5.75</td>\n",
       "      <td>5.76</td>\n",
       "      <td>3.50</td>\n",
       "    </tr>\n",
       "    <tr>\n",
       "      <th>53936</th>\n",
       "      <td>2757</td>\n",
       "      <td>0.72</td>\n",
       "      <td>Good</td>\n",
       "      <td>D</td>\n",
       "      <td>SI1</td>\n",
       "      <td>63.1</td>\n",
       "      <td>55.0</td>\n",
       "      <td>5.69</td>\n",
       "      <td>5.75</td>\n",
       "      <td>3.61</td>\n",
       "    </tr>\n",
       "    <tr>\n",
       "      <th>53937</th>\n",
       "      <td>2757</td>\n",
       "      <td>0.70</td>\n",
       "      <td>Very Good</td>\n",
       "      <td>D</td>\n",
       "      <td>SI1</td>\n",
       "      <td>62.8</td>\n",
       "      <td>60.0</td>\n",
       "      <td>5.66</td>\n",
       "      <td>5.68</td>\n",
       "      <td>3.56</td>\n",
       "    </tr>\n",
       "    <tr>\n",
       "      <th>53938</th>\n",
       "      <td>2757</td>\n",
       "      <td>0.86</td>\n",
       "      <td>Premium</td>\n",
       "      <td>H</td>\n",
       "      <td>SI2</td>\n",
       "      <td>61.0</td>\n",
       "      <td>58.0</td>\n",
       "      <td>6.15</td>\n",
       "      <td>6.12</td>\n",
       "      <td>3.74</td>\n",
       "    </tr>\n",
       "    <tr>\n",
       "      <th>53939</th>\n",
       "      <td>2757</td>\n",
       "      <td>0.75</td>\n",
       "      <td>Ideal</td>\n",
       "      <td>D</td>\n",
       "      <td>SI2</td>\n",
       "      <td>62.2</td>\n",
       "      <td>55.0</td>\n",
       "      <td>5.83</td>\n",
       "      <td>5.87</td>\n",
       "      <td>3.64</td>\n",
       "    </tr>\n",
       "  </tbody>\n",
       "</table>\n",
       "<p>53940 rows × 10 columns</p>\n",
       "</div>"
      ],
      "text/plain": [
       "       price  carat        cut color clarity  depth  table     x     y     z\n",
       "0        326   0.23      Ideal     E     SI2   61.5   55.0  3.95  3.98  2.43\n",
       "1        326   0.21    Premium     E     SI1   59.8   61.0  3.89  3.84  2.31\n",
       "2        327   0.23       Good     E     VS1   56.9   65.0  4.05  4.07  2.31\n",
       "3        334   0.29    Premium     I     VS2   62.4   58.0  4.20  4.23  2.63\n",
       "4        335   0.31       Good     J     SI2   63.3   58.0  4.34  4.35  2.75\n",
       "...      ...    ...        ...   ...     ...    ...    ...   ...   ...   ...\n",
       "53935   2757   0.72      Ideal     D     SI1   60.8   57.0  5.75  5.76  3.50\n",
       "53936   2757   0.72       Good     D     SI1   63.1   55.0  5.69  5.75  3.61\n",
       "53937   2757   0.70  Very Good     D     SI1   62.8   60.0  5.66  5.68  3.56\n",
       "53938   2757   0.86    Premium     H     SI2   61.0   58.0  6.15  6.12  3.74\n",
       "53939   2757   0.75      Ideal     D     SI2   62.2   55.0  5.83  5.87  3.64\n",
       "\n",
       "[53940 rows x 10 columns]"
      ]
     },
     "execution_count": 128,
     "metadata": {},
     "output_type": "execute_result"
    }
   ],
   "source": [
    "DiamondPricesData"
   ]
  },
  {
   "cell_type": "code",
   "execution_count": 129,
   "id": "74f5be4d",
   "metadata": {},
   "outputs": [],
   "source": [
    "DiamondPricesData['clarity'].replace({'SI':' '},inplace=True)"
   ]
  },
  {
   "cell_type": "code",
   "execution_count": 130,
   "id": "407b7156",
   "metadata": {},
   "outputs": [
    {
     "name": "stdout",
     "output_type": "stream",
     "text": [
      "<class 'pandas.core.frame.DataFrame'>\n",
      "RangeIndex: 53940 entries, 0 to 53939\n",
      "Data columns (total 10 columns):\n",
      " #   Column   Non-Null Count  Dtype  \n",
      "---  ------   --------------  -----  \n",
      " 0   price    53940 non-null  int64  \n",
      " 1   carat    53940 non-null  float64\n",
      " 2   cut      53940 non-null  object \n",
      " 3   color    53934 non-null  object \n",
      " 4   clarity  53940 non-null  object \n",
      " 5   depth    53926 non-null  float64\n",
      " 6   table    53940 non-null  float64\n",
      " 7   x        53940 non-null  float64\n",
      " 8   y        53940 non-null  float64\n",
      " 9   z        53940 non-null  float64\n",
      "dtypes: float64(6), int64(1), object(3)\n",
      "memory usage: 4.1+ MB\n"
     ]
    }
   ],
   "source": [
    "DiamondPricesData.info()"
   ]
  },
  {
   "cell_type": "code",
   "execution_count": 131,
   "id": "84997b40",
   "metadata": {},
   "outputs": [
    {
     "data": {
      "text/plain": [
       "price      11602\n",
       "carat        273\n",
       "cut            5\n",
       "color          7\n",
       "clarity        8\n",
       "depth        184\n",
       "table        127\n",
       "x            554\n",
       "y            552\n",
       "z            375\n",
       "dtype: int64"
      ]
     },
     "execution_count": 131,
     "metadata": {},
     "output_type": "execute_result"
    }
   ],
   "source": [
    "DiamondPricesData.nunique()"
   ]
  },
  {
   "cell_type": "code",
   "execution_count": 132,
   "id": "f0b4c765",
   "metadata": {},
   "outputs": [],
   "source": [
    "DiamondPricesData.rename(columns={'x':'Width',\n",
    "                                'y':'Length',\n",
    "                                  'z':'Height' },inplace=True)"
   ]
  },
  {
   "cell_type": "code",
   "execution_count": 133,
   "id": "8cb41fd9",
   "metadata": {},
   "outputs": [
    {
     "data": {
      "text/html": [
       "<div>\n",
       "<style scoped>\n",
       "    .dataframe tbody tr th:only-of-type {\n",
       "        vertical-align: middle;\n",
       "    }\n",
       "\n",
       "    .dataframe tbody tr th {\n",
       "        vertical-align: top;\n",
       "    }\n",
       "\n",
       "    .dataframe thead th {\n",
       "        text-align: right;\n",
       "    }\n",
       "</style>\n",
       "<table border=\"1\" class=\"dataframe\">\n",
       "  <thead>\n",
       "    <tr style=\"text-align: right;\">\n",
       "      <th></th>\n",
       "      <th>price</th>\n",
       "      <th>carat</th>\n",
       "      <th>cut</th>\n",
       "      <th>color</th>\n",
       "      <th>clarity</th>\n",
       "      <th>depth</th>\n",
       "      <th>table</th>\n",
       "      <th>Width</th>\n",
       "      <th>Length</th>\n",
       "      <th>Height</th>\n",
       "    </tr>\n",
       "  </thead>\n",
       "  <tbody>\n",
       "    <tr>\n",
       "      <th>0</th>\n",
       "      <td>326</td>\n",
       "      <td>0.23</td>\n",
       "      <td>Ideal</td>\n",
       "      <td>E</td>\n",
       "      <td>SI2</td>\n",
       "      <td>61.5</td>\n",
       "      <td>55.0</td>\n",
       "      <td>3.95</td>\n",
       "      <td>3.98</td>\n",
       "      <td>2.43</td>\n",
       "    </tr>\n",
       "    <tr>\n",
       "      <th>1</th>\n",
       "      <td>326</td>\n",
       "      <td>0.21</td>\n",
       "      <td>Premium</td>\n",
       "      <td>E</td>\n",
       "      <td>SI1</td>\n",
       "      <td>59.8</td>\n",
       "      <td>61.0</td>\n",
       "      <td>3.89</td>\n",
       "      <td>3.84</td>\n",
       "      <td>2.31</td>\n",
       "    </tr>\n",
       "    <tr>\n",
       "      <th>2</th>\n",
       "      <td>327</td>\n",
       "      <td>0.23</td>\n",
       "      <td>Good</td>\n",
       "      <td>E</td>\n",
       "      <td>VS1</td>\n",
       "      <td>56.9</td>\n",
       "      <td>65.0</td>\n",
       "      <td>4.05</td>\n",
       "      <td>4.07</td>\n",
       "      <td>2.31</td>\n",
       "    </tr>\n",
       "    <tr>\n",
       "      <th>3</th>\n",
       "      <td>334</td>\n",
       "      <td>0.29</td>\n",
       "      <td>Premium</td>\n",
       "      <td>I</td>\n",
       "      <td>VS2</td>\n",
       "      <td>62.4</td>\n",
       "      <td>58.0</td>\n",
       "      <td>4.20</td>\n",
       "      <td>4.23</td>\n",
       "      <td>2.63</td>\n",
       "    </tr>\n",
       "    <tr>\n",
       "      <th>4</th>\n",
       "      <td>335</td>\n",
       "      <td>0.31</td>\n",
       "      <td>Good</td>\n",
       "      <td>J</td>\n",
       "      <td>SI2</td>\n",
       "      <td>63.3</td>\n",
       "      <td>58.0</td>\n",
       "      <td>4.34</td>\n",
       "      <td>4.35</td>\n",
       "      <td>2.75</td>\n",
       "    </tr>\n",
       "    <tr>\n",
       "      <th>5</th>\n",
       "      <td>336</td>\n",
       "      <td>0.24</td>\n",
       "      <td>Very Good</td>\n",
       "      <td>J</td>\n",
       "      <td>VVS2</td>\n",
       "      <td>NaN</td>\n",
       "      <td>57.0</td>\n",
       "      <td>3.94</td>\n",
       "      <td>3.96</td>\n",
       "      <td>2.48</td>\n",
       "    </tr>\n",
       "    <tr>\n",
       "      <th>6</th>\n",
       "      <td>336</td>\n",
       "      <td>0.24</td>\n",
       "      <td>Very Good</td>\n",
       "      <td>I</td>\n",
       "      <td>VVS1</td>\n",
       "      <td>62.3</td>\n",
       "      <td>57.0</td>\n",
       "      <td>3.95</td>\n",
       "      <td>3.98</td>\n",
       "      <td>2.47</td>\n",
       "    </tr>\n",
       "    <tr>\n",
       "      <th>7</th>\n",
       "      <td>337</td>\n",
       "      <td>0.26</td>\n",
       "      <td>Very Good</td>\n",
       "      <td>H</td>\n",
       "      <td>SI1</td>\n",
       "      <td>61.9</td>\n",
       "      <td>55.0</td>\n",
       "      <td>4.07</td>\n",
       "      <td>4.11</td>\n",
       "      <td>2.53</td>\n",
       "    </tr>\n",
       "    <tr>\n",
       "      <th>8</th>\n",
       "      <td>337</td>\n",
       "      <td>0.22</td>\n",
       "      <td>Fair</td>\n",
       "      <td>E</td>\n",
       "      <td>VS2</td>\n",
       "      <td>65.1</td>\n",
       "      <td>61.0</td>\n",
       "      <td>3.87</td>\n",
       "      <td>3.78</td>\n",
       "      <td>2.49</td>\n",
       "    </tr>\n",
       "    <tr>\n",
       "      <th>9</th>\n",
       "      <td>338</td>\n",
       "      <td>0.23</td>\n",
       "      <td>Very Good</td>\n",
       "      <td>H</td>\n",
       "      <td>VS1</td>\n",
       "      <td>59.4</td>\n",
       "      <td>61.0</td>\n",
       "      <td>4.00</td>\n",
       "      <td>4.05</td>\n",
       "      <td>2.39</td>\n",
       "    </tr>\n",
       "  </tbody>\n",
       "</table>\n",
       "</div>"
      ],
      "text/plain": [
       "   price  carat        cut color clarity  depth  table  Width  Length  Height\n",
       "0    326   0.23      Ideal     E     SI2   61.5   55.0   3.95    3.98    2.43\n",
       "1    326   0.21    Premium     E     SI1   59.8   61.0   3.89    3.84    2.31\n",
       "2    327   0.23       Good     E     VS1   56.9   65.0   4.05    4.07    2.31\n",
       "3    334   0.29    Premium     I     VS2   62.4   58.0   4.20    4.23    2.63\n",
       "4    335   0.31       Good     J     SI2   63.3   58.0   4.34    4.35    2.75\n",
       "5    336   0.24  Very Good     J    VVS2    NaN   57.0   3.94    3.96    2.48\n",
       "6    336   0.24  Very Good     I    VVS1   62.3   57.0   3.95    3.98    2.47\n",
       "7    337   0.26  Very Good     H     SI1   61.9   55.0   4.07    4.11    2.53\n",
       "8    337   0.22       Fair     E     VS2   65.1   61.0   3.87    3.78    2.49\n",
       "9    338   0.23  Very Good     H     VS1   59.4   61.0   4.00    4.05    2.39"
      ]
     },
     "execution_count": 133,
     "metadata": {},
     "output_type": "execute_result"
    }
   ],
   "source": [
    "DiamondPricesData.head(10)"
   ]
  },
  {
   "cell_type": "code",
   "execution_count": 134,
   "id": "84b20f3e",
   "metadata": {},
   "outputs": [
    {
     "data": {
      "text/html": [
       "<div>\n",
       "<style scoped>\n",
       "    .dataframe tbody tr th:only-of-type {\n",
       "        vertical-align: middle;\n",
       "    }\n",
       "\n",
       "    .dataframe tbody tr th {\n",
       "        vertical-align: top;\n",
       "    }\n",
       "\n",
       "    .dataframe thead th {\n",
       "        text-align: right;\n",
       "    }\n",
       "</style>\n",
       "<table border=\"1\" class=\"dataframe\">\n",
       "  <thead>\n",
       "    <tr style=\"text-align: right;\">\n",
       "      <th></th>\n",
       "      <th>price</th>\n",
       "      <th>carat</th>\n",
       "      <th>cut</th>\n",
       "      <th>color</th>\n",
       "      <th>clarity</th>\n",
       "      <th>depth</th>\n",
       "      <th>table</th>\n",
       "      <th>Length</th>\n",
       "      <th>Width</th>\n",
       "      <th>Height</th>\n",
       "    </tr>\n",
       "  </thead>\n",
       "  <tbody>\n",
       "    <tr>\n",
       "      <th>0</th>\n",
       "      <td>326</td>\n",
       "      <td>0.23</td>\n",
       "      <td>Ideal</td>\n",
       "      <td>E</td>\n",
       "      <td>SI2</td>\n",
       "      <td>61.5</td>\n",
       "      <td>55.0</td>\n",
       "      <td>3.98</td>\n",
       "      <td>3.95</td>\n",
       "      <td>2.43</td>\n",
       "    </tr>\n",
       "    <tr>\n",
       "      <th>1</th>\n",
       "      <td>326</td>\n",
       "      <td>0.21</td>\n",
       "      <td>Premium</td>\n",
       "      <td>E</td>\n",
       "      <td>SI1</td>\n",
       "      <td>59.8</td>\n",
       "      <td>61.0</td>\n",
       "      <td>3.84</td>\n",
       "      <td>3.89</td>\n",
       "      <td>2.31</td>\n",
       "    </tr>\n",
       "    <tr>\n",
       "      <th>2</th>\n",
       "      <td>327</td>\n",
       "      <td>0.23</td>\n",
       "      <td>Good</td>\n",
       "      <td>E</td>\n",
       "      <td>VS1</td>\n",
       "      <td>56.9</td>\n",
       "      <td>65.0</td>\n",
       "      <td>4.07</td>\n",
       "      <td>4.05</td>\n",
       "      <td>2.31</td>\n",
       "    </tr>\n",
       "    <tr>\n",
       "      <th>3</th>\n",
       "      <td>334</td>\n",
       "      <td>0.29</td>\n",
       "      <td>Premium</td>\n",
       "      <td>I</td>\n",
       "      <td>VS2</td>\n",
       "      <td>62.4</td>\n",
       "      <td>58.0</td>\n",
       "      <td>4.23</td>\n",
       "      <td>4.20</td>\n",
       "      <td>2.63</td>\n",
       "    </tr>\n",
       "    <tr>\n",
       "      <th>4</th>\n",
       "      <td>335</td>\n",
       "      <td>0.31</td>\n",
       "      <td>Good</td>\n",
       "      <td>J</td>\n",
       "      <td>SI2</td>\n",
       "      <td>63.3</td>\n",
       "      <td>58.0</td>\n",
       "      <td>4.35</td>\n",
       "      <td>4.34</td>\n",
       "      <td>2.75</td>\n",
       "    </tr>\n",
       "    <tr>\n",
       "      <th>5</th>\n",
       "      <td>336</td>\n",
       "      <td>0.24</td>\n",
       "      <td>Very Good</td>\n",
       "      <td>J</td>\n",
       "      <td>VVS2</td>\n",
       "      <td>NaN</td>\n",
       "      <td>57.0</td>\n",
       "      <td>3.96</td>\n",
       "      <td>3.94</td>\n",
       "      <td>2.48</td>\n",
       "    </tr>\n",
       "    <tr>\n",
       "      <th>6</th>\n",
       "      <td>336</td>\n",
       "      <td>0.24</td>\n",
       "      <td>Very Good</td>\n",
       "      <td>I</td>\n",
       "      <td>VVS1</td>\n",
       "      <td>62.3</td>\n",
       "      <td>57.0</td>\n",
       "      <td>3.98</td>\n",
       "      <td>3.95</td>\n",
       "      <td>2.47</td>\n",
       "    </tr>\n",
       "    <tr>\n",
       "      <th>7</th>\n",
       "      <td>337</td>\n",
       "      <td>0.26</td>\n",
       "      <td>Very Good</td>\n",
       "      <td>H</td>\n",
       "      <td>SI1</td>\n",
       "      <td>61.9</td>\n",
       "      <td>55.0</td>\n",
       "      <td>4.11</td>\n",
       "      <td>4.07</td>\n",
       "      <td>2.53</td>\n",
       "    </tr>\n",
       "    <tr>\n",
       "      <th>8</th>\n",
       "      <td>337</td>\n",
       "      <td>0.22</td>\n",
       "      <td>Fair</td>\n",
       "      <td>E</td>\n",
       "      <td>VS2</td>\n",
       "      <td>65.1</td>\n",
       "      <td>61.0</td>\n",
       "      <td>3.78</td>\n",
       "      <td>3.87</td>\n",
       "      <td>2.49</td>\n",
       "    </tr>\n",
       "    <tr>\n",
       "      <th>9</th>\n",
       "      <td>338</td>\n",
       "      <td>0.23</td>\n",
       "      <td>Very Good</td>\n",
       "      <td>H</td>\n",
       "      <td>VS1</td>\n",
       "      <td>59.4</td>\n",
       "      <td>61.0</td>\n",
       "      <td>4.05</td>\n",
       "      <td>4.00</td>\n",
       "      <td>2.39</td>\n",
       "    </tr>\n",
       "  </tbody>\n",
       "</table>\n",
       "</div>"
      ],
      "text/plain": [
       "   price  carat        cut color clarity  depth  table  Length  Width  Height\n",
       "0    326   0.23      Ideal     E     SI2   61.5   55.0    3.98   3.95    2.43\n",
       "1    326   0.21    Premium     E     SI1   59.8   61.0    3.84   3.89    2.31\n",
       "2    327   0.23       Good     E     VS1   56.9   65.0    4.07   4.05    2.31\n",
       "3    334   0.29    Premium     I     VS2   62.4   58.0    4.23   4.20    2.63\n",
       "4    335   0.31       Good     J     SI2   63.3   58.0    4.35   4.34    2.75\n",
       "5    336   0.24  Very Good     J    VVS2    NaN   57.0    3.96   3.94    2.48\n",
       "6    336   0.24  Very Good     I    VVS1   62.3   57.0    3.98   3.95    2.47\n",
       "7    337   0.26  Very Good     H     SI1   61.9   55.0    4.11   4.07    2.53\n",
       "8    337   0.22       Fair     E     VS2   65.1   61.0    3.78   3.87    2.49\n",
       "9    338   0.23  Very Good     H     VS1   59.4   61.0    4.05   4.00    2.39"
      ]
     },
     "execution_count": 134,
     "metadata": {},
     "output_type": "execute_result"
    }
   ],
   "source": [
    "\n",
    "A=['price','carat','cut','color','clarity','depth','table','Length','Width','Height']\n",
    "DiamondPricesData=DiamondPricesData[A]\n",
    "DiamondPricesData.head(10)\n"
   ]
  },
  {
   "cell_type": "code",
   "execution_count": 135,
   "id": "478723bb",
   "metadata": {},
   "outputs": [
    {
     "name": "stderr",
     "output_type": "stream",
     "text": [
      "<ipython-input-135-9c889515d710>:1: SettingWithCopyWarning: \n",
      "A value is trying to be set on a copy of a slice from a DataFrame.\n",
      "Try using .loc[row_indexer,col_indexer] = value instead\n",
      "\n",
      "See the caveats in the documentation: https://pandas.pydata.org/pandas-docs/stable/user_guide/indexing.html#returning-a-view-versus-a-copy\n",
      "  DiamondPricesData['Total Dimension In M3']=DiamondPricesData['Length']*DiamondPricesData['Width']*DiamondPricesData['Height']\n"
     ]
    },
    {
     "data": {
      "text/html": [
       "<div>\n",
       "<style scoped>\n",
       "    .dataframe tbody tr th:only-of-type {\n",
       "        vertical-align: middle;\n",
       "    }\n",
       "\n",
       "    .dataframe tbody tr th {\n",
       "        vertical-align: top;\n",
       "    }\n",
       "\n",
       "    .dataframe thead th {\n",
       "        text-align: right;\n",
       "    }\n",
       "</style>\n",
       "<table border=\"1\" class=\"dataframe\">\n",
       "  <thead>\n",
       "    <tr style=\"text-align: right;\">\n",
       "      <th></th>\n",
       "      <th>price</th>\n",
       "      <th>carat</th>\n",
       "      <th>cut</th>\n",
       "      <th>color</th>\n",
       "      <th>clarity</th>\n",
       "      <th>depth</th>\n",
       "      <th>table</th>\n",
       "      <th>Length</th>\n",
       "      <th>Width</th>\n",
       "      <th>Height</th>\n",
       "      <th>Total Dimension In M3</th>\n",
       "    </tr>\n",
       "  </thead>\n",
       "  <tbody>\n",
       "    <tr>\n",
       "      <th>0</th>\n",
       "      <td>326</td>\n",
       "      <td>0.23</td>\n",
       "      <td>Ideal</td>\n",
       "      <td>E</td>\n",
       "      <td>SI2</td>\n",
       "      <td>61.5</td>\n",
       "      <td>55.0</td>\n",
       "      <td>3.98</td>\n",
       "      <td>3.95</td>\n",
       "      <td>2.43</td>\n",
       "      <td>38.202030</td>\n",
       "    </tr>\n",
       "    <tr>\n",
       "      <th>1</th>\n",
       "      <td>326</td>\n",
       "      <td>0.21</td>\n",
       "      <td>Premium</td>\n",
       "      <td>E</td>\n",
       "      <td>SI1</td>\n",
       "      <td>59.8</td>\n",
       "      <td>61.0</td>\n",
       "      <td>3.84</td>\n",
       "      <td>3.89</td>\n",
       "      <td>2.31</td>\n",
       "      <td>34.505856</td>\n",
       "    </tr>\n",
       "    <tr>\n",
       "      <th>2</th>\n",
       "      <td>327</td>\n",
       "      <td>0.23</td>\n",
       "      <td>Good</td>\n",
       "      <td>E</td>\n",
       "      <td>VS1</td>\n",
       "      <td>56.9</td>\n",
       "      <td>65.0</td>\n",
       "      <td>4.07</td>\n",
       "      <td>4.05</td>\n",
       "      <td>2.31</td>\n",
       "      <td>38.076885</td>\n",
       "    </tr>\n",
       "    <tr>\n",
       "      <th>3</th>\n",
       "      <td>334</td>\n",
       "      <td>0.29</td>\n",
       "      <td>Premium</td>\n",
       "      <td>I</td>\n",
       "      <td>VS2</td>\n",
       "      <td>62.4</td>\n",
       "      <td>58.0</td>\n",
       "      <td>4.23</td>\n",
       "      <td>4.20</td>\n",
       "      <td>2.63</td>\n",
       "      <td>46.724580</td>\n",
       "    </tr>\n",
       "    <tr>\n",
       "      <th>4</th>\n",
       "      <td>335</td>\n",
       "      <td>0.31</td>\n",
       "      <td>Good</td>\n",
       "      <td>J</td>\n",
       "      <td>SI2</td>\n",
       "      <td>63.3</td>\n",
       "      <td>58.0</td>\n",
       "      <td>4.35</td>\n",
       "      <td>4.34</td>\n",
       "      <td>2.75</td>\n",
       "      <td>51.917250</td>\n",
       "    </tr>\n",
       "  </tbody>\n",
       "</table>\n",
       "</div>"
      ],
      "text/plain": [
       "   price  carat      cut color clarity  depth  table  Length  Width  Height  \\\n",
       "0    326   0.23    Ideal     E     SI2   61.5   55.0    3.98   3.95    2.43   \n",
       "1    326   0.21  Premium     E     SI1   59.8   61.0    3.84   3.89    2.31   \n",
       "2    327   0.23     Good     E     VS1   56.9   65.0    4.07   4.05    2.31   \n",
       "3    334   0.29  Premium     I     VS2   62.4   58.0    4.23   4.20    2.63   \n",
       "4    335   0.31     Good     J     SI2   63.3   58.0    4.35   4.34    2.75   \n",
       "\n",
       "   Total Dimension In M3  \n",
       "0              38.202030  \n",
       "1              34.505856  \n",
       "2              38.076885  \n",
       "3              46.724580  \n",
       "4              51.917250  "
      ]
     },
     "execution_count": 135,
     "metadata": {},
     "output_type": "execute_result"
    }
   ],
   "source": [
    "DiamondPricesData['Total Dimension In M3']=DiamondPricesData['Length']*DiamondPricesData['Width']*DiamondPricesData['Height']\n",
    "DiamondPricesData.head()"
   ]
  },
  {
   "cell_type": "code",
   "execution_count": 136,
   "id": "618f608b",
   "metadata": {},
   "outputs": [
    {
     "data": {
      "text/html": [
       "<div>\n",
       "<style scoped>\n",
       "    .dataframe tbody tr th:only-of-type {\n",
       "        vertical-align: middle;\n",
       "    }\n",
       "\n",
       "    .dataframe tbody tr th {\n",
       "        vertical-align: top;\n",
       "    }\n",
       "\n",
       "    .dataframe thead th {\n",
       "        text-align: right;\n",
       "    }\n",
       "</style>\n",
       "<table border=\"1\" class=\"dataframe\">\n",
       "  <thead>\n",
       "    <tr style=\"text-align: right;\">\n",
       "      <th></th>\n",
       "      <th>price</th>\n",
       "      <th>carat</th>\n",
       "      <th>cut</th>\n",
       "      <th>color</th>\n",
       "      <th>clarity</th>\n",
       "      <th>depth</th>\n",
       "      <th>table</th>\n",
       "      <th>Length</th>\n",
       "      <th>Width</th>\n",
       "      <th>Height</th>\n",
       "    </tr>\n",
       "  </thead>\n",
       "  <tbody>\n",
       "    <tr>\n",
       "      <th>0</th>\n",
       "      <td>326</td>\n",
       "      <td>0.23</td>\n",
       "      <td>Ideal</td>\n",
       "      <td>E</td>\n",
       "      <td>SI2</td>\n",
       "      <td>61.5</td>\n",
       "      <td>55.0</td>\n",
       "      <td>3.98</td>\n",
       "      <td>3.95</td>\n",
       "      <td>2.43</td>\n",
       "    </tr>\n",
       "    <tr>\n",
       "      <th>1</th>\n",
       "      <td>326</td>\n",
       "      <td>0.21</td>\n",
       "      <td>Premium</td>\n",
       "      <td>E</td>\n",
       "      <td>SI1</td>\n",
       "      <td>59.8</td>\n",
       "      <td>61.0</td>\n",
       "      <td>3.84</td>\n",
       "      <td>3.89</td>\n",
       "      <td>2.31</td>\n",
       "    </tr>\n",
       "    <tr>\n",
       "      <th>2</th>\n",
       "      <td>327</td>\n",
       "      <td>0.23</td>\n",
       "      <td>Good</td>\n",
       "      <td>E</td>\n",
       "      <td>VS1</td>\n",
       "      <td>56.9</td>\n",
       "      <td>65.0</td>\n",
       "      <td>4.07</td>\n",
       "      <td>4.05</td>\n",
       "      <td>2.31</td>\n",
       "    </tr>\n",
       "    <tr>\n",
       "      <th>3</th>\n",
       "      <td>334</td>\n",
       "      <td>0.29</td>\n",
       "      <td>Premium</td>\n",
       "      <td>I</td>\n",
       "      <td>VS2</td>\n",
       "      <td>62.4</td>\n",
       "      <td>58.0</td>\n",
       "      <td>4.23</td>\n",
       "      <td>4.20</td>\n",
       "      <td>2.63</td>\n",
       "    </tr>\n",
       "    <tr>\n",
       "      <th>4</th>\n",
       "      <td>335</td>\n",
       "      <td>0.31</td>\n",
       "      <td>Good</td>\n",
       "      <td>J</td>\n",
       "      <td>SI2</td>\n",
       "      <td>63.3</td>\n",
       "      <td>58.0</td>\n",
       "      <td>4.35</td>\n",
       "      <td>4.34</td>\n",
       "      <td>2.75</td>\n",
       "    </tr>\n",
       "    <tr>\n",
       "      <th>5</th>\n",
       "      <td>336</td>\n",
       "      <td>0.24</td>\n",
       "      <td>Very Good</td>\n",
       "      <td>J</td>\n",
       "      <td>VVS2</td>\n",
       "      <td>NaN</td>\n",
       "      <td>57.0</td>\n",
       "      <td>3.96</td>\n",
       "      <td>3.94</td>\n",
       "      <td>2.48</td>\n",
       "    </tr>\n",
       "    <tr>\n",
       "      <th>6</th>\n",
       "      <td>336</td>\n",
       "      <td>0.24</td>\n",
       "      <td>Very Good</td>\n",
       "      <td>I</td>\n",
       "      <td>VVS1</td>\n",
       "      <td>62.3</td>\n",
       "      <td>57.0</td>\n",
       "      <td>3.98</td>\n",
       "      <td>3.95</td>\n",
       "      <td>2.47</td>\n",
       "    </tr>\n",
       "    <tr>\n",
       "      <th>7</th>\n",
       "      <td>337</td>\n",
       "      <td>0.26</td>\n",
       "      <td>Very Good</td>\n",
       "      <td>H</td>\n",
       "      <td>SI1</td>\n",
       "      <td>61.9</td>\n",
       "      <td>55.0</td>\n",
       "      <td>4.11</td>\n",
       "      <td>4.07</td>\n",
       "      <td>2.53</td>\n",
       "    </tr>\n",
       "    <tr>\n",
       "      <th>8</th>\n",
       "      <td>337</td>\n",
       "      <td>0.22</td>\n",
       "      <td>Fair</td>\n",
       "      <td>E</td>\n",
       "      <td>VS2</td>\n",
       "      <td>65.1</td>\n",
       "      <td>61.0</td>\n",
       "      <td>3.78</td>\n",
       "      <td>3.87</td>\n",
       "      <td>2.49</td>\n",
       "    </tr>\n",
       "    <tr>\n",
       "      <th>9</th>\n",
       "      <td>338</td>\n",
       "      <td>0.23</td>\n",
       "      <td>Very Good</td>\n",
       "      <td>H</td>\n",
       "      <td>VS1</td>\n",
       "      <td>59.4</td>\n",
       "      <td>61.0</td>\n",
       "      <td>4.05</td>\n",
       "      <td>4.00</td>\n",
       "      <td>2.39</td>\n",
       "    </tr>\n",
       "    <tr>\n",
       "      <th>10</th>\n",
       "      <td>339</td>\n",
       "      <td>0.30</td>\n",
       "      <td>Good</td>\n",
       "      <td>J</td>\n",
       "      <td>SI1</td>\n",
       "      <td>64.0</td>\n",
       "      <td>55.0</td>\n",
       "      <td>4.28</td>\n",
       "      <td>4.25</td>\n",
       "      <td>2.73</td>\n",
       "    </tr>\n",
       "    <tr>\n",
       "      <th>11</th>\n",
       "      <td>340</td>\n",
       "      <td>0.23</td>\n",
       "      <td>Ideal</td>\n",
       "      <td>J</td>\n",
       "      <td>VS1</td>\n",
       "      <td>62.8</td>\n",
       "      <td>56.0</td>\n",
       "      <td>3.90</td>\n",
       "      <td>3.93</td>\n",
       "      <td>2.46</td>\n",
       "    </tr>\n",
       "    <tr>\n",
       "      <th>12</th>\n",
       "      <td>342</td>\n",
       "      <td>0.22</td>\n",
       "      <td>Premium</td>\n",
       "      <td>F</td>\n",
       "      <td>SI1</td>\n",
       "      <td>NaN</td>\n",
       "      <td>61.0</td>\n",
       "      <td>3.84</td>\n",
       "      <td>3.88</td>\n",
       "      <td>2.33</td>\n",
       "    </tr>\n",
       "    <tr>\n",
       "      <th>13</th>\n",
       "      <td>344</td>\n",
       "      <td>0.31</td>\n",
       "      <td>Ideal</td>\n",
       "      <td>J</td>\n",
       "      <td>SI2</td>\n",
       "      <td>62.2</td>\n",
       "      <td>54.0</td>\n",
       "      <td>4.37</td>\n",
       "      <td>4.35</td>\n",
       "      <td>2.71</td>\n",
       "    </tr>\n",
       "    <tr>\n",
       "      <th>14</th>\n",
       "      <td>345</td>\n",
       "      <td>0.20</td>\n",
       "      <td>Premium</td>\n",
       "      <td>E</td>\n",
       "      <td>SI2</td>\n",
       "      <td>60.2</td>\n",
       "      <td>62.0</td>\n",
       "      <td>3.75</td>\n",
       "      <td>3.79</td>\n",
       "      <td>2.27</td>\n",
       "    </tr>\n",
       "  </tbody>\n",
       "</table>\n",
       "</div>"
      ],
      "text/plain": [
       "    price  carat        cut color clarity  depth  table  Length  Width  Height\n",
       "0     326   0.23      Ideal     E     SI2   61.5   55.0    3.98   3.95    2.43\n",
       "1     326   0.21    Premium     E     SI1   59.8   61.0    3.84   3.89    2.31\n",
       "2     327   0.23       Good     E     VS1   56.9   65.0    4.07   4.05    2.31\n",
       "3     334   0.29    Premium     I     VS2   62.4   58.0    4.23   4.20    2.63\n",
       "4     335   0.31       Good     J     SI2   63.3   58.0    4.35   4.34    2.75\n",
       "5     336   0.24  Very Good     J    VVS2    NaN   57.0    3.96   3.94    2.48\n",
       "6     336   0.24  Very Good     I    VVS1   62.3   57.0    3.98   3.95    2.47\n",
       "7     337   0.26  Very Good     H     SI1   61.9   55.0    4.11   4.07    2.53\n",
       "8     337   0.22       Fair     E     VS2   65.1   61.0    3.78   3.87    2.49\n",
       "9     338   0.23  Very Good     H     VS1   59.4   61.0    4.05   4.00    2.39\n",
       "10    339   0.30       Good     J     SI1   64.0   55.0    4.28   4.25    2.73\n",
       "11    340   0.23      Ideal     J     VS1   62.8   56.0    3.90   3.93    2.46\n",
       "12    342   0.22    Premium     F     SI1    NaN   61.0    3.84   3.88    2.33\n",
       "13    344   0.31      Ideal     J     SI2   62.2   54.0    4.37   4.35    2.71\n",
       "14    345   0.20    Premium     E     SI2   60.2   62.0    3.75   3.79    2.27"
      ]
     },
     "execution_count": 136,
     "metadata": {},
     "output_type": "execute_result"
    }
   ],
   "source": [
    "B=['Total Dimension In M3']\n",
    "DiamondPricesData=DiamondPricesData.drop(B,axis=1)\n",
    "DiamondPricesData.head(15)"
   ]
  },
  {
   "cell_type": "code",
   "execution_count": 137,
   "id": "4c1a1491",
   "metadata": {},
   "outputs": [
    {
     "data": {
      "text/html": [
       "<div>\n",
       "<style scoped>\n",
       "    .dataframe tbody tr th:only-of-type {\n",
       "        vertical-align: middle;\n",
       "    }\n",
       "\n",
       "    .dataframe tbody tr th {\n",
       "        vertical-align: top;\n",
       "    }\n",
       "\n",
       "    .dataframe thead th {\n",
       "        text-align: right;\n",
       "    }\n",
       "</style>\n",
       "<table border=\"1\" class=\"dataframe\">\n",
       "  <thead>\n",
       "    <tr style=\"text-align: right;\">\n",
       "      <th></th>\n",
       "      <th>price</th>\n",
       "      <th>carat</th>\n",
       "      <th>cut</th>\n",
       "      <th>color</th>\n",
       "      <th>clarity</th>\n",
       "      <th>depth</th>\n",
       "      <th>table</th>\n",
       "      <th>Length</th>\n",
       "      <th>Width</th>\n",
       "      <th>Height</th>\n",
       "    </tr>\n",
       "  </thead>\n",
       "  <tbody>\n",
       "    <tr>\n",
       "      <th>0</th>\n",
       "      <td>326</td>\n",
       "      <td>0.23</td>\n",
       "      <td>Ideal</td>\n",
       "      <td>E</td>\n",
       "      <td>SI2</td>\n",
       "      <td>61.5</td>\n",
       "      <td>55.0</td>\n",
       "      <td>3.98</td>\n",
       "      <td>3.95</td>\n",
       "      <td>2.43</td>\n",
       "    </tr>\n",
       "    <tr>\n",
       "      <th>1</th>\n",
       "      <td>326</td>\n",
       "      <td>0.21</td>\n",
       "      <td>Premium</td>\n",
       "      <td>E</td>\n",
       "      <td>SI1</td>\n",
       "      <td>59.8</td>\n",
       "      <td>61.0</td>\n",
       "      <td>3.84</td>\n",
       "      <td>3.89</td>\n",
       "      <td>2.31</td>\n",
       "    </tr>\n",
       "    <tr>\n",
       "      <th>4</th>\n",
       "      <td>335</td>\n",
       "      <td>0.31</td>\n",
       "      <td>Good</td>\n",
       "      <td>J</td>\n",
       "      <td>SI2</td>\n",
       "      <td>63.3</td>\n",
       "      <td>58.0</td>\n",
       "      <td>4.35</td>\n",
       "      <td>4.34</td>\n",
       "      <td>2.75</td>\n",
       "    </tr>\n",
       "    <tr>\n",
       "      <th>5</th>\n",
       "      <td>336</td>\n",
       "      <td>0.24</td>\n",
       "      <td>Very Good</td>\n",
       "      <td>J</td>\n",
       "      <td>VVS2</td>\n",
       "      <td>NaN</td>\n",
       "      <td>57.0</td>\n",
       "      <td>3.96</td>\n",
       "      <td>3.94</td>\n",
       "      <td>2.48</td>\n",
       "    </tr>\n",
       "    <tr>\n",
       "      <th>6</th>\n",
       "      <td>336</td>\n",
       "      <td>0.24</td>\n",
       "      <td>Very Good</td>\n",
       "      <td>I</td>\n",
       "      <td>VVS1</td>\n",
       "      <td>62.3</td>\n",
       "      <td>57.0</td>\n",
       "      <td>3.98</td>\n",
       "      <td>3.95</td>\n",
       "      <td>2.47</td>\n",
       "    </tr>\n",
       "  </tbody>\n",
       "</table>\n",
       "</div>"
      ],
      "text/plain": [
       "   price  carat        cut color clarity  depth  table  Length  Width  Height\n",
       "0    326   0.23      Ideal     E     SI2   61.5   55.0    3.98   3.95    2.43\n",
       "1    326   0.21    Premium     E     SI1   59.8   61.0    3.84   3.89    2.31\n",
       "4    335   0.31       Good     J     SI2   63.3   58.0    4.35   4.34    2.75\n",
       "5    336   0.24  Very Good     J    VVS2    NaN   57.0    3.96   3.94    2.48\n",
       "6    336   0.24  Very Good     I    VVS1   62.3   57.0    3.98   3.95    2.47"
      ]
     },
     "execution_count": 137,
     "metadata": {},
     "output_type": "execute_result"
    }
   ],
   "source": [
    "c=[2,3]\n",
    "DiamondPricesData=DiamondPricesData.drop(c,axis=0,inplace=False)\n",
    "DiamondPricesData.head()"
   ]
  },
  {
   "cell_type": "code",
   "execution_count": 138,
   "id": "ea5fb07f",
   "metadata": {},
   "outputs": [
    {
     "data": {
      "text/html": [
       "<div>\n",
       "<style scoped>\n",
       "    .dataframe tbody tr th:only-of-type {\n",
       "        vertical-align: middle;\n",
       "    }\n",
       "\n",
       "    .dataframe tbody tr th {\n",
       "        vertical-align: top;\n",
       "    }\n",
       "\n",
       "    .dataframe thead th {\n",
       "        text-align: right;\n",
       "    }\n",
       "</style>\n",
       "<table border=\"1\" class=\"dataframe\">\n",
       "  <thead>\n",
       "    <tr style=\"text-align: right;\">\n",
       "      <th></th>\n",
       "      <th>price</th>\n",
       "      <th>carat</th>\n",
       "      <th>cut</th>\n",
       "      <th>color</th>\n",
       "      <th>clarity</th>\n",
       "      <th>depth</th>\n",
       "      <th>table</th>\n",
       "      <th>Length</th>\n",
       "      <th>Width</th>\n",
       "      <th>Height</th>\n",
       "    </tr>\n",
       "  </thead>\n",
       "  <tbody>\n",
       "    <tr>\n",
       "      <th>0</th>\n",
       "      <td>326</td>\n",
       "      <td>0.23</td>\n",
       "      <td>Ideal</td>\n",
       "      <td>E</td>\n",
       "      <td>SI2</td>\n",
       "      <td>61.5</td>\n",
       "      <td>55.0</td>\n",
       "      <td>3.98</td>\n",
       "      <td>3.95</td>\n",
       "      <td>2.43</td>\n",
       "    </tr>\n",
       "    <tr>\n",
       "      <th>1</th>\n",
       "      <td>326</td>\n",
       "      <td>0.21</td>\n",
       "      <td>Premium</td>\n",
       "      <td>E</td>\n",
       "      <td>SI1</td>\n",
       "      <td>59.8</td>\n",
       "      <td>61.0</td>\n",
       "      <td>3.84</td>\n",
       "      <td>3.89</td>\n",
       "      <td>2.31</td>\n",
       "    </tr>\n",
       "    <tr>\n",
       "      <th>4</th>\n",
       "      <td>335</td>\n",
       "      <td>0.31</td>\n",
       "      <td>Good</td>\n",
       "      <td>J</td>\n",
       "      <td>SI2</td>\n",
       "      <td>63.3</td>\n",
       "      <td>58.0</td>\n",
       "      <td>4.35</td>\n",
       "      <td>4.34</td>\n",
       "      <td>2.75</td>\n",
       "    </tr>\n",
       "    <tr>\n",
       "      <th>5</th>\n",
       "      <td>336</td>\n",
       "      <td>0.24</td>\n",
       "      <td>Very Good</td>\n",
       "      <td>J</td>\n",
       "      <td>VVS2</td>\n",
       "      <td>NaN</td>\n",
       "      <td>57.0</td>\n",
       "      <td>3.96</td>\n",
       "      <td>3.94</td>\n",
       "      <td>2.48</td>\n",
       "    </tr>\n",
       "    <tr>\n",
       "      <th>6</th>\n",
       "      <td>336</td>\n",
       "      <td>0.24</td>\n",
       "      <td>Very Good</td>\n",
       "      <td>I</td>\n",
       "      <td>VVS1</td>\n",
       "      <td>62.3</td>\n",
       "      <td>57.0</td>\n",
       "      <td>3.98</td>\n",
       "      <td>3.95</td>\n",
       "      <td>2.47</td>\n",
       "    </tr>\n",
       "  </tbody>\n",
       "</table>\n",
       "</div>"
      ],
      "text/plain": [
       "   price  carat        cut color clarity  depth  table  Length  Width  Height\n",
       "0    326   0.23      Ideal     E     SI2   61.5   55.0    3.98   3.95    2.43\n",
       "1    326   0.21    Premium     E     SI1   59.8   61.0    3.84   3.89    2.31\n",
       "4    335   0.31       Good     J     SI2   63.3   58.0    4.35   4.34    2.75\n",
       "5    336   0.24  Very Good     J    VVS2    NaN   57.0    3.96   3.94    2.48\n",
       "6    336   0.24  Very Good     I    VVS1   62.3   57.0    3.98   3.95    2.47"
      ]
     },
     "execution_count": 138,
     "metadata": {},
     "output_type": "execute_result"
    }
   ],
   "source": [
    "DiamondPricesData.head()"
   ]
  },
  {
   "cell_type": "code",
   "execution_count": 139,
   "id": "18b7ffad",
   "metadata": {},
   "outputs": [
    {
     "data": {
      "text/html": [
       "<div>\n",
       "<style scoped>\n",
       "    .dataframe tbody tr th:only-of-type {\n",
       "        vertical-align: middle;\n",
       "    }\n",
       "\n",
       "    .dataframe tbody tr th {\n",
       "        vertical-align: top;\n",
       "    }\n",
       "\n",
       "    .dataframe thead th {\n",
       "        text-align: right;\n",
       "    }\n",
       "</style>\n",
       "<table border=\"1\" class=\"dataframe\">\n",
       "  <thead>\n",
       "    <tr style=\"text-align: right;\">\n",
       "      <th></th>\n",
       "      <th>price</th>\n",
       "      <th>carat</th>\n",
       "      <th>cut</th>\n",
       "      <th>color</th>\n",
       "      <th>clarity</th>\n",
       "      <th>depth</th>\n",
       "      <th>table</th>\n",
       "      <th>Length</th>\n",
       "      <th>Width</th>\n",
       "      <th>Height</th>\n",
       "    </tr>\n",
       "  </thead>\n",
       "  <tbody>\n",
       "    <tr>\n",
       "      <th>0</th>\n",
       "      <td>326</td>\n",
       "      <td>0.23</td>\n",
       "      <td>Ideal</td>\n",
       "      <td>E</td>\n",
       "      <td>SI2</td>\n",
       "      <td>61.5</td>\n",
       "      <td>55.0</td>\n",
       "      <td>3.98</td>\n",
       "      <td>3.95</td>\n",
       "      <td>2.43</td>\n",
       "    </tr>\n",
       "    <tr>\n",
       "      <th>1</th>\n",
       "      <td>326</td>\n",
       "      <td>0.21</td>\n",
       "      <td>Premium</td>\n",
       "      <td>E</td>\n",
       "      <td>SI1</td>\n",
       "      <td>59.8</td>\n",
       "      <td>61.0</td>\n",
       "      <td>3.84</td>\n",
       "      <td>3.89</td>\n",
       "      <td>2.31</td>\n",
       "    </tr>\n",
       "    <tr>\n",
       "      <th>2</th>\n",
       "      <td>335</td>\n",
       "      <td>0.31</td>\n",
       "      <td>Good</td>\n",
       "      <td>J</td>\n",
       "      <td>SI2</td>\n",
       "      <td>63.3</td>\n",
       "      <td>58.0</td>\n",
       "      <td>4.35</td>\n",
       "      <td>4.34</td>\n",
       "      <td>2.75</td>\n",
       "    </tr>\n",
       "    <tr>\n",
       "      <th>3</th>\n",
       "      <td>336</td>\n",
       "      <td>0.24</td>\n",
       "      <td>Very Good</td>\n",
       "      <td>J</td>\n",
       "      <td>VVS2</td>\n",
       "      <td>NaN</td>\n",
       "      <td>57.0</td>\n",
       "      <td>3.96</td>\n",
       "      <td>3.94</td>\n",
       "      <td>2.48</td>\n",
       "    </tr>\n",
       "    <tr>\n",
       "      <th>4</th>\n",
       "      <td>336</td>\n",
       "      <td>0.24</td>\n",
       "      <td>Very Good</td>\n",
       "      <td>I</td>\n",
       "      <td>VVS1</td>\n",
       "      <td>62.3</td>\n",
       "      <td>57.0</td>\n",
       "      <td>3.98</td>\n",
       "      <td>3.95</td>\n",
       "      <td>2.47</td>\n",
       "    </tr>\n",
       "    <tr>\n",
       "      <th>5</th>\n",
       "      <td>337</td>\n",
       "      <td>0.26</td>\n",
       "      <td>Very Good</td>\n",
       "      <td>H</td>\n",
       "      <td>SI1</td>\n",
       "      <td>61.9</td>\n",
       "      <td>55.0</td>\n",
       "      <td>4.11</td>\n",
       "      <td>4.07</td>\n",
       "      <td>2.53</td>\n",
       "    </tr>\n",
       "    <tr>\n",
       "      <th>6</th>\n",
       "      <td>337</td>\n",
       "      <td>0.22</td>\n",
       "      <td>Fair</td>\n",
       "      <td>E</td>\n",
       "      <td>VS2</td>\n",
       "      <td>65.1</td>\n",
       "      <td>61.0</td>\n",
       "      <td>3.78</td>\n",
       "      <td>3.87</td>\n",
       "      <td>2.49</td>\n",
       "    </tr>\n",
       "    <tr>\n",
       "      <th>7</th>\n",
       "      <td>338</td>\n",
       "      <td>0.23</td>\n",
       "      <td>Very Good</td>\n",
       "      <td>H</td>\n",
       "      <td>VS1</td>\n",
       "      <td>59.4</td>\n",
       "      <td>61.0</td>\n",
       "      <td>4.05</td>\n",
       "      <td>4.00</td>\n",
       "      <td>2.39</td>\n",
       "    </tr>\n",
       "    <tr>\n",
       "      <th>8</th>\n",
       "      <td>339</td>\n",
       "      <td>0.30</td>\n",
       "      <td>Good</td>\n",
       "      <td>J</td>\n",
       "      <td>SI1</td>\n",
       "      <td>64.0</td>\n",
       "      <td>55.0</td>\n",
       "      <td>4.28</td>\n",
       "      <td>4.25</td>\n",
       "      <td>2.73</td>\n",
       "    </tr>\n",
       "    <tr>\n",
       "      <th>9</th>\n",
       "      <td>340</td>\n",
       "      <td>0.23</td>\n",
       "      <td>Ideal</td>\n",
       "      <td>J</td>\n",
       "      <td>VS1</td>\n",
       "      <td>62.8</td>\n",
       "      <td>56.0</td>\n",
       "      <td>3.90</td>\n",
       "      <td>3.93</td>\n",
       "      <td>2.46</td>\n",
       "    </tr>\n",
       "  </tbody>\n",
       "</table>\n",
       "</div>"
      ],
      "text/plain": [
       "   price  carat        cut color clarity  depth  table  Length  Width  Height\n",
       "0    326   0.23      Ideal     E     SI2   61.5   55.0    3.98   3.95    2.43\n",
       "1    326   0.21    Premium     E     SI1   59.8   61.0    3.84   3.89    2.31\n",
       "2    335   0.31       Good     J     SI2   63.3   58.0    4.35   4.34    2.75\n",
       "3    336   0.24  Very Good     J    VVS2    NaN   57.0    3.96   3.94    2.48\n",
       "4    336   0.24  Very Good     I    VVS1   62.3   57.0    3.98   3.95    2.47\n",
       "5    337   0.26  Very Good     H     SI1   61.9   55.0    4.11   4.07    2.53\n",
       "6    337   0.22       Fair     E     VS2   65.1   61.0    3.78   3.87    2.49\n",
       "7    338   0.23  Very Good     H     VS1   59.4   61.0    4.05   4.00    2.39\n",
       "8    339   0.30       Good     J     SI1   64.0   55.0    4.28   4.25    2.73\n",
       "9    340   0.23      Ideal     J     VS1   62.8   56.0    3.90   3.93    2.46"
      ]
     },
     "execution_count": 139,
     "metadata": {},
     "output_type": "execute_result"
    }
   ],
   "source": [
    "DiamondPricesData.reset_index(inplace=True,drop=True)\n",
    "DiamondPricesData.head(10)"
   ]
  },
  {
   "cell_type": "code",
   "execution_count": 140,
   "id": "cf968bc7",
   "metadata": {},
   "outputs": [
    {
     "data": {
      "text/html": [
       "<div>\n",
       "<style scoped>\n",
       "    .dataframe tbody tr th:only-of-type {\n",
       "        vertical-align: middle;\n",
       "    }\n",
       "\n",
       "    .dataframe tbody tr th {\n",
       "        vertical-align: top;\n",
       "    }\n",
       "\n",
       "    .dataframe thead th {\n",
       "        text-align: right;\n",
       "    }\n",
       "</style>\n",
       "<table border=\"1\" class=\"dataframe\">\n",
       "  <thead>\n",
       "    <tr style=\"text-align: right;\">\n",
       "      <th></th>\n",
       "      <th>price</th>\n",
       "      <th>carat</th>\n",
       "      <th>cut</th>\n",
       "      <th>color</th>\n",
       "      <th>clarity</th>\n",
       "      <th>depth</th>\n",
       "      <th>table</th>\n",
       "      <th>Length</th>\n",
       "      <th>Width</th>\n",
       "      <th>Height</th>\n",
       "    </tr>\n",
       "  </thead>\n",
       "  <tbody>\n",
       "    <tr>\n",
       "      <th>27413</th>\n",
       "      <td>18018</td>\n",
       "      <td>5.01</td>\n",
       "      <td>Fair</td>\n",
       "      <td>J</td>\n",
       "      <td>I1</td>\n",
       "      <td>65.5</td>\n",
       "      <td>59.0</td>\n",
       "      <td>10.54</td>\n",
       "      <td>10.74</td>\n",
       "      <td>6.98</td>\n",
       "    </tr>\n",
       "    <tr>\n",
       "      <th>27628</th>\n",
       "      <td>18531</td>\n",
       "      <td>4.50</td>\n",
       "      <td>Fair</td>\n",
       "      <td>J</td>\n",
       "      <td>I1</td>\n",
       "      <td>65.8</td>\n",
       "      <td>58.0</td>\n",
       "      <td>10.16</td>\n",
       "      <td>10.23</td>\n",
       "      <td>6.72</td>\n",
       "    </tr>\n",
       "    <tr>\n",
       "      <th>27128</th>\n",
       "      <td>17329</td>\n",
       "      <td>4.13</td>\n",
       "      <td>Fair</td>\n",
       "      <td>H</td>\n",
       "      <td>I1</td>\n",
       "      <td>64.8</td>\n",
       "      <td>61.0</td>\n",
       "      <td>9.85</td>\n",
       "      <td>10.00</td>\n",
       "      <td>6.43</td>\n",
       "    </tr>\n",
       "    <tr>\n",
       "      <th>25996</th>\n",
       "      <td>15223</td>\n",
       "      <td>4.01</td>\n",
       "      <td>Premium</td>\n",
       "      <td>I</td>\n",
       "      <td>I1</td>\n",
       "      <td>61.0</td>\n",
       "      <td>61.0</td>\n",
       "      <td>10.10</td>\n",
       "      <td>10.14</td>\n",
       "      <td>6.17</td>\n",
       "    </tr>\n",
       "    <tr>\n",
       "      <th>25997</th>\n",
       "      <td>15223</td>\n",
       "      <td>4.01</td>\n",
       "      <td>Premium</td>\n",
       "      <td>J</td>\n",
       "      <td>I1</td>\n",
       "      <td>62.5</td>\n",
       "      <td>62.0</td>\n",
       "      <td>9.94</td>\n",
       "      <td>10.02</td>\n",
       "      <td>6.24</td>\n",
       "    </tr>\n",
       "    <tr>\n",
       "      <th>...</th>\n",
       "      <td>...</td>\n",
       "      <td>...</td>\n",
       "      <td>...</td>\n",
       "      <td>...</td>\n",
       "      <td>...</td>\n",
       "      <td>...</td>\n",
       "      <td>...</td>\n",
       "      <td>...</td>\n",
       "      <td>...</td>\n",
       "      <td>...</td>\n",
       "    </tr>\n",
       "    <tr>\n",
       "      <th>31595</th>\n",
       "      <td>367</td>\n",
       "      <td>0.20</td>\n",
       "      <td>Ideal</td>\n",
       "      <td>D</td>\n",
       "      <td>VS2</td>\n",
       "      <td>61.5</td>\n",
       "      <td>57.0</td>\n",
       "      <td>3.77</td>\n",
       "      <td>3.81</td>\n",
       "      <td>2.33</td>\n",
       "    </tr>\n",
       "    <tr>\n",
       "      <th>31596</th>\n",
       "      <td>367</td>\n",
       "      <td>0.20</td>\n",
       "      <td>Very Good</td>\n",
       "      <td>E</td>\n",
       "      <td>VS2</td>\n",
       "      <td>63.4</td>\n",
       "      <td>59.0</td>\n",
       "      <td>3.71</td>\n",
       "      <td>3.74</td>\n",
       "      <td>2.36</td>\n",
       "    </tr>\n",
       "    <tr>\n",
       "      <th>31598</th>\n",
       "      <td>367</td>\n",
       "      <td>0.20</td>\n",
       "      <td>Premium</td>\n",
       "      <td>D</td>\n",
       "      <td>VS2</td>\n",
       "      <td>62.3</td>\n",
       "      <td>60.0</td>\n",
       "      <td>3.68</td>\n",
       "      <td>3.73</td>\n",
       "      <td>2.31</td>\n",
       "    </tr>\n",
       "    <tr>\n",
       "      <th>31599</th>\n",
       "      <td>367</td>\n",
       "      <td>0.20</td>\n",
       "      <td>Premium</td>\n",
       "      <td>D</td>\n",
       "      <td>VS2</td>\n",
       "      <td>61.7</td>\n",
       "      <td>60.0</td>\n",
       "      <td>3.72</td>\n",
       "      <td>3.77</td>\n",
       "      <td>2.31</td>\n",
       "    </tr>\n",
       "    <tr>\n",
       "      <th>31597</th>\n",
       "      <td>367</td>\n",
       "      <td>0.20</td>\n",
       "      <td>Ideal</td>\n",
       "      <td>E</td>\n",
       "      <td>VS2</td>\n",
       "      <td>62.2</td>\n",
       "      <td>57.0</td>\n",
       "      <td>3.73</td>\n",
       "      <td>3.76</td>\n",
       "      <td>2.33</td>\n",
       "    </tr>\n",
       "  </tbody>\n",
       "</table>\n",
       "<p>53938 rows × 10 columns</p>\n",
       "</div>"
      ],
      "text/plain": [
       "       price  carat        cut color clarity  depth  table  Length  Width  \\\n",
       "27413  18018   5.01       Fair     J      I1   65.5   59.0   10.54  10.74   \n",
       "27628  18531   4.50       Fair     J      I1   65.8   58.0   10.16  10.23   \n",
       "27128  17329   4.13       Fair     H      I1   64.8   61.0    9.85  10.00   \n",
       "25996  15223   4.01    Premium     I      I1   61.0   61.0   10.10  10.14   \n",
       "25997  15223   4.01    Premium     J      I1   62.5   62.0    9.94  10.02   \n",
       "...      ...    ...        ...   ...     ...    ...    ...     ...    ...   \n",
       "31595    367   0.20      Ideal     D     VS2   61.5   57.0    3.77   3.81   \n",
       "31596    367   0.20  Very Good     E     VS2   63.4   59.0    3.71   3.74   \n",
       "31598    367   0.20    Premium     D     VS2   62.3   60.0    3.68   3.73   \n",
       "31599    367   0.20    Premium     D     VS2   61.7   60.0    3.72   3.77   \n",
       "31597    367   0.20      Ideal     E     VS2   62.2   57.0    3.73   3.76   \n",
       "\n",
       "       Height  \n",
       "27413    6.98  \n",
       "27628    6.72  \n",
       "27128    6.43  \n",
       "25996    6.17  \n",
       "25997    6.24  \n",
       "...       ...  \n",
       "31595    2.33  \n",
       "31596    2.36  \n",
       "31598    2.31  \n",
       "31599    2.31  \n",
       "31597    2.33  \n",
       "\n",
       "[53938 rows x 10 columns]"
      ]
     },
     "execution_count": 140,
     "metadata": {},
     "output_type": "execute_result"
    }
   ],
   "source": [
    "DiamondPricesData.sort_values(by=['carat'],ascending=False)"
   ]
  },
  {
   "cell_type": "code",
   "execution_count": 141,
   "id": "95f7a384",
   "metadata": {},
   "outputs": [
    {
     "data": {
      "text/plain": [
       "'Costly'"
      ]
     },
     "execution_count": 141,
     "metadata": {},
     "output_type": "execute_result"
    }
   ],
   "source": [
    "def checkPricecat(inpPrice):\n",
    "    if (inpPrice<=2.5):\n",
    "        return \"Affortable\"\n",
    "   \n",
    "    else:\n",
    "         return \"Costly\"\n",
    "checkPricecat(4)"
   ]
  },
  {
   "cell_type": "code",
   "execution_count": 142,
   "id": "2002d357",
   "metadata": {},
   "outputs": [],
   "source": [
    "DiamondPricesData['Price Cat']=DiamondPricesData['carat'].apply(checkPricecat)"
   ]
  },
  {
   "cell_type": "code",
   "execution_count": 143,
   "id": "25a33be0",
   "metadata": {},
   "outputs": [
    {
     "data": {
      "text/html": [
       "<div>\n",
       "<style scoped>\n",
       "    .dataframe tbody tr th:only-of-type {\n",
       "        vertical-align: middle;\n",
       "    }\n",
       "\n",
       "    .dataframe tbody tr th {\n",
       "        vertical-align: top;\n",
       "    }\n",
       "\n",
       "    .dataframe thead th {\n",
       "        text-align: right;\n",
       "    }\n",
       "</style>\n",
       "<table border=\"1\" class=\"dataframe\">\n",
       "  <thead>\n",
       "    <tr style=\"text-align: right;\">\n",
       "      <th></th>\n",
       "      <th>price</th>\n",
       "      <th>carat</th>\n",
       "      <th>cut</th>\n",
       "      <th>color</th>\n",
       "      <th>clarity</th>\n",
       "      <th>depth</th>\n",
       "      <th>table</th>\n",
       "      <th>Length</th>\n",
       "      <th>Width</th>\n",
       "      <th>Height</th>\n",
       "      <th>Price Cat</th>\n",
       "    </tr>\n",
       "  </thead>\n",
       "  <tbody>\n",
       "    <tr>\n",
       "      <th>27413</th>\n",
       "      <td>18018</td>\n",
       "      <td>5.01</td>\n",
       "      <td>Fair</td>\n",
       "      <td>J</td>\n",
       "      <td>I1</td>\n",
       "      <td>65.5</td>\n",
       "      <td>59.0</td>\n",
       "      <td>10.54</td>\n",
       "      <td>10.74</td>\n",
       "      <td>6.98</td>\n",
       "      <td>Costly</td>\n",
       "    </tr>\n",
       "    <tr>\n",
       "      <th>27628</th>\n",
       "      <td>18531</td>\n",
       "      <td>4.50</td>\n",
       "      <td>Fair</td>\n",
       "      <td>J</td>\n",
       "      <td>I1</td>\n",
       "      <td>65.8</td>\n",
       "      <td>58.0</td>\n",
       "      <td>10.16</td>\n",
       "      <td>10.23</td>\n",
       "      <td>6.72</td>\n",
       "      <td>Costly</td>\n",
       "    </tr>\n",
       "    <tr>\n",
       "      <th>27128</th>\n",
       "      <td>17329</td>\n",
       "      <td>4.13</td>\n",
       "      <td>Fair</td>\n",
       "      <td>H</td>\n",
       "      <td>I1</td>\n",
       "      <td>64.8</td>\n",
       "      <td>61.0</td>\n",
       "      <td>9.85</td>\n",
       "      <td>10.00</td>\n",
       "      <td>6.43</td>\n",
       "      <td>Costly</td>\n",
       "    </tr>\n",
       "    <tr>\n",
       "      <th>25996</th>\n",
       "      <td>15223</td>\n",
       "      <td>4.01</td>\n",
       "      <td>Premium</td>\n",
       "      <td>I</td>\n",
       "      <td>I1</td>\n",
       "      <td>61.0</td>\n",
       "      <td>61.0</td>\n",
       "      <td>10.10</td>\n",
       "      <td>10.14</td>\n",
       "      <td>6.17</td>\n",
       "      <td>Costly</td>\n",
       "    </tr>\n",
       "    <tr>\n",
       "      <th>25997</th>\n",
       "      <td>15223</td>\n",
       "      <td>4.01</td>\n",
       "      <td>Premium</td>\n",
       "      <td>J</td>\n",
       "      <td>I1</td>\n",
       "      <td>62.5</td>\n",
       "      <td>62.0</td>\n",
       "      <td>9.94</td>\n",
       "      <td>10.02</td>\n",
       "      <td>6.24</td>\n",
       "      <td>Costly</td>\n",
       "    </tr>\n",
       "    <tr>\n",
       "      <th>...</th>\n",
       "      <td>...</td>\n",
       "      <td>...</td>\n",
       "      <td>...</td>\n",
       "      <td>...</td>\n",
       "      <td>...</td>\n",
       "      <td>...</td>\n",
       "      <td>...</td>\n",
       "      <td>...</td>\n",
       "      <td>...</td>\n",
       "      <td>...</td>\n",
       "      <td>...</td>\n",
       "    </tr>\n",
       "    <tr>\n",
       "      <th>31595</th>\n",
       "      <td>367</td>\n",
       "      <td>0.20</td>\n",
       "      <td>Ideal</td>\n",
       "      <td>D</td>\n",
       "      <td>VS2</td>\n",
       "      <td>61.5</td>\n",
       "      <td>57.0</td>\n",
       "      <td>3.77</td>\n",
       "      <td>3.81</td>\n",
       "      <td>2.33</td>\n",
       "      <td>Affortable</td>\n",
       "    </tr>\n",
       "    <tr>\n",
       "      <th>31596</th>\n",
       "      <td>367</td>\n",
       "      <td>0.20</td>\n",
       "      <td>Very Good</td>\n",
       "      <td>E</td>\n",
       "      <td>VS2</td>\n",
       "      <td>63.4</td>\n",
       "      <td>59.0</td>\n",
       "      <td>3.71</td>\n",
       "      <td>3.74</td>\n",
       "      <td>2.36</td>\n",
       "      <td>Affortable</td>\n",
       "    </tr>\n",
       "    <tr>\n",
       "      <th>31598</th>\n",
       "      <td>367</td>\n",
       "      <td>0.20</td>\n",
       "      <td>Premium</td>\n",
       "      <td>D</td>\n",
       "      <td>VS2</td>\n",
       "      <td>62.3</td>\n",
       "      <td>60.0</td>\n",
       "      <td>3.68</td>\n",
       "      <td>3.73</td>\n",
       "      <td>2.31</td>\n",
       "      <td>Affortable</td>\n",
       "    </tr>\n",
       "    <tr>\n",
       "      <th>31599</th>\n",
       "      <td>367</td>\n",
       "      <td>0.20</td>\n",
       "      <td>Premium</td>\n",
       "      <td>D</td>\n",
       "      <td>VS2</td>\n",
       "      <td>61.7</td>\n",
       "      <td>60.0</td>\n",
       "      <td>3.72</td>\n",
       "      <td>3.77</td>\n",
       "      <td>2.31</td>\n",
       "      <td>Affortable</td>\n",
       "    </tr>\n",
       "    <tr>\n",
       "      <th>31597</th>\n",
       "      <td>367</td>\n",
       "      <td>0.20</td>\n",
       "      <td>Ideal</td>\n",
       "      <td>E</td>\n",
       "      <td>VS2</td>\n",
       "      <td>62.2</td>\n",
       "      <td>57.0</td>\n",
       "      <td>3.73</td>\n",
       "      <td>3.76</td>\n",
       "      <td>2.33</td>\n",
       "      <td>Affortable</td>\n",
       "    </tr>\n",
       "  </tbody>\n",
       "</table>\n",
       "<p>53938 rows × 11 columns</p>\n",
       "</div>"
      ],
      "text/plain": [
       "       price  carat        cut color clarity  depth  table  Length  Width  \\\n",
       "27413  18018   5.01       Fair     J      I1   65.5   59.0   10.54  10.74   \n",
       "27628  18531   4.50       Fair     J      I1   65.8   58.0   10.16  10.23   \n",
       "27128  17329   4.13       Fair     H      I1   64.8   61.0    9.85  10.00   \n",
       "25996  15223   4.01    Premium     I      I1   61.0   61.0   10.10  10.14   \n",
       "25997  15223   4.01    Premium     J      I1   62.5   62.0    9.94  10.02   \n",
       "...      ...    ...        ...   ...     ...    ...    ...     ...    ...   \n",
       "31595    367   0.20      Ideal     D     VS2   61.5   57.0    3.77   3.81   \n",
       "31596    367   0.20  Very Good     E     VS2   63.4   59.0    3.71   3.74   \n",
       "31598    367   0.20    Premium     D     VS2   62.3   60.0    3.68   3.73   \n",
       "31599    367   0.20    Premium     D     VS2   61.7   60.0    3.72   3.77   \n",
       "31597    367   0.20      Ideal     E     VS2   62.2   57.0    3.73   3.76   \n",
       "\n",
       "       Height   Price Cat  \n",
       "27413    6.98      Costly  \n",
       "27628    6.72      Costly  \n",
       "27128    6.43      Costly  \n",
       "25996    6.17      Costly  \n",
       "25997    6.24      Costly  \n",
       "...       ...         ...  \n",
       "31595    2.33  Affortable  \n",
       "31596    2.36  Affortable  \n",
       "31598    2.31  Affortable  \n",
       "31599    2.31  Affortable  \n",
       "31597    2.33  Affortable  \n",
       "\n",
       "[53938 rows x 11 columns]"
      ]
     },
     "execution_count": 143,
     "metadata": {},
     "output_type": "execute_result"
    }
   ],
   "source": [
    "DiamondPricesData.sort_values(by=['carat'],ascending=False)"
   ]
  },
  {
   "cell_type": "code",
   "execution_count": 144,
   "id": "695fdaa2",
   "metadata": {},
   "outputs": [],
   "source": [
    "import datetime"
   ]
  },
  {
   "cell_type": "code",
   "execution_count": 145,
   "id": "fe966372",
   "metadata": {},
   "outputs": [
    {
     "data": {
      "text/plain": [
       "datetime.datetime(2022, 2, 1, 11, 52, 58, 732389)"
      ]
     },
     "execution_count": 145,
     "metadata": {},
     "output_type": "execute_result"
    }
   ],
   "source": [
    "Today=datetime.datetime.now()\n",
    "Today"
   ]
  },
  {
   "cell_type": "code",
   "execution_count": 146,
   "id": "2dc22c9d",
   "metadata": {},
   "outputs": [
    {
     "data": {
      "text/html": [
       "<div>\n",
       "<style scoped>\n",
       "    .dataframe tbody tr th:only-of-type {\n",
       "        vertical-align: middle;\n",
       "    }\n",
       "\n",
       "    .dataframe tbody tr th {\n",
       "        vertical-align: top;\n",
       "    }\n",
       "\n",
       "    .dataframe thead th {\n",
       "        text-align: right;\n",
       "    }\n",
       "</style>\n",
       "<table border=\"1\" class=\"dataframe\">\n",
       "  <thead>\n",
       "    <tr style=\"text-align: right;\">\n",
       "      <th></th>\n",
       "      <th>price</th>\n",
       "      <th>carat</th>\n",
       "      <th>cut</th>\n",
       "      <th>color</th>\n",
       "      <th>clarity</th>\n",
       "      <th>depth</th>\n",
       "      <th>table</th>\n",
       "      <th>Length</th>\n",
       "      <th>Width</th>\n",
       "      <th>Height</th>\n",
       "      <th>Price Cat</th>\n",
       "    </tr>\n",
       "  </thead>\n",
       "  <tbody>\n",
       "    <tr>\n",
       "      <th>0</th>\n",
       "      <td>326</td>\n",
       "      <td>0.23</td>\n",
       "      <td>Ideal</td>\n",
       "      <td>E</td>\n",
       "      <td>SI2</td>\n",
       "      <td>61.5</td>\n",
       "      <td>55.0</td>\n",
       "      <td>3.98</td>\n",
       "      <td>3.95</td>\n",
       "      <td>2.43</td>\n",
       "      <td>Affortable</td>\n",
       "    </tr>\n",
       "    <tr>\n",
       "      <th>1</th>\n",
       "      <td>326</td>\n",
       "      <td>0.21</td>\n",
       "      <td>Premium</td>\n",
       "      <td>E</td>\n",
       "      <td>SI1</td>\n",
       "      <td>59.8</td>\n",
       "      <td>61.0</td>\n",
       "      <td>3.84</td>\n",
       "      <td>3.89</td>\n",
       "      <td>2.31</td>\n",
       "      <td>Affortable</td>\n",
       "    </tr>\n",
       "    <tr>\n",
       "      <th>2</th>\n",
       "      <td>335</td>\n",
       "      <td>0.31</td>\n",
       "      <td>Good</td>\n",
       "      <td>J</td>\n",
       "      <td>SI2</td>\n",
       "      <td>63.3</td>\n",
       "      <td>58.0</td>\n",
       "      <td>4.35</td>\n",
       "      <td>4.34</td>\n",
       "      <td>2.75</td>\n",
       "      <td>Affortable</td>\n",
       "    </tr>\n",
       "    <tr>\n",
       "      <th>3</th>\n",
       "      <td>336</td>\n",
       "      <td>0.24</td>\n",
       "      <td>Very Good</td>\n",
       "      <td>J</td>\n",
       "      <td>VVS2</td>\n",
       "      <td>NaN</td>\n",
       "      <td>57.0</td>\n",
       "      <td>3.96</td>\n",
       "      <td>3.94</td>\n",
       "      <td>2.48</td>\n",
       "      <td>Affortable</td>\n",
       "    </tr>\n",
       "    <tr>\n",
       "      <th>4</th>\n",
       "      <td>336</td>\n",
       "      <td>0.24</td>\n",
       "      <td>Very Good</td>\n",
       "      <td>I</td>\n",
       "      <td>VVS1</td>\n",
       "      <td>62.3</td>\n",
       "      <td>57.0</td>\n",
       "      <td>3.98</td>\n",
       "      <td>3.95</td>\n",
       "      <td>2.47</td>\n",
       "      <td>Affortable</td>\n",
       "    </tr>\n",
       "    <tr>\n",
       "      <th>5</th>\n",
       "      <td>337</td>\n",
       "      <td>0.26</td>\n",
       "      <td>Very Good</td>\n",
       "      <td>H</td>\n",
       "      <td>SI1</td>\n",
       "      <td>61.9</td>\n",
       "      <td>55.0</td>\n",
       "      <td>4.11</td>\n",
       "      <td>4.07</td>\n",
       "      <td>2.53</td>\n",
       "      <td>Affortable</td>\n",
       "    </tr>\n",
       "    <tr>\n",
       "      <th>6</th>\n",
       "      <td>337</td>\n",
       "      <td>0.22</td>\n",
       "      <td>Fair</td>\n",
       "      <td>E</td>\n",
       "      <td>VS2</td>\n",
       "      <td>65.1</td>\n",
       "      <td>61.0</td>\n",
       "      <td>3.78</td>\n",
       "      <td>3.87</td>\n",
       "      <td>2.49</td>\n",
       "      <td>Affortable</td>\n",
       "    </tr>\n",
       "    <tr>\n",
       "      <th>7</th>\n",
       "      <td>338</td>\n",
       "      <td>0.23</td>\n",
       "      <td>Very Good</td>\n",
       "      <td>H</td>\n",
       "      <td>VS1</td>\n",
       "      <td>59.4</td>\n",
       "      <td>61.0</td>\n",
       "      <td>4.05</td>\n",
       "      <td>4.00</td>\n",
       "      <td>2.39</td>\n",
       "      <td>Affortable</td>\n",
       "    </tr>\n",
       "    <tr>\n",
       "      <th>8</th>\n",
       "      <td>339</td>\n",
       "      <td>0.30</td>\n",
       "      <td>Good</td>\n",
       "      <td>J</td>\n",
       "      <td>SI1</td>\n",
       "      <td>64.0</td>\n",
       "      <td>55.0</td>\n",
       "      <td>4.28</td>\n",
       "      <td>4.25</td>\n",
       "      <td>2.73</td>\n",
       "      <td>Affortable</td>\n",
       "    </tr>\n",
       "    <tr>\n",
       "      <th>9</th>\n",
       "      <td>340</td>\n",
       "      <td>0.23</td>\n",
       "      <td>Ideal</td>\n",
       "      <td>J</td>\n",
       "      <td>VS1</td>\n",
       "      <td>62.8</td>\n",
       "      <td>56.0</td>\n",
       "      <td>3.90</td>\n",
       "      <td>3.93</td>\n",
       "      <td>2.46</td>\n",
       "      <td>Affortable</td>\n",
       "    </tr>\n",
       "  </tbody>\n",
       "</table>\n",
       "</div>"
      ],
      "text/plain": [
       "   price  carat        cut color clarity  depth  table  Length  Width  Height  \\\n",
       "0    326   0.23      Ideal     E     SI2   61.5   55.0    3.98   3.95    2.43   \n",
       "1    326   0.21    Premium     E     SI1   59.8   61.0    3.84   3.89    2.31   \n",
       "2    335   0.31       Good     J     SI2   63.3   58.0    4.35   4.34    2.75   \n",
       "3    336   0.24  Very Good     J    VVS2    NaN   57.0    3.96   3.94    2.48   \n",
       "4    336   0.24  Very Good     I    VVS1   62.3   57.0    3.98   3.95    2.47   \n",
       "5    337   0.26  Very Good     H     SI1   61.9   55.0    4.11   4.07    2.53   \n",
       "6    337   0.22       Fair     E     VS2   65.1   61.0    3.78   3.87    2.49   \n",
       "7    338   0.23  Very Good     H     VS1   59.4   61.0    4.05   4.00    2.39   \n",
       "8    339   0.30       Good     J     SI1   64.0   55.0    4.28   4.25    2.73   \n",
       "9    340   0.23      Ideal     J     VS1   62.8   56.0    3.90   3.93    2.46   \n",
       "\n",
       "    Price Cat  \n",
       "0  Affortable  \n",
       "1  Affortable  \n",
       "2  Affortable  \n",
       "3  Affortable  \n",
       "4  Affortable  \n",
       "5  Affortable  \n",
       "6  Affortable  \n",
       "7  Affortable  \n",
       "8  Affortable  \n",
       "9  Affortable  "
      ]
     },
     "execution_count": 146,
     "metadata": {},
     "output_type": "execute_result"
    }
   ],
   "source": [
    "DiamondPricesData.head(10)"
   ]
  },
  {
   "cell_type": "code",
   "execution_count": 147,
   "id": "159cab32",
   "metadata": {},
   "outputs": [
    {
     "data": {
      "text/plain": [
       "(53938, 11)"
      ]
     },
     "execution_count": 147,
     "metadata": {},
     "output_type": "execute_result"
    }
   ],
   "source": [
    "\n",
    "DiamondPricesData.drop_duplicates()\n",
    "DiamondPricesData.shape"
   ]
  },
  {
   "cell_type": "code",
   "execution_count": 148,
   "id": "a080f468",
   "metadata": {},
   "outputs": [
    {
     "data": {
      "text/html": [
       "<div>\n",
       "<style scoped>\n",
       "    .dataframe tbody tr th:only-of-type {\n",
       "        vertical-align: middle;\n",
       "    }\n",
       "\n",
       "    .dataframe tbody tr th {\n",
       "        vertical-align: top;\n",
       "    }\n",
       "\n",
       "    .dataframe thead th {\n",
       "        text-align: right;\n",
       "    }\n",
       "</style>\n",
       "<table border=\"1\" class=\"dataframe\">\n",
       "  <thead>\n",
       "    <tr style=\"text-align: right;\">\n",
       "      <th></th>\n",
       "      <th>price</th>\n",
       "      <th>carat</th>\n",
       "      <th>cut</th>\n",
       "      <th>color</th>\n",
       "      <th>clarity</th>\n",
       "      <th>depth</th>\n",
       "      <th>table</th>\n",
       "      <th>Length</th>\n",
       "      <th>Width</th>\n",
       "      <th>Height</th>\n",
       "      <th>Price Cat</th>\n",
       "    </tr>\n",
       "  </thead>\n",
       "  <tbody>\n",
       "    <tr>\n",
       "      <th>0</th>\n",
       "      <td>326</td>\n",
       "      <td>0.23</td>\n",
       "      <td>Ideal</td>\n",
       "      <td>E</td>\n",
       "      <td>SI2</td>\n",
       "      <td>61.5</td>\n",
       "      <td>55.0</td>\n",
       "      <td>3.98</td>\n",
       "      <td>3.95</td>\n",
       "      <td>2.43</td>\n",
       "      <td>Affortable</td>\n",
       "    </tr>\n",
       "    <tr>\n",
       "      <th>1</th>\n",
       "      <td>326</td>\n",
       "      <td>0.21</td>\n",
       "      <td>Premium</td>\n",
       "      <td>E</td>\n",
       "      <td>SI1</td>\n",
       "      <td>59.8</td>\n",
       "      <td>61.0</td>\n",
       "      <td>3.84</td>\n",
       "      <td>3.89</td>\n",
       "      <td>2.31</td>\n",
       "      <td>Affortable</td>\n",
       "    </tr>\n",
       "    <tr>\n",
       "      <th>6</th>\n",
       "      <td>337</td>\n",
       "      <td>0.22</td>\n",
       "      <td>Fair</td>\n",
       "      <td>E</td>\n",
       "      <td>VS2</td>\n",
       "      <td>65.1</td>\n",
       "      <td>61.0</td>\n",
       "      <td>3.78</td>\n",
       "      <td>3.87</td>\n",
       "      <td>2.49</td>\n",
       "      <td>Affortable</td>\n",
       "    </tr>\n",
       "    <tr>\n",
       "      <th>12</th>\n",
       "      <td>345</td>\n",
       "      <td>0.20</td>\n",
       "      <td>Premium</td>\n",
       "      <td>E</td>\n",
       "      <td>SI2</td>\n",
       "      <td>60.2</td>\n",
       "      <td>62.0</td>\n",
       "      <td>3.75</td>\n",
       "      <td>3.79</td>\n",
       "      <td>2.27</td>\n",
       "      <td>Affortable</td>\n",
       "    </tr>\n",
       "    <tr>\n",
       "      <th>13</th>\n",
       "      <td>345</td>\n",
       "      <td>0.32</td>\n",
       "      <td>Premium</td>\n",
       "      <td>E</td>\n",
       "      <td>I1</td>\n",
       "      <td>60.9</td>\n",
       "      <td>58.0</td>\n",
       "      <td>4.42</td>\n",
       "      <td>4.38</td>\n",
       "      <td>2.68</td>\n",
       "      <td>Affortable</td>\n",
       "    </tr>\n",
       "    <tr>\n",
       "      <th>...</th>\n",
       "      <td>...</td>\n",
       "      <td>...</td>\n",
       "      <td>...</td>\n",
       "      <td>...</td>\n",
       "      <td>...</td>\n",
       "      <td>...</td>\n",
       "      <td>...</td>\n",
       "      <td>...</td>\n",
       "      <td>...</td>\n",
       "      <td>...</td>\n",
       "      <td>...</td>\n",
       "    </tr>\n",
       "    <tr>\n",
       "      <th>53924</th>\n",
       "      <td>2756</td>\n",
       "      <td>0.71</td>\n",
       "      <td>Ideal</td>\n",
       "      <td>E</td>\n",
       "      <td>SI1</td>\n",
       "      <td>61.9</td>\n",
       "      <td>56.0</td>\n",
       "      <td>5.73</td>\n",
       "      <td>5.71</td>\n",
       "      <td>3.54</td>\n",
       "      <td>Affortable</td>\n",
       "    </tr>\n",
       "    <tr>\n",
       "      <th>53926</th>\n",
       "      <td>2756</td>\n",
       "      <td>0.79</td>\n",
       "      <td>Premium</td>\n",
       "      <td>E</td>\n",
       "      <td>SI2</td>\n",
       "      <td>61.4</td>\n",
       "      <td>58.0</td>\n",
       "      <td>5.96</td>\n",
       "      <td>6.03</td>\n",
       "      <td>3.68</td>\n",
       "      <td>Affortable</td>\n",
       "    </tr>\n",
       "    <tr>\n",
       "      <th>53928</th>\n",
       "      <td>2756</td>\n",
       "      <td>0.71</td>\n",
       "      <td>Premium</td>\n",
       "      <td>E</td>\n",
       "      <td>SI1</td>\n",
       "      <td>60.5</td>\n",
       "      <td>55.0</td>\n",
       "      <td>5.74</td>\n",
       "      <td>5.79</td>\n",
       "      <td>3.49</td>\n",
       "      <td>Affortable</td>\n",
       "    </tr>\n",
       "    <tr>\n",
       "      <th>53930</th>\n",
       "      <td>2757</td>\n",
       "      <td>0.70</td>\n",
       "      <td>Very Good</td>\n",
       "      <td>E</td>\n",
       "      <td>VS2</td>\n",
       "      <td>60.5</td>\n",
       "      <td>59.0</td>\n",
       "      <td>5.76</td>\n",
       "      <td>5.71</td>\n",
       "      <td>3.47</td>\n",
       "      <td>Affortable</td>\n",
       "    </tr>\n",
       "    <tr>\n",
       "      <th>53931</th>\n",
       "      <td>2757</td>\n",
       "      <td>0.70</td>\n",
       "      <td>Very Good</td>\n",
       "      <td>E</td>\n",
       "      <td>VS2</td>\n",
       "      <td>61.2</td>\n",
       "      <td>59.0</td>\n",
       "      <td>5.72</td>\n",
       "      <td>5.69</td>\n",
       "      <td>3.49</td>\n",
       "      <td>Affortable</td>\n",
       "    </tr>\n",
       "  </tbody>\n",
       "</table>\n",
       "<p>9796 rows × 11 columns</p>\n",
       "</div>"
      ],
      "text/plain": [
       "       price  carat        cut color clarity  depth  table  Length  Width  \\\n",
       "0        326   0.23      Ideal     E     SI2   61.5   55.0    3.98   3.95   \n",
       "1        326   0.21    Premium     E     SI1   59.8   61.0    3.84   3.89   \n",
       "6        337   0.22       Fair     E     VS2   65.1   61.0    3.78   3.87   \n",
       "12       345   0.20    Premium     E     SI2   60.2   62.0    3.75   3.79   \n",
       "13       345   0.32    Premium     E      I1   60.9   58.0    4.42   4.38   \n",
       "...      ...    ...        ...   ...     ...    ...    ...     ...    ...   \n",
       "53924   2756   0.71      Ideal     E     SI1   61.9   56.0    5.73   5.71   \n",
       "53926   2756   0.79    Premium     E     SI2   61.4   58.0    5.96   6.03   \n",
       "53928   2756   0.71    Premium     E     SI1   60.5   55.0    5.74   5.79   \n",
       "53930   2757   0.70  Very Good     E     VS2   60.5   59.0    5.76   5.71   \n",
       "53931   2757   0.70  Very Good     E     VS2   61.2   59.0    5.72   5.69   \n",
       "\n",
       "       Height   Price Cat  \n",
       "0        2.43  Affortable  \n",
       "1        2.31  Affortable  \n",
       "6        2.49  Affortable  \n",
       "12       2.27  Affortable  \n",
       "13       2.68  Affortable  \n",
       "...       ...         ...  \n",
       "53924    3.54  Affortable  \n",
       "53926    3.68  Affortable  \n",
       "53928    3.49  Affortable  \n",
       "53930    3.47  Affortable  \n",
       "53931    3.49  Affortable  \n",
       "\n",
       "[9796 rows x 11 columns]"
      ]
     },
     "execution_count": 148,
     "metadata": {},
     "output_type": "execute_result"
    }
   ],
   "source": [
    "FindingValues=DiamondPricesData['color'].isin(['E']).values\n",
    "DiamondPricesData[FindingValues]"
   ]
  },
  {
   "cell_type": "code",
   "execution_count": 149,
   "id": "6327a739",
   "metadata": {},
   "outputs": [],
   "source": [
    "DiamondPricesData=DiamondPricesData.drop('Price Cat',1)"
   ]
  },
  {
   "cell_type": "code",
   "execution_count": 150,
   "id": "f348b87e",
   "metadata": {},
   "outputs": [
    {
     "data": {
      "text/html": [
       "<div>\n",
       "<style scoped>\n",
       "    .dataframe tbody tr th:only-of-type {\n",
       "        vertical-align: middle;\n",
       "    }\n",
       "\n",
       "    .dataframe tbody tr th {\n",
       "        vertical-align: top;\n",
       "    }\n",
       "\n",
       "    .dataframe thead th {\n",
       "        text-align: right;\n",
       "    }\n",
       "</style>\n",
       "<table border=\"1\" class=\"dataframe\">\n",
       "  <thead>\n",
       "    <tr style=\"text-align: right;\">\n",
       "      <th></th>\n",
       "      <th>price</th>\n",
       "      <th>carat</th>\n",
       "      <th>cut</th>\n",
       "      <th>color</th>\n",
       "      <th>clarity</th>\n",
       "      <th>depth</th>\n",
       "      <th>table</th>\n",
       "      <th>Length</th>\n",
       "      <th>Width</th>\n",
       "      <th>Height</th>\n",
       "    </tr>\n",
       "  </thead>\n",
       "  <tbody>\n",
       "    <tr>\n",
       "      <th>0</th>\n",
       "      <td>326</td>\n",
       "      <td>0.23</td>\n",
       "      <td>Ideal</td>\n",
       "      <td>E</td>\n",
       "      <td>SI2</td>\n",
       "      <td>61.5</td>\n",
       "      <td>55.0</td>\n",
       "      <td>3.98</td>\n",
       "      <td>3.95</td>\n",
       "      <td>2.43</td>\n",
       "    </tr>\n",
       "    <tr>\n",
       "      <th>1</th>\n",
       "      <td>326</td>\n",
       "      <td>0.21</td>\n",
       "      <td>Premium</td>\n",
       "      <td>E</td>\n",
       "      <td>SI1</td>\n",
       "      <td>59.8</td>\n",
       "      <td>61.0</td>\n",
       "      <td>3.84</td>\n",
       "      <td>3.89</td>\n",
       "      <td>2.31</td>\n",
       "    </tr>\n",
       "    <tr>\n",
       "      <th>2</th>\n",
       "      <td>335</td>\n",
       "      <td>0.31</td>\n",
       "      <td>Good</td>\n",
       "      <td>J</td>\n",
       "      <td>SI2</td>\n",
       "      <td>63.3</td>\n",
       "      <td>58.0</td>\n",
       "      <td>4.35</td>\n",
       "      <td>4.34</td>\n",
       "      <td>2.75</td>\n",
       "    </tr>\n",
       "    <tr>\n",
       "      <th>3</th>\n",
       "      <td>336</td>\n",
       "      <td>0.24</td>\n",
       "      <td>Very Good</td>\n",
       "      <td>J</td>\n",
       "      <td>VVS2</td>\n",
       "      <td>NaN</td>\n",
       "      <td>57.0</td>\n",
       "      <td>3.96</td>\n",
       "      <td>3.94</td>\n",
       "      <td>2.48</td>\n",
       "    </tr>\n",
       "    <tr>\n",
       "      <th>4</th>\n",
       "      <td>336</td>\n",
       "      <td>0.24</td>\n",
       "      <td>Very Good</td>\n",
       "      <td>I</td>\n",
       "      <td>VVS1</td>\n",
       "      <td>62.3</td>\n",
       "      <td>57.0</td>\n",
       "      <td>3.98</td>\n",
       "      <td>3.95</td>\n",
       "      <td>2.47</td>\n",
       "    </tr>\n",
       "    <tr>\n",
       "      <th>...</th>\n",
       "      <td>...</td>\n",
       "      <td>...</td>\n",
       "      <td>...</td>\n",
       "      <td>...</td>\n",
       "      <td>...</td>\n",
       "      <td>...</td>\n",
       "      <td>...</td>\n",
       "      <td>...</td>\n",
       "      <td>...</td>\n",
       "      <td>...</td>\n",
       "    </tr>\n",
       "    <tr>\n",
       "      <th>53933</th>\n",
       "      <td>2757</td>\n",
       "      <td>0.72</td>\n",
       "      <td>Ideal</td>\n",
       "      <td>D</td>\n",
       "      <td>SI1</td>\n",
       "      <td>60.8</td>\n",
       "      <td>57.0</td>\n",
       "      <td>5.76</td>\n",
       "      <td>5.75</td>\n",
       "      <td>3.50</td>\n",
       "    </tr>\n",
       "    <tr>\n",
       "      <th>53934</th>\n",
       "      <td>2757</td>\n",
       "      <td>0.72</td>\n",
       "      <td>Good</td>\n",
       "      <td>D</td>\n",
       "      <td>SI1</td>\n",
       "      <td>63.1</td>\n",
       "      <td>55.0</td>\n",
       "      <td>5.75</td>\n",
       "      <td>5.69</td>\n",
       "      <td>3.61</td>\n",
       "    </tr>\n",
       "    <tr>\n",
       "      <th>53935</th>\n",
       "      <td>2757</td>\n",
       "      <td>0.70</td>\n",
       "      <td>Very Good</td>\n",
       "      <td>D</td>\n",
       "      <td>SI1</td>\n",
       "      <td>62.8</td>\n",
       "      <td>60.0</td>\n",
       "      <td>5.68</td>\n",
       "      <td>5.66</td>\n",
       "      <td>3.56</td>\n",
       "    </tr>\n",
       "    <tr>\n",
       "      <th>53936</th>\n",
       "      <td>2757</td>\n",
       "      <td>0.86</td>\n",
       "      <td>Premium</td>\n",
       "      <td>H</td>\n",
       "      <td>SI2</td>\n",
       "      <td>61.0</td>\n",
       "      <td>58.0</td>\n",
       "      <td>6.12</td>\n",
       "      <td>6.15</td>\n",
       "      <td>3.74</td>\n",
       "    </tr>\n",
       "    <tr>\n",
       "      <th>53937</th>\n",
       "      <td>2757</td>\n",
       "      <td>0.75</td>\n",
       "      <td>Ideal</td>\n",
       "      <td>D</td>\n",
       "      <td>SI2</td>\n",
       "      <td>62.2</td>\n",
       "      <td>55.0</td>\n",
       "      <td>5.87</td>\n",
       "      <td>5.83</td>\n",
       "      <td>3.64</td>\n",
       "    </tr>\n",
       "  </tbody>\n",
       "</table>\n",
       "<p>53938 rows × 10 columns</p>\n",
       "</div>"
      ],
      "text/plain": [
       "       price  carat        cut color clarity  depth  table  Length  Width  \\\n",
       "0        326   0.23      Ideal     E     SI2   61.5   55.0    3.98   3.95   \n",
       "1        326   0.21    Premium     E     SI1   59.8   61.0    3.84   3.89   \n",
       "2        335   0.31       Good     J     SI2   63.3   58.0    4.35   4.34   \n",
       "3        336   0.24  Very Good     J    VVS2    NaN   57.0    3.96   3.94   \n",
       "4        336   0.24  Very Good     I    VVS1   62.3   57.0    3.98   3.95   \n",
       "...      ...    ...        ...   ...     ...    ...    ...     ...    ...   \n",
       "53933   2757   0.72      Ideal     D     SI1   60.8   57.0    5.76   5.75   \n",
       "53934   2757   0.72       Good     D     SI1   63.1   55.0    5.75   5.69   \n",
       "53935   2757   0.70  Very Good     D     SI1   62.8   60.0    5.68   5.66   \n",
       "53936   2757   0.86    Premium     H     SI2   61.0   58.0    6.12   6.15   \n",
       "53937   2757   0.75      Ideal     D     SI2   62.2   55.0    5.87   5.83   \n",
       "\n",
       "       Height  \n",
       "0        2.43  \n",
       "1        2.31  \n",
       "2        2.75  \n",
       "3        2.48  \n",
       "4        2.47  \n",
       "...       ...  \n",
       "53933    3.50  \n",
       "53934    3.61  \n",
       "53935    3.56  \n",
       "53936    3.74  \n",
       "53937    3.64  \n",
       "\n",
       "[53938 rows x 10 columns]"
      ]
     },
     "execution_count": 150,
     "metadata": {},
     "output_type": "execute_result"
    }
   ],
   "source": [
    "DiamondPricesData"
   ]
  },
  {
   "cell_type": "code",
   "execution_count": 151,
   "id": "9b8d324d",
   "metadata": {},
   "outputs": [
    {
     "data": {
      "text/html": [
       "<div>\n",
       "<style scoped>\n",
       "    .dataframe tbody tr th:only-of-type {\n",
       "        vertical-align: middle;\n",
       "    }\n",
       "\n",
       "    .dataframe tbody tr th {\n",
       "        vertical-align: top;\n",
       "    }\n",
       "\n",
       "    .dataframe thead th {\n",
       "        text-align: right;\n",
       "    }\n",
       "</style>\n",
       "<table border=\"1\" class=\"dataframe\">\n",
       "  <thead>\n",
       "    <tr style=\"text-align: right;\">\n",
       "      <th></th>\n",
       "      <th>price</th>\n",
       "      <th>carat</th>\n",
       "      <th>cut</th>\n",
       "      <th>color</th>\n",
       "      <th>clarity</th>\n",
       "      <th>depth</th>\n",
       "      <th>table</th>\n",
       "      <th>Length</th>\n",
       "      <th>Width</th>\n",
       "      <th>Height</th>\n",
       "    </tr>\n",
       "  </thead>\n",
       "  <tbody>\n",
       "    <tr>\n",
       "      <th>0</th>\n",
       "      <td>326</td>\n",
       "      <td>0.23</td>\n",
       "      <td>Ideal</td>\n",
       "      <td>E</td>\n",
       "      <td>SI2</td>\n",
       "      <td>61.5</td>\n",
       "      <td>55.0</td>\n",
       "      <td>3.98</td>\n",
       "      <td>3.95</td>\n",
       "      <td>2.43</td>\n",
       "    </tr>\n",
       "    <tr>\n",
       "      <th>1</th>\n",
       "      <td>326</td>\n",
       "      <td>0.21</td>\n",
       "      <td>Premium</td>\n",
       "      <td>E</td>\n",
       "      <td>SI1</td>\n",
       "      <td>59.8</td>\n",
       "      <td>61.0</td>\n",
       "      <td>3.84</td>\n",
       "      <td>3.89</td>\n",
       "      <td>2.31</td>\n",
       "    </tr>\n",
       "    <tr>\n",
       "      <th>2</th>\n",
       "      <td>335</td>\n",
       "      <td>0.31</td>\n",
       "      <td>Good</td>\n",
       "      <td>J</td>\n",
       "      <td>SI2</td>\n",
       "      <td>63.3</td>\n",
       "      <td>58.0</td>\n",
       "      <td>4.35</td>\n",
       "      <td>4.34</td>\n",
       "      <td>2.75</td>\n",
       "    </tr>\n",
       "    <tr>\n",
       "      <th>3</th>\n",
       "      <td>336</td>\n",
       "      <td>0.24</td>\n",
       "      <td>Very Good</td>\n",
       "      <td>J</td>\n",
       "      <td>VVS2</td>\n",
       "      <td>NaN</td>\n",
       "      <td>57.0</td>\n",
       "      <td>3.96</td>\n",
       "      <td>3.94</td>\n",
       "      <td>2.48</td>\n",
       "    </tr>\n",
       "    <tr>\n",
       "      <th>4</th>\n",
       "      <td>336</td>\n",
       "      <td>0.24</td>\n",
       "      <td>Very Good</td>\n",
       "      <td>I</td>\n",
       "      <td>VVS1</td>\n",
       "      <td>62.3</td>\n",
       "      <td>57.0</td>\n",
       "      <td>3.98</td>\n",
       "      <td>3.95</td>\n",
       "      <td>2.47</td>\n",
       "    </tr>\n",
       "    <tr>\n",
       "      <th>5</th>\n",
       "      <td>337</td>\n",
       "      <td>0.26</td>\n",
       "      <td>Very Good</td>\n",
       "      <td>H</td>\n",
       "      <td>SI1</td>\n",
       "      <td>61.9</td>\n",
       "      <td>55.0</td>\n",
       "      <td>4.11</td>\n",
       "      <td>4.07</td>\n",
       "      <td>2.53</td>\n",
       "    </tr>\n",
       "    <tr>\n",
       "      <th>6</th>\n",
       "      <td>337</td>\n",
       "      <td>0.22</td>\n",
       "      <td>Better then Good</td>\n",
       "      <td>E</td>\n",
       "      <td>VS2</td>\n",
       "      <td>65.1</td>\n",
       "      <td>61.0</td>\n",
       "      <td>3.78</td>\n",
       "      <td>3.87</td>\n",
       "      <td>2.49</td>\n",
       "    </tr>\n",
       "    <tr>\n",
       "      <th>7</th>\n",
       "      <td>338</td>\n",
       "      <td>0.23</td>\n",
       "      <td>Very Good</td>\n",
       "      <td>H</td>\n",
       "      <td>VS1</td>\n",
       "      <td>59.4</td>\n",
       "      <td>61.0</td>\n",
       "      <td>4.05</td>\n",
       "      <td>4.00</td>\n",
       "      <td>2.39</td>\n",
       "    </tr>\n",
       "    <tr>\n",
       "      <th>8</th>\n",
       "      <td>339</td>\n",
       "      <td>0.30</td>\n",
       "      <td>Good</td>\n",
       "      <td>J</td>\n",
       "      <td>SI1</td>\n",
       "      <td>64.0</td>\n",
       "      <td>55.0</td>\n",
       "      <td>4.28</td>\n",
       "      <td>4.25</td>\n",
       "      <td>2.73</td>\n",
       "    </tr>\n",
       "    <tr>\n",
       "      <th>9</th>\n",
       "      <td>340</td>\n",
       "      <td>0.23</td>\n",
       "      <td>Ideal</td>\n",
       "      <td>J</td>\n",
       "      <td>VS1</td>\n",
       "      <td>62.8</td>\n",
       "      <td>56.0</td>\n",
       "      <td>3.90</td>\n",
       "      <td>3.93</td>\n",
       "      <td>2.46</td>\n",
       "    </tr>\n",
       "  </tbody>\n",
       "</table>\n",
       "</div>"
      ],
      "text/plain": [
       "   price  carat               cut color clarity  depth  table  Length  Width  \\\n",
       "0    326   0.23             Ideal     E     SI2   61.5   55.0    3.98   3.95   \n",
       "1    326   0.21           Premium     E     SI1   59.8   61.0    3.84   3.89   \n",
       "2    335   0.31              Good     J     SI2   63.3   58.0    4.35   4.34   \n",
       "3    336   0.24         Very Good     J    VVS2    NaN   57.0    3.96   3.94   \n",
       "4    336   0.24         Very Good     I    VVS1   62.3   57.0    3.98   3.95   \n",
       "5    337   0.26         Very Good     H     SI1   61.9   55.0    4.11   4.07   \n",
       "6    337   0.22  Better then Good     E     VS2   65.1   61.0    3.78   3.87   \n",
       "7    338   0.23         Very Good     H     VS1   59.4   61.0    4.05   4.00   \n",
       "8    339   0.30              Good     J     SI1   64.0   55.0    4.28   4.25   \n",
       "9    340   0.23             Ideal     J     VS1   62.8   56.0    3.90   3.93   \n",
       "\n",
       "   Height  \n",
       "0    2.43  \n",
       "1    2.31  \n",
       "2    2.75  \n",
       "3    2.48  \n",
       "4    2.47  \n",
       "5    2.53  \n",
       "6    2.49  \n",
       "7    2.39  \n",
       "8    2.73  \n",
       "9    2.46  "
      ]
     },
     "execution_count": 151,
     "metadata": {},
     "output_type": "execute_result"
    }
   ],
   "source": [
    "DiamondPricesData['cut'].replace({'Fair':'Better then Good'},inplace=True)\n",
    "DiamondPricesData.head(10)"
   ]
  },
  {
   "cell_type": "code",
   "execution_count": 152,
   "id": "81408c1a",
   "metadata": {},
   "outputs": [
    {
     "data": {
      "text/html": [
       "<div>\n",
       "<style scoped>\n",
       "    .dataframe tbody tr th:only-of-type {\n",
       "        vertical-align: middle;\n",
       "    }\n",
       "\n",
       "    .dataframe tbody tr th {\n",
       "        vertical-align: top;\n",
       "    }\n",
       "\n",
       "    .dataframe thead th {\n",
       "        text-align: right;\n",
       "    }\n",
       "</style>\n",
       "<table border=\"1\" class=\"dataframe\">\n",
       "  <thead>\n",
       "    <tr style=\"text-align: right;\">\n",
       "      <th></th>\n",
       "      <th>price</th>\n",
       "      <th>carat</th>\n",
       "      <th>depth</th>\n",
       "      <th>table</th>\n",
       "      <th>Length</th>\n",
       "      <th>Width</th>\n",
       "      <th>Height</th>\n",
       "    </tr>\n",
       "  </thead>\n",
       "  <tbody>\n",
       "    <tr>\n",
       "      <th>count</th>\n",
       "      <td>53938.00</td>\n",
       "      <td>53938.00</td>\n",
       "      <td>53924.00</td>\n",
       "      <td>53938.00</td>\n",
       "      <td>53938.00</td>\n",
       "      <td>53938.00</td>\n",
       "      <td>53938.00</td>\n",
       "    </tr>\n",
       "    <tr>\n",
       "      <th>mean</th>\n",
       "      <td>3932.93</td>\n",
       "      <td>0.80</td>\n",
       "      <td>61.75</td>\n",
       "      <td>57.46</td>\n",
       "      <td>5.73</td>\n",
       "      <td>5.73</td>\n",
       "      <td>3.54</td>\n",
       "    </tr>\n",
       "    <tr>\n",
       "      <th>std</th>\n",
       "      <td>3989.45</td>\n",
       "      <td>0.47</td>\n",
       "      <td>1.43</td>\n",
       "      <td>2.23</td>\n",
       "      <td>1.14</td>\n",
       "      <td>1.12</td>\n",
       "      <td>0.71</td>\n",
       "    </tr>\n",
       "    <tr>\n",
       "      <th>min</th>\n",
       "      <td>326.00</td>\n",
       "      <td>0.20</td>\n",
       "      <td>43.00</td>\n",
       "      <td>43.00</td>\n",
       "      <td>0.00</td>\n",
       "      <td>0.00</td>\n",
       "      <td>0.00</td>\n",
       "    </tr>\n",
       "    <tr>\n",
       "      <th>25%</th>\n",
       "      <td>950.00</td>\n",
       "      <td>0.40</td>\n",
       "      <td>61.00</td>\n",
       "      <td>56.00</td>\n",
       "      <td>4.72</td>\n",
       "      <td>4.71</td>\n",
       "      <td>2.91</td>\n",
       "    </tr>\n",
       "    <tr>\n",
       "      <th>50%</th>\n",
       "      <td>2401.00</td>\n",
       "      <td>0.70</td>\n",
       "      <td>61.80</td>\n",
       "      <td>57.00</td>\n",
       "      <td>5.71</td>\n",
       "      <td>5.70</td>\n",
       "      <td>3.53</td>\n",
       "    </tr>\n",
       "    <tr>\n",
       "      <th>75%</th>\n",
       "      <td>5324.75</td>\n",
       "      <td>1.04</td>\n",
       "      <td>62.50</td>\n",
       "      <td>59.00</td>\n",
       "      <td>6.54</td>\n",
       "      <td>6.54</td>\n",
       "      <td>4.04</td>\n",
       "    </tr>\n",
       "    <tr>\n",
       "      <th>max</th>\n",
       "      <td>18823.00</td>\n",
       "      <td>5.01</td>\n",
       "      <td>79.00</td>\n",
       "      <td>95.00</td>\n",
       "      <td>58.90</td>\n",
       "      <td>10.74</td>\n",
       "      <td>31.80</td>\n",
       "    </tr>\n",
       "  </tbody>\n",
       "</table>\n",
       "</div>"
      ],
      "text/plain": [
       "          price     carat     depth     table    Length     Width    Height\n",
       "count  53938.00  53938.00  53924.00  53938.00  53938.00  53938.00  53938.00\n",
       "mean    3932.93      0.80     61.75     57.46      5.73      5.73      3.54\n",
       "std     3989.45      0.47      1.43      2.23      1.14      1.12      0.71\n",
       "min      326.00      0.20     43.00     43.00      0.00      0.00      0.00\n",
       "25%      950.00      0.40     61.00     56.00      4.72      4.71      2.91\n",
       "50%     2401.00      0.70     61.80     57.00      5.71      5.70      3.53\n",
       "75%     5324.75      1.04     62.50     59.00      6.54      6.54      4.04\n",
       "max    18823.00      5.01     79.00     95.00     58.90     10.74     31.80"
      ]
     },
     "execution_count": 152,
     "metadata": {},
     "output_type": "execute_result"
    }
   ],
   "source": [
    "round(DiamondPricesData.describe(),2)"
   ]
  },
  {
   "cell_type": "code",
   "execution_count": 153,
   "id": "97ab9997",
   "metadata": {},
   "outputs": [
    {
     "name": "stdout",
     "output_type": "stream",
     "text": [
      "<class 'pandas.core.frame.DataFrame'>\n",
      "RangeIndex: 53938 entries, 0 to 53937\n",
      "Data columns (total 10 columns):\n",
      " #   Column   Non-Null Count  Dtype  \n",
      "---  ------   --------------  -----  \n",
      " 0   price    53938 non-null  int64  \n",
      " 1   carat    53938 non-null  float64\n",
      " 2   cut      53938 non-null  object \n",
      " 3   color    53932 non-null  object \n",
      " 4   clarity  53938 non-null  object \n",
      " 5   depth    53924 non-null  float64\n",
      " 6   table    53938 non-null  float64\n",
      " 7   Length   53938 non-null  float64\n",
      " 8   Width    53938 non-null  float64\n",
      " 9   Height   53938 non-null  float64\n",
      "dtypes: float64(6), int64(1), object(3)\n",
      "memory usage: 4.1+ MB\n"
     ]
    }
   ],
   "source": [
    "DiamondPricesData.info()"
   ]
  },
  {
   "cell_type": "code",
   "execution_count": 154,
   "id": "1e0201dd",
   "metadata": {},
   "outputs": [
    {
     "data": {
      "text/plain": [
       "price      11600\n",
       "carat        273\n",
       "cut            5\n",
       "color          7\n",
       "clarity        8\n",
       "depth        184\n",
       "table        127\n",
       "Length       552\n",
       "Width        554\n",
       "Height       375\n",
       "dtype: int64"
      ]
     },
     "execution_count": 154,
     "metadata": {},
     "output_type": "execute_result"
    }
   ],
   "source": [
    "DiamondPricesData.nunique()"
   ]
  },
  {
   "cell_type": "markdown",
   "id": "9dc1e62f",
   "metadata": {},
   "source": [
    "# Data Description"
   ]
  },
  {
   "cell_type": "raw",
   "id": "baf1eab0",
   "metadata": {},
   "source": [
    "price:Prices Of a Diamond\n",
    "carat:Unit Of Measurement \n",
    "cut:diamond's proportions, symmetry and polish.\n",
    "color:color Of a Diamond\n",
    "clarity:Diamond clarity is \n",
    "the quality of diamonds that relates to the existence\n",
    "and visual appearance of internal characteristics of\n",
    "a diamond called inclusions, and surface defects, called blemishes.\n",
    "depth:The depth of diamond is its height\n",
    "in millimeters) measured from the culet (bottom tip) to the table\n",
    "table:A diamond's table is the flat facet on its surface\n",
    "Length:Length Of Diamond\n",
    "Width:Width Of Diamond\n",
    "Height:Thickness of Diamond\n",
    "Price Cat:Price Category based on carat"
   ]
  },
  {
   "cell_type": "markdown",
   "id": "9f4cf813",
   "metadata": {},
   "source": [
    "# Defining Problem Statement"
   ]
  },
  {
   "cell_type": "markdown",
   "id": "e38c2597",
   "metadata": {},
   "source": [
    "Here target variable is Price Which is Continous So,We Can COnsider this As \n",
    "Supervised Regression Machine Learning.And the Predictors are clarity,cut,l,W,H,table,color"
   ]
  },
  {
   "cell_type": "code",
   "execution_count": 155,
   "id": "1c45597c",
   "metadata": {},
   "outputs": [],
   "source": [
    "%matplotlib inline"
   ]
  },
  {
   "cell_type": "code",
   "execution_count": 156,
   "id": "4837a0c7",
   "metadata": {},
   "outputs": [
    {
     "data": {
      "text/plain": [
       "<AxesSubplot:>"
      ]
     },
     "execution_count": 156,
     "metadata": {},
     "output_type": "execute_result"
    },
    {
     "data": {
      "image/png": "[encoded data removed]",
      "text/plain": [
       "<Figure size 432x288 with 1 Axes>"
      ]
     },
     "metadata": {
      "needs_background": "light"
     },
     "output_type": "display_data"
    }
   ],
   "source": [
    "DiamondPricesData['price'].hist()"
   ]
  },
  {
   "cell_type": "markdown",
   "id": "587df9f9",
   "metadata": {},
   "source": [
    "The Data Distribution Of the Target Variable is satisfactory so that we can proceed further.Though \n",
    "It is not a ideal bell curve and slightly skewed on positive side but  number of rows\n",
    "for each values to learn from"
   ]
  },
  {
   "cell_type": "markdown",
   "id": "caff6d7f",
   "metadata": {},
   "source": [
    "# Basic Data Exploration Results"
   ]
  },
  {
   "cell_type": "raw",
   "id": "543e998f",
   "metadata": {},
   "source": [
    "carat:Selected,Continous\n",
    "color:Selected,Categorical\n",
    "cut:Selected,Categorical\n",
    "clarity:Selected,Categorical\n",
    "Depth:Selected,Continous\n",
    "Length:Selected,Continous\n",
    "Width:Selected,Continous\n",
    "Height:Selected,Continous\n",
    "table:Selected,Continous\n",
    "price:Selected,Continous(TARGER VARIABLE)\n"
   ]
  },
  {
   "cell_type": "markdown",
   "id": "11dc91f8",
   "metadata": {},
   "source": [
    "# Target Vs Predictors ( Continous Vs Continous)"
   ]
  },
  {
   "cell_type": "code",
   "execution_count": 157,
   "id": "72935cdb",
   "metadata": {},
   "outputs": [],
   "source": [
    "ConList=['carat','depth','Width','Length','Height','table']"
   ]
  },
  {
   "cell_type": "code",
   "execution_count": 158,
   "id": "9bf3fbef",
   "metadata": {},
   "outputs": [
    {
     "data": {
      "text/plain": [
       "array([[<AxesSubplot:title={'center':'carat'}>,\n",
       "        <AxesSubplot:title={'center':'depth'}>],\n",
       "       [<AxesSubplot:title={'center':'Width'}>,\n",
       "        <AxesSubplot:title={'center':'Length'}>],\n",
       "       [<AxesSubplot:title={'center':'Height'}>,\n",
       "        <AxesSubplot:title={'center':'table'}>]], dtype=object)"
      ]
     },
     "execution_count": 158,
     "metadata": {},
     "output_type": "execute_result"
    },
    {
     "data": {
      "image/png": "[encoded data removed]",
      "text/plain": [
       "<Figure size 1296x720 with 6 Axes>"
      ]
     },
     "metadata": {
      "needs_background": "light"
     },
     "output_type": "display_data"
    }
   ],
   "source": [
    "DiamondPricesData.hist(ConList,figsize=(18,10),color='green')"
   ]
  },
  {
   "cell_type": "code",
   "execution_count": 159,
   "id": "b694ff6b",
   "metadata": {},
   "outputs": [],
   "source": [
    "outliers=[]\n",
    "def detect_outliers(data):\n",
    "    thresold=3\n",
    "    mean=np.mean(data)\n",
    "    std=np.std(data)\n",
    "    \n",
    "    for i in data:\n",
    "        z_score=(i-mean)/std\n",
    "        if np.abs(z_score)>thresold:\n",
    "            outliers.append(i)\n",
    "        return outliers"
   ]
  },
  {
   "cell_type": "code",
   "execution_count": 160,
   "id": "02c03e38",
   "metadata": {},
   "outputs": [
    {
     "data": {
      "text/plain": [
       "[]"
      ]
     },
     "execution_count": 160,
     "metadata": {},
     "output_type": "execute_result"
    }
   ],
   "source": [
    "detect_outliers(data=DiamondPricesData['Width'])"
   ]
  },
  {
   "cell_type": "code",
   "execution_count": 161,
   "id": "2c2612a2",
   "metadata": {},
   "outputs": [],
   "source": [
    "import scipy.stats as stats"
   ]
  },
  {
   "cell_type": "code",
   "execution_count": 162,
   "id": "0ae49e77",
   "metadata": {},
   "outputs": [],
   "source": [
    "a=stats.zscore(DiamondPricesData['Length'])"
   ]
  },
  {
   "cell_type": "code",
   "execution_count": 163,
   "id": "6c3414f4",
   "metadata": {},
   "outputs": [
    {
     "data": {
      "text/plain": [
       "array([-1.53627349, -1.65885422, -1.21231011, ..., -0.0477931 ,\n",
       "        0.33746065,  0.11856647])"
      ]
     },
     "execution_count": 163,
     "metadata": {},
     "output_type": "execute_result"
    }
   ],
   "source": [
    "a"
   ]
  },
  {
   "cell_type": "code",
   "execution_count": 164,
   "id": "515e6764",
   "metadata": {},
   "outputs": [],
   "source": [
    "mean = np.mean(DiamondPricesData['table'])\n",
    "std = np.std(DiamondPricesData['table'])"
   ]
  },
  {
   "cell_type": "code",
   "execution_count": 165,
   "id": "af611155",
   "metadata": {},
   "outputs": [
    {
     "name": "stdout",
     "output_type": "stream",
     "text": [
      "outlier in Columns are [69.0, 70.0, 70.0, 69.0, 69.0, 69.0, 70.0, 69.0, 95.0, 69.0, 69.0, 70.0, 69.0, 70.0, 71.0, 70.0, 73.0, 79.0, 70.0, 76.0, 73.0, 70.0, 70.0, 69.0, 73.0, 73.0]\n"
     ]
    }
   ],
   "source": [
    "threshold = 5\n",
    "outlier = []\n",
    "for i in DiamondPricesData['table']:\n",
    "    z = (i-mean)/std\n",
    "    if z > threshold:\n",
    "        outlier.append(i)\n",
    "print('outlier in Columns are', outlier)"
   ]
  },
  {
   "cell_type": "markdown",
   "id": "b9957912",
   "metadata": {},
   "source": [
    "# Histogram Results"
   ]
  },
  {
   "cell_type": "raw",
   "id": "2a3d0bd7",
   "metadata": {},
   "source": [
    "Carat:Distribution of carat is not ideal bell curve but still it is slightly skewed on the\n",
    "positive side,so that we can consider this.\n",
    "table: Selected. The distribution is good.\n",
    "depth: Selected. The distribution is good.\n",
    "Length: Selected.  Outliers seen beyond 20, need to treat them.\n",
    "Width: Selected.Outliers near 0, need to treat them.\n",
    "Height: Selected. Outliers seen beyond 10, need to treat them."
   ]
  },
  {
   "cell_type": "code",
   "execution_count": 166,
   "id": "88ad88dc",
   "metadata": {},
   "outputs": [
    {
     "name": "stdout",
     "output_type": "stream",
     "text": [
      "60\n",
      "63\n"
     ]
    }
   ],
   "source": [
    "Range01=int(DiamondPricesData['depth'].quantile(0.1))\n",
    "Range95=int(DiamondPricesData['depth'].quantile(0.95))\n",
    "print(Range01)\n",
    "print(Range95)"
   ]
  },
  {
   "cell_type": "code",
   "execution_count": 167,
   "id": "cf0d63f6",
   "metadata": {},
   "outputs": [],
   "source": [
    "Condition1=(DiamondPricesData['depth']>=Range01)\n",
    "Condition2=(DiamondPricesData['depth']<=Range95)"
   ]
  },
  {
   "cell_type": "code",
   "execution_count": 168,
   "id": "a9c737d5",
   "metadata": {},
   "outputs": [],
   "source": [
    "DiamondPricesData=DiamondPricesData[Condition1 & Condition2]"
   ]
  },
  {
   "cell_type": "code",
   "execution_count": 169,
   "id": "1a99367d",
   "metadata": {},
   "outputs": [
    {
     "name": "stdout",
     "output_type": "stream",
     "text": [
      "4\n",
      "7\n"
     ]
    }
   ],
   "source": [
    "Range01=int(DiamondPricesData['Width'].quantile(0.1))\n",
    "Range95=int(DiamondPricesData['Width'].quantile(0.95))\n",
    "print(Range01)\n",
    "print(Range95)"
   ]
  },
  {
   "cell_type": "code",
   "execution_count": 170,
   "id": "7ac32cc8",
   "metadata": {},
   "outputs": [],
   "source": [
    "Condition1=(DiamondPricesData['Width']>=Range01)\n",
    "Condition2=(DiamondPricesData['Width']<=Range95)"
   ]
  },
  {
   "cell_type": "code",
   "execution_count": 171,
   "id": "aec6c6f9",
   "metadata": {},
   "outputs": [],
   "source": [
    "DiamondPricesData=DiamondPricesData[Condition1 & Condition2]"
   ]
  },
  {
   "cell_type": "code",
   "execution_count": null,
   "id": "c64de1d7",
   "metadata": {},
   "outputs": [],
   "source": []
  },
  {
   "cell_type": "markdown",
   "id": "a30d31a2",
   "metadata": {},
   "source": [
    "# Target Vs Predictors ( Continous Vs Categorical)"
   ]
  },
  {
   "cell_type": "code",
   "execution_count": 172,
   "id": "a2e2b48f",
   "metadata": {},
   "outputs": [],
   "source": [
    "def PlotBarCharts(inpData, colsToPlot):\n",
    "    %matplotlib inline\n",
    "    \n",
    "    import matplotlib.pyplot as plt\n",
    "    \n",
    "    # Generating multiple subplots\n",
    "    fig, subPlot=plt.subplots(nrows=1, ncols=len(colsToPlot), figsize=(20,5))\n",
    "    fig.suptitle('Bar charts of: '+ str(colsToPlot))\n",
    "\n",
    "    for colName, plotNumber in zip(colsToPlot, range(len(colsToPlot))):\n",
    "        inpData.groupby(colName).size().plot(kind='bar',ax=subPlot[plotNumber])"
   ]
  },
  {
   "cell_type": "code",
   "execution_count": 173,
   "id": "789f67ec",
   "metadata": {},
   "outputs": [
    {
     "data": {
      "image/png": "[encoded data removed]",
      "text/plain": [
       "<Figure size 1440x360 with 3 Axes>"
      ]
     },
     "metadata": {
      "needs_background": "light"
     },
     "output_type": "display_data"
    }
   ],
   "source": [
    "PlotBarCharts(inpData=DiamondPricesData, colsToPlot=['cut','color','clarity'])"
   ]
  },
  {
   "cell_type": "code",
   "execution_count": 174,
   "id": "18c62f28",
   "metadata": {},
   "outputs": [],
   "source": [
    "colsToPlot=['cut','color','clarity']"
   ]
  },
  {
   "cell_type": "code",
   "execution_count": 175,
   "id": "ef44f076",
   "metadata": {},
   "outputs": [
    {
     "data": {
      "text/plain": [
       "<AxesSubplot:xlabel='clarity', ylabel='count'>"
      ]
     },
     "execution_count": 175,
     "metadata": {},
     "output_type": "execute_result"
    },
    {
     "data": {
      "image/png": "[encoded data removed]",
      "text/plain": [
       "<Figure size 432x288 with 1 Axes>"
      ]
     },
     "metadata": {},
     "output_type": "display_data"
    }
   ],
   "source": [
    "import seaborn as sns\n",
    "sns.set_style('darkgrid')\n",
    "sns.countplot(x='clarity',data=DiamondPricesData,lw=2,ec='black')"
   ]
  },
  {
   "cell_type": "markdown",
   "id": "d3da98cb",
   "metadata": {},
   "source": [
    "# Bar Charts Results"
   ]
  },
  {
   "cell_type": "raw",
   "id": "e480eabb",
   "metadata": {},
   "source": [
    "For every bar chart there is an ideal bar each category has comparable frequency. Hence, there are enough\n",
    "rows for each category in the data for the ML algorithm to learn."
   ]
  },
  {
   "cell_type": "markdown",
   "id": "f18c27b8",
   "metadata": {},
   "source": [
    "# OutLiers Treatment"
   ]
  },
  {
   "cell_type": "code",
   "execution_count": 176,
   "id": "f5880005",
   "metadata": {},
   "outputs": [
    {
     "data": {
      "text/plain": [
       "12281    7.12\n",
       "18086    7.11\n",
       "17202    7.10\n",
       "15313    7.10\n",
       "20068    7.09\n",
       "         ... \n",
       "48325    3.97\n",
       "84       3.96\n",
       "28712    3.95\n",
       "28713    3.95\n",
       "28714    3.95\n",
       "Name: Length, Length: 36189, dtype: float64"
      ]
     },
     "execution_count": 176,
     "metadata": {},
     "output_type": "execute_result"
    }
   ],
   "source": [
    "DiamondPricesData['Length'][DiamondPricesData['Length']<20].sort_values(ascending=False)"
   ]
  },
  {
   "cell_type": "code",
   "execution_count": 177,
   "id": "b11afe86",
   "metadata": {},
   "outputs": [
    {
     "data": {
      "text/plain": [
       "48981    4.0\n",
       "28675    4.0\n",
       "28977    4.0\n",
       "1396     4.0\n",
       "1387     4.0\n",
       "        ... \n",
       "11676    7.0\n",
       "11971    7.0\n",
       "22602    7.0\n",
       "18907    7.0\n",
       "16422    7.0\n",
       "Name: Width, Length: 36190, dtype: float64"
      ]
     },
     "execution_count": 177,
     "metadata": {},
     "output_type": "execute_result"
    }
   ],
   "source": [
    "DiamondPricesData['Width'][DiamondPricesData['Width']>1].sort_values(ascending=True)"
   ]
  },
  {
   "cell_type": "code",
   "execution_count": 178,
   "id": "1c4c2c11",
   "metadata": {},
   "outputs": [
    {
     "data": {
      "text/plain": [
       "49187    5.12\n",
       "26493    4.96\n",
       "34280    4.44\n",
       "18652    4.42\n",
       "18086    4.42\n",
       "         ... \n",
       "47136    2.25\n",
       "39244    2.06\n",
       "14633    1.07\n",
       "4789     0.00\n",
       "51504    0.00\n",
       "Name: Height, Length: 36189, dtype: float64"
      ]
     },
     "execution_count": 178,
     "metadata": {},
     "output_type": "execute_result"
    }
   ],
   "source": [
    "DiamondPricesData['Height'][DiamondPricesData['Height']<10].sort_values(ascending=False)"
   ]
  },
  {
   "cell_type": "markdown",
   "id": "12b5df76",
   "metadata": {},
   "source": [
    "# Replacing Outliers"
   ]
  },
  {
   "cell_type": "code",
   "execution_count": 179,
   "id": "d1b37466",
   "metadata": {},
   "outputs": [],
   "source": [
    "DiamondPricesData['Length'][DiamondPricesData['Length']>20]=10.54"
   ]
  },
  {
   "cell_type": "code",
   "execution_count": 180,
   "id": "ddebb1ef",
   "metadata": {
    "scrolled": true
   },
   "outputs": [],
   "source": [
    "DiamondPricesData['Height'][DiamondPricesData['Height']>10]=8.06"
   ]
  },
  {
   "cell_type": "code",
   "execution_count": 181,
   "id": "0d81bc9e",
   "metadata": {},
   "outputs": [],
   "source": [
    "DiamondPricesData['Width'][DiamondPricesData['Width']<2]=3.73"
   ]
  },
  {
   "cell_type": "markdown",
   "id": "c01f99af",
   "metadata": {},
   "source": [
    "# Missing Values Treatment"
   ]
  },
  {
   "cell_type": "code",
   "execution_count": 182,
   "id": "56be3ae0",
   "metadata": {},
   "outputs": [
    {
     "name": "stdout",
     "output_type": "stream",
     "text": [
      "price      0\n",
      "carat      0\n",
      "cut        0\n",
      "color      2\n",
      "clarity    0\n",
      "depth      0\n",
      "table      0\n",
      "Length     0\n",
      "Width      0\n",
      "Height     0\n",
      "dtype: int64\n"
     ]
    },
    {
     "data": {
      "text/plain": [
       "<AxesSubplot:>"
      ]
     },
     "execution_count": 182,
     "metadata": {},
     "output_type": "execute_result"
    },
    {
     "data": {
      "image/png": "[encoded data removed]",
      "text/plain": [
       "<Figure size 432x288 with 1 Axes>"
      ]
     },
     "metadata": {},
     "output_type": "display_data"
    }
   ],
   "source": [
    "print(DiamondPricesData.isnull().sum())\n",
    "DiamondPricesData.isnull().sum().plot(kind='bar')"
   ]
  },
  {
   "cell_type": "code",
   "execution_count": 183,
   "id": "112da0ce",
   "metadata": {},
   "outputs": [
    {
     "data": {
      "text/plain": [
       "'G'"
      ]
     },
     "execution_count": 183,
     "metadata": {},
     "output_type": "execute_result"
    }
   ],
   "source": [
    "DiamondPricesData['color'].mode()[0]"
   ]
  },
  {
   "cell_type": "code",
   "execution_count": 184,
   "id": "3baee26b",
   "metadata": {},
   "outputs": [
    {
     "data": {
      "text/plain": [
       "61.8"
      ]
     },
     "execution_count": 184,
     "metadata": {},
     "output_type": "execute_result"
    }
   ],
   "source": [
    "DiamondPricesData['depth'].median()"
   ]
  },
  {
   "cell_type": "code",
   "execution_count": 185,
   "id": "0de91a18",
   "metadata": {},
   "outputs": [],
   "source": [
    "DiamondPricesData['color'].fillna(value=DiamondPricesData['color'].mode()[0],inplace=True)"
   ]
  },
  {
   "cell_type": "code",
   "execution_count": 186,
   "id": "a48c9757",
   "metadata": {},
   "outputs": [],
   "source": [
    "DiamondPricesData['color'].fillna(value=DiamondPricesData['depth'].median(),inplace=True)"
   ]
  },
  {
   "cell_type": "markdown",
   "id": "11f4b978",
   "metadata": {},
   "source": [
    "# Feature Selection"
   ]
  },
  {
   "cell_type": "code",
   "execution_count": 187,
   "id": "6773073f",
   "metadata": {},
   "outputs": [
    {
     "data": {
      "image/png": "[encoded data removed]",
      "text/plain": [
       "<Figure size 720x360 with 1 Axes>"
      ]
     },
     "metadata": {},
     "output_type": "display_data"
    },
    {
     "data": {
      "image/png": "[encoded data removed]",
      "text/plain": [
       "<Figure size 720x360 with 1 Axes>"
      ]
     },
     "metadata": {},
     "output_type": "display_data"
    },
    {
     "data": {
      "image/png": "[encoded data removed]",
      "text/plain": [
       "<Figure size 720x360 with 1 Axes>"
      ]
     },
     "metadata": {},
     "output_type": "display_data"
    },
    {
     "data": {
      "image/png": "[encoded data removed]",
      "text/plain": [
       "<Figure size 720x360 with 1 Axes>"
      ]
     },
     "metadata": {},
     "output_type": "display_data"
    },
    {
     "data": {
      "image/png": "[encoded data removed]",
      "text/plain": [
       "<Figure size 720x360 with 1 Axes>"
      ]
     },
     "metadata": {},
     "output_type": "display_data"
    },
    {
     "data": {
      "image/png": "[encoded data removed]",
      "text/plain": [
       "<Figure size 720x360 with 1 Axes>"
      ]
     },
     "metadata": {},
     "output_type": "display_data"
    }
   ],
   "source": [
    "ContiCol=['carat','depth','table','Length','Height','Width']\n",
    "\n",
    "for predictor in ContiCol:\n",
    "    DiamondPricesData.plot.scatter(x=predictor,y='price',figsize=(10,5),title=predictor+ 'VS' +'Price')"
   ]
  },
  {
   "cell_type": "markdown",
   "id": "fc615a00",
   "metadata": {},
   "source": [
    "# Co-Relation Measure"
   ]
  },
  {
   "cell_type": "code",
   "execution_count": 188,
   "id": "d590c46f",
   "metadata": {},
   "outputs": [
    {
     "data": {
      "text/html": [
       "<div>\n",
       "<style scoped>\n",
       "    .dataframe tbody tr th:only-of-type {\n",
       "        vertical-align: middle;\n",
       "    }\n",
       "\n",
       "    .dataframe tbody tr th {\n",
       "        vertical-align: top;\n",
       "    }\n",
       "\n",
       "    .dataframe thead th {\n",
       "        text-align: right;\n",
       "    }\n",
       "</style>\n",
       "<table border=\"1\" class=\"dataframe\">\n",
       "  <thead>\n",
       "    <tr style=\"text-align: right;\">\n",
       "      <th></th>\n",
       "      <th>price</th>\n",
       "      <th>carat</th>\n",
       "      <th>depth</th>\n",
       "      <th>table</th>\n",
       "      <th>Length</th>\n",
       "      <th>Height</th>\n",
       "      <th>Width</th>\n",
       "    </tr>\n",
       "  </thead>\n",
       "  <tbody>\n",
       "    <tr>\n",
       "      <th>price</th>\n",
       "      <td>1.000000</td>\n",
       "      <td>0.889486</td>\n",
       "      <td>0.028101</td>\n",
       "      <td>0.092896</td>\n",
       "      <td>0.868329</td>\n",
       "      <td>0.865462</td>\n",
       "      <td>0.867563</td>\n",
       "    </tr>\n",
       "    <tr>\n",
       "      <th>carat</th>\n",
       "      <td>0.889486</td>\n",
       "      <td>1.000000</td>\n",
       "      <td>0.043155</td>\n",
       "      <td>0.163117</td>\n",
       "      <td>0.989650</td>\n",
       "      <td>0.987815</td>\n",
       "      <td>0.991091</td>\n",
       "    </tr>\n",
       "    <tr>\n",
       "      <th>depth</th>\n",
       "      <td>0.028101</td>\n",
       "      <td>0.043155</td>\n",
       "      <td>1.000000</td>\n",
       "      <td>-0.204169</td>\n",
       "      <td>0.004962</td>\n",
       "      <td>0.080107</td>\n",
       "      <td>0.005645</td>\n",
       "    </tr>\n",
       "    <tr>\n",
       "      <th>table</th>\n",
       "      <td>0.092896</td>\n",
       "      <td>0.163117</td>\n",
       "      <td>-0.204169</td>\n",
       "      <td>1.000000</td>\n",
       "      <td>0.149333</td>\n",
       "      <td>0.136835</td>\n",
       "      <td>0.157318</td>\n",
       "    </tr>\n",
       "    <tr>\n",
       "      <th>Length</th>\n",
       "      <td>0.868329</td>\n",
       "      <td>0.989650</td>\n",
       "      <td>0.004962</td>\n",
       "      <td>0.149333</td>\n",
       "      <td>1.000000</td>\n",
       "      <td>0.993132</td>\n",
       "      <td>0.997690</td>\n",
       "    </tr>\n",
       "    <tr>\n",
       "      <th>Height</th>\n",
       "      <td>0.865462</td>\n",
       "      <td>0.987815</td>\n",
       "      <td>0.080107</td>\n",
       "      <td>0.136835</td>\n",
       "      <td>0.993132</td>\n",
       "      <td>1.000000</td>\n",
       "      <td>0.993091</td>\n",
       "    </tr>\n",
       "    <tr>\n",
       "      <th>Width</th>\n",
       "      <td>0.867563</td>\n",
       "      <td>0.991091</td>\n",
       "      <td>0.005645</td>\n",
       "      <td>0.157318</td>\n",
       "      <td>0.997690</td>\n",
       "      <td>0.993091</td>\n",
       "      <td>1.000000</td>\n",
       "    </tr>\n",
       "  </tbody>\n",
       "</table>\n",
       "</div>"
      ],
      "text/plain": [
       "           price     carat     depth     table    Length    Height     Width\n",
       "price   1.000000  0.889486  0.028101  0.092896  0.868329  0.865462  0.867563\n",
       "carat   0.889486  1.000000  0.043155  0.163117  0.989650  0.987815  0.991091\n",
       "depth   0.028101  0.043155  1.000000 -0.204169  0.004962  0.080107  0.005645\n",
       "table   0.092896  0.163117 -0.204169  1.000000  0.149333  0.136835  0.157318\n",
       "Length  0.868329  0.989650  0.004962  0.149333  1.000000  0.993132  0.997690\n",
       "Height  0.865462  0.987815  0.080107  0.136835  0.993132  1.000000  0.993091\n",
       "Width   0.867563  0.991091  0.005645  0.157318  0.997690  0.993091  1.000000"
      ]
     },
     "execution_count": 188,
     "metadata": {},
     "output_type": "execute_result"
    }
   ],
   "source": [
    "ContiCol11=['price','carat','depth','table','Length','Height','Width']\n",
    "DPricesData1=DiamondPricesData[ContiCol11].corr()\n",
    "DPricesData1"
   ]
  },
  {
   "cell_type": "code",
   "execution_count": 189,
   "id": "b2584f05",
   "metadata": {},
   "outputs": [
    {
     "data": {
      "text/plain": [
       "price     1.000000\n",
       "carat     0.889486\n",
       "Length    0.868329\n",
       "Height    0.865462\n",
       "Width     0.867563\n",
       "Name: price, dtype: float64"
      ]
     },
     "execution_count": 189,
     "metadata": {},
     "output_type": "execute_result"
    }
   ],
   "source": [
    "DPricesData1['price'][abs(DPricesData1['price']) > 0.5 ]"
   ]
  },
  {
   "cell_type": "markdown",
   "id": "e4ad6b72",
   "metadata": {},
   "source": [
    "# Final selected Continuous columns:"
   ]
  },
  {
   "cell_type": "raw",
   "id": "e3dd61db",
   "metadata": {},
   "source": [
    "carat,Length,Height,Width"
   ]
  },
  {
   "cell_type": "markdown",
   "id": "cea741c9",
   "metadata": {},
   "source": [
    "# Relationship exploration: Categorical Vs Continuous -Box Plots"
   ]
  },
  {
   "cell_type": "code",
   "execution_count": 190,
   "id": "f94cb12b",
   "metadata": {},
   "outputs": [],
   "source": [
    "CatCol=['cut','color','clarity']"
   ]
  },
  {
   "cell_type": "code",
   "execution_count": 191,
   "id": "a89851ad",
   "metadata": {},
   "outputs": [
    {
     "data": {
      "image/png": "[encoded data removed]",
      "text/plain": [
       "<Figure size 1440x720 with 3 Axes>"
      ]
     },
     "metadata": {},
     "output_type": "display_data"
    }
   ],
   "source": [
    "import matplotlib.pyplot as plt\n",
    "fig,plotcanvas=plt.subplots(nrows=1,ncols=len(CatCol),figsize=(20,10))\n",
    "for predictorcol ,i in zip(CatCol,range(len(CatCol))):\n",
    "    DiamondPricesData.boxplot(column='price', by=predictorcol, figsize=(10,5), vert=True, ax=plotcanvas[i])"
   ]
  },
  {
   "cell_type": "code",
   "execution_count": 192,
   "id": "7cae0534",
   "metadata": {},
   "outputs": [
    {
     "data": {
      "text/plain": [
       "<AxesSubplot:xlabel='clarity', ylabel='price'>"
      ]
     },
     "execution_count": 192,
     "metadata": {},
     "output_type": "execute_result"
    },
    {
     "data": {
      "image/png": "[encoded data removed]",
      "text/plain": [
       "<Figure size 432x288 with 1 Axes>"
      ]
     },
     "metadata": {},
     "output_type": "display_data"
    }
   ],
   "source": [
    "import seaborn as sns\n",
    "sns.boxplot(x='clarity',y='price',data= DiamondPricesData)"
   ]
  },
  {
   "cell_type": "markdown",
   "id": "fac39ca9",
   "metadata": {},
   "source": [
    "# Statistical Feature Selection (Categorical Vs Continuous) using ANOVA test"
   ]
  },
  {
   "cell_type": "code",
   "execution_count": 193,
   "id": "4637e314",
   "metadata": {},
   "outputs": [],
   "source": [
    "def FunctionAnova(inpData, TargetVariable, CategoricalPredictorList):\n",
    "    from scipy.stats import f_oneway\n",
    "    SelectedPredictors=[]\n",
    "    \n",
    "    print('##### ANOVA Results ##### \\n')\n",
    "    for predictor in CategoricalPredictorList:\n",
    "        CategoryGroupLists=inpData.groupby(predictor)[TargetVariable].apply(list)\n",
    "        AnovaResults = f_oneway(*CategoryGroupLists)\n",
    "        \n",
    "        if (AnovaResults[1] < 0.05):\n",
    "            print(predictor, 'is correlated with', TargetVariable, '| P-Value:', AnovaResults[1])\n",
    "            SelectedPredictors.append(predictor)\n",
    "        else:\n",
    "            print(predictor, 'is NOT correlated with', TargetVariable, '| P-Value:', AnovaResults[1])\n",
    "    \n",
    "    return(SelectedPredictors)"
   ]
  },
  {
   "cell_type": "code",
   "execution_count": 194,
   "id": "4a403742",
   "metadata": {},
   "outputs": [
    {
     "name": "stdout",
     "output_type": "stream",
     "text": [
      "##### ANOVA Results ##### \n",
      "\n",
      "cut is correlated with price | P-Value: 2.6070675300648956e-42\n",
      "color is correlated with price | P-Value: 9.009264446164642e-42\n",
      "clarity is correlated with price | P-Value: 8.262324458341736e-70\n"
     ]
    },
    {
     "data": {
      "text/plain": [
       "['cut', 'color', 'clarity']"
      ]
     },
     "execution_count": 194,
     "metadata": {},
     "output_type": "execute_result"
    }
   ],
   "source": [
    "CategoricalPredictorList=['cut','color','clarity']\n",
    "FunctionAnova(inpData=DiamondPricesData, \n",
    "              TargetVariable='price', \n",
    "              CategoricalPredictorList=CategoricalPredictorList)"
   ]
  },
  {
   "cell_type": "markdown",
   "id": "fc3b1bbd",
   "metadata": {},
   "source": [
    "# Selecting final predictors for Machine Learning"
   ]
  },
  {
   "cell_type": "code",
   "execution_count": 195,
   "id": "a8dcfe7f",
   "metadata": {},
   "outputs": [
    {
     "data": {
      "text/html": [
       "<div>\n",
       "<style scoped>\n",
       "    .dataframe tbody tr th:only-of-type {\n",
       "        vertical-align: middle;\n",
       "    }\n",
       "\n",
       "    .dataframe tbody tr th {\n",
       "        vertical-align: top;\n",
       "    }\n",
       "\n",
       "    .dataframe thead th {\n",
       "        text-align: right;\n",
       "    }\n",
       "</style>\n",
       "<table border=\"1\" class=\"dataframe\">\n",
       "  <thead>\n",
       "    <tr style=\"text-align: right;\">\n",
       "      <th></th>\n",
       "      <th>cut</th>\n",
       "      <th>carat</th>\n",
       "      <th>color</th>\n",
       "      <th>clarity</th>\n",
       "      <th>Length</th>\n",
       "      <th>Height</th>\n",
       "      <th>Width</th>\n",
       "    </tr>\n",
       "  </thead>\n",
       "  <tbody>\n",
       "    <tr>\n",
       "      <th>5</th>\n",
       "      <td>Very Good</td>\n",
       "      <td>0.26</td>\n",
       "      <td>H</td>\n",
       "      <td>SI1</td>\n",
       "      <td>4.11</td>\n",
       "      <td>2.53</td>\n",
       "      <td>4.07</td>\n",
       "    </tr>\n",
       "    <tr>\n",
       "      <th>11</th>\n",
       "      <td>Ideal</td>\n",
       "      <td>0.31</td>\n",
       "      <td>J</td>\n",
       "      <td>SI2</td>\n",
       "      <td>4.37</td>\n",
       "      <td>2.71</td>\n",
       "      <td>4.35</td>\n",
       "    </tr>\n",
       "    <tr>\n",
       "      <th>13</th>\n",
       "      <td>Premium</td>\n",
       "      <td>0.32</td>\n",
       "      <td>E</td>\n",
       "      <td>I1</td>\n",
       "      <td>4.42</td>\n",
       "      <td>2.68</td>\n",
       "      <td>4.38</td>\n",
       "    </tr>\n",
       "    <tr>\n",
       "      <th>14</th>\n",
       "      <td>Ideal</td>\n",
       "      <td>0.30</td>\n",
       "      <td>I</td>\n",
       "      <td>SI2</td>\n",
       "      <td>4.34</td>\n",
       "      <td>2.68</td>\n",
       "      <td>4.31</td>\n",
       "    </tr>\n",
       "    <tr>\n",
       "      <th>17</th>\n",
       "      <td>Very Good</td>\n",
       "      <td>0.30</td>\n",
       "      <td>J</td>\n",
       "      <td>SI1</td>\n",
       "      <td>4.27</td>\n",
       "      <td>2.66</td>\n",
       "      <td>4.21</td>\n",
       "    </tr>\n",
       "  </tbody>\n",
       "</table>\n",
       "</div>"
      ],
      "text/plain": [
       "          cut  carat color clarity  Length  Height  Width\n",
       "5   Very Good   0.26     H     SI1    4.11    2.53   4.07\n",
       "11      Ideal   0.31     J     SI2    4.37    2.71   4.35\n",
       "13    Premium   0.32     E      I1    4.42    2.68   4.38\n",
       "14      Ideal   0.30     I     SI2    4.34    2.68   4.31\n",
       "17  Very Good   0.30     J     SI1    4.27    2.66   4.21"
      ]
     },
     "execution_count": 195,
     "metadata": {},
     "output_type": "execute_result"
    }
   ],
   "source": [
    "FinalColumn=['cut', 'carat', 'color','clarity','Length','Height','Width']\n",
    "\n",
    "DataForML=DiamondPricesData[FinalColumn]\n",
    "DataForML.head()"
   ]
  },
  {
   "cell_type": "code",
   "execution_count": 196,
   "id": "24cdb49d",
   "metadata": {},
   "outputs": [],
   "source": [
    "DataForML.to_pickle('DataForML.pkl')"
   ]
  },
  {
   "cell_type": "markdown",
   "id": "2aadfb32",
   "metadata": {},
   "source": [
    "# Data Pre-Processing Before ML Module"
   ]
  },
  {
   "cell_type": "raw",
   "id": "54e5d12b",
   "metadata": {},
   "source": [
    "# Here cut & color,clarity predictors need to convert into numeric form"
   ]
  },
  {
   "cell_type": "code",
   "execution_count": 197,
   "id": "6cfed96f",
   "metadata": {},
   "outputs": [
    {
     "name": "stderr",
     "output_type": "stream",
     "text": [
      "C:\\Users\\DIP\\anaconda3\\lib\\site-packages\\pandas\\core\\series.py:4509: SettingWithCopyWarning: \n",
      "A value is trying to be set on a copy of a slice from a DataFrame\n",
      "\n",
      "See the caveats in the documentation: https://pandas.pydata.org/pandas-docs/stable/user_guide/indexing.html#returning-a-view-versus-a-copy\n",
      "  return super().replace(\n"
     ]
    }
   ],
   "source": [
    "DataForML['cut'].replace({'Good':1, \n",
    "                          'Very Good':2,\n",
    "                          'Better then Good':3,\n",
    "                          'Ideal':4,\n",
    "                          'Premium':5\n",
    "                         }, inplace=True)"
   ]
  },
  {
   "cell_type": "code",
   "execution_count": 198,
   "id": "5a4eaed6",
   "metadata": {},
   "outputs": [],
   "source": [
    "DataForML['color'].replace({'J':1, \n",
    "                          'I':2,\n",
    "                          'H':3,\n",
    "                          'G':4,\n",
    "                          'F':5,\n",
    "                          'E':6,\n",
    "                          'D':7\n",
    "                         }, inplace=True)"
   ]
  },
  {
   "cell_type": "code",
   "execution_count": 199,
   "id": "a127c205",
   "metadata": {},
   "outputs": [
    {
     "data": {
      "text/plain": [
       "array(['SI1', 'SI2', 'I1', 'VS2', 'VS1', 'VVS2', 'VVS1', 'IF'],\n",
       "      dtype=object)"
      ]
     },
     "execution_count": 199,
     "metadata": {},
     "output_type": "execute_result"
    }
   ],
   "source": [
    "DataForML['clarity'].unique()"
   ]
  },
  {
   "cell_type": "code",
   "execution_count": 200,
   "id": "87000589",
   "metadata": {},
   "outputs": [],
   "source": [
    "DataForML['clarity'].replace({'I1':1,\n",
    "                          'SI1':2,\n",
    "                          'SI2':3,\n",
    "                          'VS1':4,\n",
    "                          'VS2':5,\n",
    "                          'VVS1':6,\n",
    "                          'VVS2':7,\n",
    "                          'IF':8},inplace=True)"
   ]
  },
  {
   "cell_type": "code",
   "execution_count": 201,
   "id": "27330ec9",
   "metadata": {},
   "outputs": [],
   "source": [
    "DataForML=pd.get_dummies(DataForML)"
   ]
  },
  {
   "cell_type": "markdown",
   "id": "9da10132",
   "metadata": {},
   "source": [
    "# Adding Target Variable Into Model"
   ]
  },
  {
   "cell_type": "code",
   "execution_count": 202,
   "id": "6c27d6a2",
   "metadata": {},
   "outputs": [
    {
     "data": {
      "text/html": [
       "<div>\n",
       "<style scoped>\n",
       "    .dataframe tbody tr th:only-of-type {\n",
       "        vertical-align: middle;\n",
       "    }\n",
       "\n",
       "    .dataframe tbody tr th {\n",
       "        vertical-align: top;\n",
       "    }\n",
       "\n",
       "    .dataframe thead th {\n",
       "        text-align: right;\n",
       "    }\n",
       "</style>\n",
       "<table border=\"1\" class=\"dataframe\">\n",
       "  <thead>\n",
       "    <tr style=\"text-align: right;\">\n",
       "      <th></th>\n",
       "      <th>cut</th>\n",
       "      <th>carat</th>\n",
       "      <th>color</th>\n",
       "      <th>clarity</th>\n",
       "      <th>Length</th>\n",
       "      <th>Height</th>\n",
       "      <th>Width</th>\n",
       "      <th>price</th>\n",
       "    </tr>\n",
       "  </thead>\n",
       "  <tbody>\n",
       "    <tr>\n",
       "      <th>5</th>\n",
       "      <td>2</td>\n",
       "      <td>0.26</td>\n",
       "      <td>3</td>\n",
       "      <td>2</td>\n",
       "      <td>4.11</td>\n",
       "      <td>2.53</td>\n",
       "      <td>4.07</td>\n",
       "      <td>337</td>\n",
       "    </tr>\n",
       "    <tr>\n",
       "      <th>11</th>\n",
       "      <td>4</td>\n",
       "      <td>0.31</td>\n",
       "      <td>1</td>\n",
       "      <td>3</td>\n",
       "      <td>4.37</td>\n",
       "      <td>2.71</td>\n",
       "      <td>4.35</td>\n",
       "      <td>344</td>\n",
       "    </tr>\n",
       "    <tr>\n",
       "      <th>13</th>\n",
       "      <td>5</td>\n",
       "      <td>0.32</td>\n",
       "      <td>6</td>\n",
       "      <td>1</td>\n",
       "      <td>4.42</td>\n",
       "      <td>2.68</td>\n",
       "      <td>4.38</td>\n",
       "      <td>345</td>\n",
       "    </tr>\n",
       "    <tr>\n",
       "      <th>14</th>\n",
       "      <td>4</td>\n",
       "      <td>0.30</td>\n",
       "      <td>2</td>\n",
       "      <td>3</td>\n",
       "      <td>4.34</td>\n",
       "      <td>2.68</td>\n",
       "      <td>4.31</td>\n",
       "      <td>348</td>\n",
       "    </tr>\n",
       "    <tr>\n",
       "      <th>17</th>\n",
       "      <td>2</td>\n",
       "      <td>0.30</td>\n",
       "      <td>1</td>\n",
       "      <td>2</td>\n",
       "      <td>4.27</td>\n",
       "      <td>2.66</td>\n",
       "      <td>4.21</td>\n",
       "      <td>351</td>\n",
       "    </tr>\n",
       "  </tbody>\n",
       "</table>\n",
       "</div>"
      ],
      "text/plain": [
       "    cut  carat  color  clarity  Length  Height  Width  price\n",
       "5     2   0.26      3        2    4.11    2.53   4.07    337\n",
       "11    4   0.31      1        3    4.37    2.71   4.35    344\n",
       "13    5   0.32      6        1    4.42    2.68   4.38    345\n",
       "14    4   0.30      2        3    4.34    2.68   4.31    348\n",
       "17    2   0.30      1        2    4.27    2.66   4.21    351"
      ]
     },
     "execution_count": 202,
     "metadata": {},
     "output_type": "execute_result"
    }
   ],
   "source": [
    "\n",
    "DataForML_Numeric=pd.get_dummies(DataForML)\n",
    "\n",
    "\n",
    "DataForML_Numeric['price']=DiamondPricesData['price']\n",
    "\n",
    "\n",
    "DataForML_Numeric.head()"
   ]
  },
  {
   "cell_type": "code",
   "execution_count": 203,
   "id": "bdb3dcaf",
   "metadata": {},
   "outputs": [
    {
     "data": {
      "text/html": [
       "<div>\n",
       "<style scoped>\n",
       "    .dataframe tbody tr th:only-of-type {\n",
       "        vertical-align: middle;\n",
       "    }\n",
       "\n",
       "    .dataframe tbody tr th {\n",
       "        vertical-align: top;\n",
       "    }\n",
       "\n",
       "    .dataframe thead th {\n",
       "        text-align: right;\n",
       "    }\n",
       "</style>\n",
       "<table border=\"1\" class=\"dataframe\">\n",
       "  <thead>\n",
       "    <tr style=\"text-align: right;\">\n",
       "      <th></th>\n",
       "      <th>cut</th>\n",
       "      <th>carat</th>\n",
       "      <th>color</th>\n",
       "      <th>clarity</th>\n",
       "      <th>Length</th>\n",
       "      <th>Height</th>\n",
       "      <th>Width</th>\n",
       "      <th>price</th>\n",
       "    </tr>\n",
       "  </thead>\n",
       "  <tbody>\n",
       "    <tr>\n",
       "      <th>5</th>\n",
       "      <td>2</td>\n",
       "      <td>0.26</td>\n",
       "      <td>3</td>\n",
       "      <td>2</td>\n",
       "      <td>4.11</td>\n",
       "      <td>2.53</td>\n",
       "      <td>4.07</td>\n",
       "      <td>337</td>\n",
       "    </tr>\n",
       "    <tr>\n",
       "      <th>11</th>\n",
       "      <td>4</td>\n",
       "      <td>0.31</td>\n",
       "      <td>1</td>\n",
       "      <td>3</td>\n",
       "      <td>4.37</td>\n",
       "      <td>2.71</td>\n",
       "      <td>4.35</td>\n",
       "      <td>344</td>\n",
       "    </tr>\n",
       "    <tr>\n",
       "      <th>13</th>\n",
       "      <td>5</td>\n",
       "      <td>0.32</td>\n",
       "      <td>6</td>\n",
       "      <td>1</td>\n",
       "      <td>4.42</td>\n",
       "      <td>2.68</td>\n",
       "      <td>4.38</td>\n",
       "      <td>345</td>\n",
       "    </tr>\n",
       "    <tr>\n",
       "      <th>14</th>\n",
       "      <td>4</td>\n",
       "      <td>0.30</td>\n",
       "      <td>2</td>\n",
       "      <td>3</td>\n",
       "      <td>4.34</td>\n",
       "      <td>2.68</td>\n",
       "      <td>4.31</td>\n",
       "      <td>348</td>\n",
       "    </tr>\n",
       "    <tr>\n",
       "      <th>17</th>\n",
       "      <td>2</td>\n",
       "      <td>0.30</td>\n",
       "      <td>1</td>\n",
       "      <td>2</td>\n",
       "      <td>4.27</td>\n",
       "      <td>2.66</td>\n",
       "      <td>4.21</td>\n",
       "      <td>351</td>\n",
       "    </tr>\n",
       "  </tbody>\n",
       "</table>\n",
       "</div>"
      ],
      "text/plain": [
       "    cut  carat  color  clarity  Length  Height  Width  price\n",
       "5     2   0.26      3        2    4.11    2.53   4.07    337\n",
       "11    4   0.31      1        3    4.37    2.71   4.35    344\n",
       "13    5   0.32      6        1    4.42    2.68   4.38    345\n",
       "14    4   0.30      2        3    4.34    2.68   4.31    348\n",
       "17    2   0.30      1        2    4.27    2.66   4.21    351"
      ]
     },
     "execution_count": 203,
     "metadata": {},
     "output_type": "execute_result"
    }
   ],
   "source": [
    "DataForML_Numeric.head()"
   ]
  },
  {
   "cell_type": "markdown",
   "id": "f70a60c6",
   "metadata": {},
   "source": [
    "# Machine Learning: Splitting the data into Training and Testing sample"
   ]
  },
  {
   "cell_type": "code",
   "execution_count": 204,
   "id": "c93d4597",
   "metadata": {},
   "outputs": [
    {
     "data": {
      "text/plain": [
       "Index(['cut', 'carat', 'color', 'clarity', 'Length', 'Height', 'Width',\n",
       "       'price'],\n",
       "      dtype='object')"
      ]
     },
     "execution_count": 204,
     "metadata": {},
     "output_type": "execute_result"
    }
   ],
   "source": [
    "DataForML_Numeric.columns"
   ]
  },
  {
   "cell_type": "code",
   "execution_count": 205,
   "id": "b987dd3d",
   "metadata": {},
   "outputs": [],
   "source": [
    "Target='price'\n",
    "Predictors=['cut', 'carat', 'color', 'clarity', 'Length', 'Height', 'Width']"
   ]
  },
  {
   "cell_type": "code",
   "execution_count": 206,
   "id": "55ababf2",
   "metadata": {},
   "outputs": [],
   "source": [
    "X=DataForML_Numeric[Predictors].values\n",
    "Y=DataForML_Numeric[Target].values"
   ]
  },
  {
   "cell_type": "code",
   "execution_count": 207,
   "id": "6e5b093e",
   "metadata": {},
   "outputs": [],
   "source": [
    "from sklearn.model_selection import train_test_split\n",
    "X_train,X_test,Y_train,Y_test=train_test_split(X,Y,test_size=0.20,random_state=405)"
   ]
  },
  {
   "cell_type": "code",
   "execution_count": 208,
   "id": "3f237790",
   "metadata": {},
   "outputs": [
    {
     "name": "stdout",
     "output_type": "stream",
     "text": [
      "(28952, 7)\n",
      "(28952,)\n",
      "(7238, 7)\n",
      "(7238,)\n"
     ]
    }
   ],
   "source": [
    "print(X_train.shape)\n",
    "print(Y_train.shape)\n",
    "print(X_test.shape)\n",
    "print(Y_test.shape)"
   ]
  },
  {
   "cell_type": "code",
   "execution_count": 209,
   "id": "920ae289",
   "metadata": {},
   "outputs": [
    {
     "data": {
      "text/plain": [
       "array([[4.  , 0.71, 2.  , 2.  , 5.82, 3.56, 5.69],\n",
       "       [5.  , 0.7 , 6.  , 4.  , 5.64, 3.55, 5.68],\n",
       "       [2.  , 1.04, 7.  , 3.  , 6.47, 4.05, 6.41],\n",
       "       [4.  , 0.38, 5.  , 5.  , 4.67, 2.9 , 4.66]])"
      ]
     },
     "execution_count": 209,
     "metadata": {},
     "output_type": "execute_result"
    }
   ],
   "source": [
    "np.set_printoptions(suppress=True)\n",
    "X_train[0:4]"
   ]
  },
  {
   "cell_type": "code",
   "execution_count": 210,
   "id": "36378639",
   "metadata": {},
   "outputs": [
    {
     "data": {
      "text/plain": [
       "array([2319, 2818, 5265,  789], dtype=int64)"
      ]
     },
     "execution_count": 210,
     "metadata": {},
     "output_type": "execute_result"
    }
   ],
   "source": [
    "Y_train[0:4]"
   ]
  },
  {
   "cell_type": "code",
   "execution_count": 211,
   "id": "39dc3079",
   "metadata": {},
   "outputs": [],
   "source": [
    "### Sandardization of data ###\n",
    "from sklearn.preprocessing import StandardScaler, MinMaxScaler\n",
    "\n",
    "PredictorScaler=MinMaxScaler()\n",
    "\n",
    "# Storing the fit object for later reference\n",
    "PredictorScalerFit=PredictorScaler.fit(X)\n",
    "\n",
    "\n",
    "X=PredictorScalerFit.transform(X)\n",
    "\n",
    "\n",
    "from sklearn.model_selection import train_test_split\n",
    "X_train, X_test, Y_train, Y_test = train_test_split(X, Y, test_size=0.2, random_state=410)"
   ]
  },
  {
   "cell_type": "code",
   "execution_count": 212,
   "id": "1f6c21b4",
   "metadata": {},
   "outputs": [
    {
     "name": "stdout",
     "output_type": "stream",
     "text": [
      "(28952, 7)\n",
      "(28952,)\n",
      "(7238, 7)\n",
      "(7238,)\n"
     ]
    }
   ],
   "source": [
    "print(X_train.shape)\n",
    "print(Y_train.shape)\n",
    "print(X_test.shape)\n",
    "print(Y_test.shape)"
   ]
  },
  {
   "cell_type": "markdown",
   "id": "f842b4d5",
   "metadata": {},
   "source": [
    "# Multiple Linear Regression"
   ]
  },
  {
   "cell_type": "code",
   "execution_count": 213,
   "id": "7f2cd893",
   "metadata": {},
   "outputs": [],
   "source": [
    "from sklearn.linear_model import LinearRegression\n",
    "RegModel=LinearRegression()"
   ]
  },
  {
   "cell_type": "code",
   "execution_count": 214,
   "id": "d49a6f01",
   "metadata": {},
   "outputs": [
    {
     "name": "stdout",
     "output_type": "stream",
     "text": [
      "LinearRegression()\n"
     ]
    }
   ],
   "source": [
    "print(RegModel)"
   ]
  },
  {
   "cell_type": "code",
   "execution_count": 215,
   "id": "ec6a0087",
   "metadata": {},
   "outputs": [
    {
     "name": "stdout",
     "output_type": "stream",
     "text": [
      "R2 Value: 0.8684838683575642\n",
      "\n",
      "##### Model Validation and Accuracy Calculations ##########\n",
      "Calculating the error for each row\n",
      "   price  Predictedprice        APE\n",
      "0    698             9.0  98.710602\n",
      "1   1007          1586.0  57.497517\n",
      "2   3026          3276.0   8.261732\n",
      "3   4855          5253.0   8.197734\n",
      "4   2555          2513.0   1.643836\n",
      "5   4872          5692.0  16.830870\n",
      "6    589           376.0  36.162988\n",
      "7   4027          3798.0   5.686615\n",
      "8   2894          2755.0   4.803041\n",
      "9   6733          7108.0   5.569583\n",
      "Mean Accuracy on test data 65.63383331608341\n",
      "Median Accuracy on test data 78.84135217416902\n",
      "\n",
      "Accuracy values for 10-fold Cross Validation:\n",
      " [72.5540767  72.71846976 79.60706559 73.96914099 46.27730695 45.01510289\n",
      " 52.50875116 59.50906685 73.67996316 75.62034482]\n",
      "\n",
      "Final Average Accuracy of the model: 65.15\n"
     ]
    }
   ],
   "source": [
    "LREG=RegModel.fit(X_train,Y_train)\n",
    "from sklearn import metrics\n",
    "print('R2 Value:',metrics.r2_score(Y_train,LREG.predict(X_train)))\n",
    "\n",
    "print('\\n##### Model Validation and Accuracy Calculations ##########')\n",
    "prediction=LREG.predict(X_test)\n",
    "TestingDataResults=pd.DataFrame(data=X_test,columns=Predictors)\n",
    "TestingDataResults[Target]=Y_test\n",
    "TestingDataResults[('Predicted'+Target)]=np.round(prediction)\n",
    "\n",
    "print('Calculating the error for each row')\n",
    "TestingDataResults['APE']=100* ((abs(\n",
    "  TestingDataResults['price']-TestingDataResults['Predictedprice']))/TestingDataResults['price'])\n",
    "print(TestingDataResults[[Target,'Predicted'+Target,'APE']].head(10))\n",
    "\n",
    "\n",
    "MeanAPE=np.mean(TestingDataResults['APE'])\n",
    "MedianAPE=np.median(TestingDataResults['APE'])\n",
    "\n",
    "Accuracy=100-MeanAPE\n",
    "MedianAccuracy=100-MedianAPE\n",
    "print('Mean Accuracy on test data',Accuracy)\n",
    "print('Median Accuracy on test data',MedianAccuracy)\n",
    "\n",
    "def Accuracy_score(original,predicted):\n",
    "    MAPE=np.mean(100*(np.abs(original-predicted)/original))\n",
    "    return(100-MAPE)\n",
    "\n",
    "from sklearn.metrics import make_scorer\n",
    "custom_scoring=make_scorer(Accuracy_score,greater_is_better=True)\n",
    "\n",
    "from sklearn.model_selection import cross_val_score\n",
    "\n",
    "Accuracy_values=cross_val_score(RegModel,X,Y,cv=10,scoring=custom_scoring)\n",
    "print('\\nAccuracy values for 10-fold Cross Validation:\\n',Accuracy_values)\n",
    "print('\\nFinal Average Accuracy of the model:', round(Accuracy_values.mean(),2))"
   ]
  },
  {
   "cell_type": "code",
   "execution_count": 216,
   "id": "dee49783",
   "metadata": {},
   "outputs": [
    {
     "data": {
      "text/plain": [
       "dict_keys(['explained_variance', 'r2', 'max_error', 'neg_median_absolute_error', 'neg_mean_absolute_error', 'neg_mean_absolute_percentage_error', 'neg_mean_squared_error', 'neg_mean_squared_log_error', 'neg_root_mean_squared_error', 'neg_mean_poisson_deviance', 'neg_mean_gamma_deviance', 'accuracy', 'top_k_accuracy', 'roc_auc', 'roc_auc_ovr', 'roc_auc_ovo', 'roc_auc_ovr_weighted', 'roc_auc_ovo_weighted', 'balanced_accuracy', 'average_precision', 'neg_log_loss', 'neg_brier_score', 'adjusted_rand_score', 'rand_score', 'homogeneity_score', 'completeness_score', 'v_measure_score', 'mutual_info_score', 'adjusted_mutual_info_score', 'normalized_mutual_info_score', 'fowlkes_mallows_score', 'precision', 'precision_macro', 'precision_micro', 'precision_samples', 'precision_weighted', 'recall', 'recall_macro', 'recall_micro', 'recall_samples', 'recall_weighted', 'f1', 'f1_macro', 'f1_micro', 'f1_samples', 'f1_weighted', 'jaccard', 'jaccard_macro', 'jaccard_micro', 'jaccard_samples', 'jaccard_weighted'])"
      ]
     },
     "execution_count": 216,
     "metadata": {},
     "output_type": "execute_result"
    }
   ],
   "source": [
    "import sklearn\n",
    "sklearn.metrics.SCORERS.keys()"
   ]
  },
  {
   "cell_type": "code",
   "execution_count": 217,
   "id": "0e8ebbfd",
   "metadata": {},
   "outputs": [
    {
     "data": {
      "text/plain": [
       "array([  197.53098267, 24677.92095087,  1372.91114621,  2108.14850035,\n",
       "        5536.39796625, -6387.21351543, -7231.19808485])"
      ]
     },
     "execution_count": 217,
     "metadata": {},
     "output_type": "execute_result"
    }
   ],
   "source": [
    "LREG.coef_"
   ]
  },
  {
   "cell_type": "code",
   "execution_count": 218,
   "id": "b159307b",
   "metadata": {},
   "outputs": [
    {
     "data": {
      "text/plain": [
       "-11.207066657404084"
      ]
     },
     "execution_count": 218,
     "metadata": {},
     "output_type": "execute_result"
    }
   ],
   "source": [
    "LREG.intercept_"
   ]
  },
  {
   "cell_type": "code",
   "execution_count": 219,
   "id": "41179307",
   "metadata": {},
   "outputs": [],
   "source": [
    "TestingDataResults['priceAvg']=TestingDataResults['price'].mean()"
   ]
  },
  {
   "cell_type": "code",
   "execution_count": 220,
   "id": "c0d93d39",
   "metadata": {},
   "outputs": [
    {
     "data": {
      "text/html": [
       "<div>\n",
       "<style scoped>\n",
       "    .dataframe tbody tr th:only-of-type {\n",
       "        vertical-align: middle;\n",
       "    }\n",
       "\n",
       "    .dataframe tbody tr th {\n",
       "        vertical-align: top;\n",
       "    }\n",
       "\n",
       "    .dataframe thead th {\n",
       "        text-align: right;\n",
       "    }\n",
       "</style>\n",
       "<table border=\"1\" class=\"dataframe\">\n",
       "  <thead>\n",
       "    <tr style=\"text-align: right;\">\n",
       "      <th></th>\n",
       "      <th>cut</th>\n",
       "      <th>carat</th>\n",
       "      <th>color</th>\n",
       "      <th>clarity</th>\n",
       "      <th>Length</th>\n",
       "      <th>Height</th>\n",
       "      <th>Width</th>\n",
       "      <th>price</th>\n",
       "      <th>Predictedprice</th>\n",
       "      <th>APE</th>\n",
       "      <th>priceAvg</th>\n",
       "    </tr>\n",
       "  </thead>\n",
       "  <tbody>\n",
       "    <tr>\n",
       "      <th>0</th>\n",
       "      <td>1.00</td>\n",
       "      <td>0.043716</td>\n",
       "      <td>0.333333</td>\n",
       "      <td>0.428571</td>\n",
       "      <td>0.053111</td>\n",
       "      <td>0.334988</td>\n",
       "      <td>0.106667</td>\n",
       "      <td>698</td>\n",
       "      <td>9.0</td>\n",
       "      <td>98.710602</td>\n",
       "      <td>2677.388229</td>\n",
       "    </tr>\n",
       "    <tr>\n",
       "      <th>1</th>\n",
       "      <td>0.75</td>\n",
       "      <td>0.098361</td>\n",
       "      <td>0.500000</td>\n",
       "      <td>0.857143</td>\n",
       "      <td>0.127466</td>\n",
       "      <td>0.363524</td>\n",
       "      <td>0.256667</td>\n",
       "      <td>1007</td>\n",
       "      <td>1586.0</td>\n",
       "      <td>57.497517</td>\n",
       "      <td>2677.388229</td>\n",
       "    </tr>\n",
       "    <tr>\n",
       "      <th>2</th>\n",
       "      <td>0.75</td>\n",
       "      <td>0.196721</td>\n",
       "      <td>0.833333</td>\n",
       "      <td>0.857143</td>\n",
       "      <td>0.220030</td>\n",
       "      <td>0.411911</td>\n",
       "      <td>0.450000</td>\n",
       "      <td>3026</td>\n",
       "      <td>3276.0</td>\n",
       "      <td>8.261732</td>\n",
       "      <td>2677.388229</td>\n",
       "    </tr>\n",
       "    <tr>\n",
       "      <th>3</th>\n",
       "      <td>0.75</td>\n",
       "      <td>0.431694</td>\n",
       "      <td>0.666667</td>\n",
       "      <td>0.285714</td>\n",
       "      <td>0.383915</td>\n",
       "      <td>0.493797</td>\n",
       "      <td>0.833333</td>\n",
       "      <td>4855</td>\n",
       "      <td>5253.0</td>\n",
       "      <td>8.197734</td>\n",
       "      <td>2677.388229</td>\n",
       "    </tr>\n",
       "    <tr>\n",
       "      <th>4</th>\n",
       "      <td>0.75</td>\n",
       "      <td>0.185792</td>\n",
       "      <td>0.666667</td>\n",
       "      <td>0.714286</td>\n",
       "      <td>0.207891</td>\n",
       "      <td>0.410670</td>\n",
       "      <td>0.436667</td>\n",
       "      <td>2555</td>\n",
       "      <td>2513.0</td>\n",
       "      <td>1.643836</td>\n",
       "      <td>2677.388229</td>\n",
       "    </tr>\n",
       "  </tbody>\n",
       "</table>\n",
       "</div>"
      ],
      "text/plain": [
       "    cut     carat     color   clarity    Length    Height     Width  price  \\\n",
       "0  1.00  0.043716  0.333333  0.428571  0.053111  0.334988  0.106667    698   \n",
       "1  0.75  0.098361  0.500000  0.857143  0.127466  0.363524  0.256667   1007   \n",
       "2  0.75  0.196721  0.833333  0.857143  0.220030  0.411911  0.450000   3026   \n",
       "3  0.75  0.431694  0.666667  0.285714  0.383915  0.493797  0.833333   4855   \n",
       "4  0.75  0.185792  0.666667  0.714286  0.207891  0.410670  0.436667   2555   \n",
       "\n",
       "   Predictedprice        APE     priceAvg  \n",
       "0             9.0  98.710602  2677.388229  \n",
       "1          1586.0  57.497517  2677.388229  \n",
       "2          3276.0   8.261732  2677.388229  \n",
       "3          5253.0   8.197734  2677.388229  \n",
       "4          2513.0   1.643836  2677.388229  "
      ]
     },
     "execution_count": 220,
     "metadata": {},
     "output_type": "execute_result"
    }
   ],
   "source": [
    "TestingDataResults.head()"
   ]
  },
  {
   "cell_type": "code",
   "execution_count": 221,
   "id": "6cfcc5e8",
   "metadata": {},
   "outputs": [
    {
     "data": {
      "text/plain": [
       "[<matplotlib.lines.Line2D at 0x21536788280>]"
      ]
     },
     "execution_count": 221,
     "metadata": {},
     "output_type": "execute_result"
    },
    {
     "data": {
      "image/png": "[encoded data removed]",
      "text/plain": [
       "<Figure size 432x288 with 1 Axes>"
      ]
     },
     "metadata": {},
     "output_type": "display_data"
    }
   ],
   "source": [
    "import matplotlib.pyplot as plt\n",
    "\n",
    "plt.scatter(x=TestingDataResults['clarity']\n",
    "            ,y=TestingDataResults['price'])\n",
    "\n",
    "plt.scatter(TestingDataResults['clarity'],\n",
    "            TestingDataResults['Predictedprice'],color='red')\n",
    "\n",
    "plt.plot(TestingDataResults['clarity'],\n",
    "         TestingDataResults['priceAvg'],color='green')\n",
    "        "
   ]
  },
  {
   "cell_type": "markdown",
   "id": "6996da64",
   "metadata": {},
   "source": [
    "# Decision Trees"
   ]
  },
  {
   "cell_type": "code",
   "execution_count": 222,
   "id": "448f939f",
   "metadata": {},
   "outputs": [
    {
     "name": "stdout",
     "output_type": "stream",
     "text": [
      "DecisionTreeRegressor(max_depth=11)\n",
      "R2 Value: 0.9876498928894196\n"
     ]
    }
   ],
   "source": [
    "from sklearn.tree import DecisionTreeRegressor\n",
    "\n",
    "RegModel=DecisionTreeRegressor(max_depth=11,criterion='mse')\n",
    "\n",
    "print(RegModel)\n",
    "\n",
    "DT=RegModel.fit(X_train,Y_train)\n",
    "\n",
    "from sklearn import metrics\n",
    "print('R2 Value:',metrics.r2_score(Y_train,DT.predict(X_train)))"
   ]
  },
  {
   "cell_type": "code",
   "execution_count": 223,
   "id": "173d630c",
   "metadata": {},
   "outputs": [
    {
     "name": "stdout",
     "output_type": "stream",
     "text": [
      "Model validation and Accuracy Test\n",
      "   price  Predictedprice\n",
      "0    698           644.0\n",
      "1   1007          1077.0\n",
      "2   3026          2525.0\n",
      "3   4855          4178.0\n",
      "4   2555          2813.0\n",
      "Mean Accuracy on test data: 91.84431176996115\n",
      "Median Accuracy on test data: 93.84305596708587\n",
      "Cross 10 fold validation accuracy: [82.94546381 85.81541636 85.7539325  80.98803112 81.02360341 83.57208641\n",
      " 84.98877022 81.48231327 85.44310552 82.54655011]\n",
      "Overall Avg Model Accuracy 83.46\n"
     ]
    },
    {
     "data": {
      "text/plain": [
       "<AxesSubplot:>"
      ]
     },
     "execution_count": 223,
     "metadata": {},
     "output_type": "execute_result"
    },
    {
     "data": {
      "image/png": "[encoded data removed]",
      "text/plain": [
       "<Figure size 432x288 with 1 Axes>"
      ]
     },
     "metadata": {
      "needs_background": "light"
     },
     "output_type": "display_data"
    }
   ],
   "source": [
    "print('Model validation and Accuracy Test')\n",
    "prediction=DT.predict(X_test)\n",
    "TDR=pd.DataFrame(data=X_test,columns=Predictors)\n",
    "TDR[Target]=Y_test\n",
    "TDR[('Predicted'+Target)]=np.round(prediction)\n",
    "TDR['APE']=100*((abs(TDR['price']-TDR['Predictedprice']))/TDR['price'])\n",
    "print(TDR[[Target,'Predicted'+Target]].head())\n",
    "\n",
    "MeanAPE=np.mean(TDR['APE'])\n",
    "MedianAPE=np.median(TDR['APE'])\n",
    "\n",
    "ACC=100-MeanAPE\n",
    "MedianACC=100-MedianAPE\n",
    "\n",
    "print('Mean Accuracy on test data:',ACC)\n",
    "print('Median Accuracy on test data:',MedianACC)\n",
    "\n",
    "def DTacc_val(ori1,pre1):\n",
    "    MAPE=np.mean(100*(np.abs(ori1-pre1)/ori1))\n",
    "    return(100-MAPE)\n",
    "\n",
    "from sklearn.metrics import make_scorer\n",
    "custom_scoring=make_scorer(DTacc_val,greater_is_better=True)\n",
    "\n",
    "from sklearn.model_selection import cross_val_score\n",
    "CAS=cross_val_score(RegModel,X,Y,cv=10,scoring=custom_scoring)\n",
    "print('Cross 10 fold validation accuracy:',CAS)\n",
    "\n",
    "print('Overall Avg Model Accuracy',round(CAS.mean(),2))\n",
    "\n",
    "%matplotlib inline\n",
    "feature_importances = pd.Series(DT.feature_importances_, index=Predictors)\n",
    "feature_importances.nlargest(10).plot(kind='barh')"
   ]
  },
  {
   "cell_type": "code",
   "execution_count": 224,
   "id": "63f8afb5",
   "metadata": {},
   "outputs": [],
   "source": [
    "import os\n",
    "os.environ[\"PATH\"] += os.pathsep + 'C:/Users/DIP/anaconda3/Library/bin/graphviz'"
   ]
  },
  {
   "cell_type": "code",
   "execution_count": 225,
   "id": "3e1663d1",
   "metadata": {},
   "outputs": [
    {
     "data": {
      "text/plain": [
       "5858546.674184514"
      ]
     },
     "execution_count": 225,
     "metadata": {},
     "output_type": "execute_result"
    }
   ],
   "source": [
    "np.var(Y_train)"
   ]
  },
  {
   "cell_type": "code",
   "execution_count": 226,
   "id": "14412273",
   "metadata": {},
   "outputs": [
    {
     "data": {
      "text/plain": [
       "2731.2505871787785"
      ]
     },
     "execution_count": 226,
     "metadata": {},
     "output_type": "execute_result"
    }
   ],
   "source": [
    "np.mean(Y_train)"
   ]
  },
  {
   "cell_type": "markdown",
   "id": "6716594d",
   "metadata": {},
   "source": [
    "# Random Forest"
   ]
  },
  {
   "cell_type": "code",
   "execution_count": 227,
   "id": "5cc3e4fc",
   "metadata": {},
   "outputs": [
    {
     "name": "stdout",
     "output_type": "stream",
     "text": [
      "RandomForestRegressor(max_depth=9, n_estimators=300)\n",
      "R2 Value is: 0.984254292450249\n",
      "Model Validation & Accuracy Calculations\n",
      "   price  Predictedprice        APE\n",
      "0    698          556.96  20.206304\n",
      "1   1007         1121.26  11.346574\n",
      "2   3026         2511.98  16.986781\n",
      "3   4855         4286.66  11.706282\n",
      "4   2555         2682.22   4.979256\n",
      "5   4872         4543.39   6.744869\n",
      "6    589          642.47   9.078098\n",
      "7   4027         4119.29   2.291780\n",
      "8   2894         2930.61   1.265031\n",
      "9   6733         6788.51   0.824447\n",
      "Mean Accuracy: 91.6184959188048\n",
      "Median Accuracy 93.33779008617243\n",
      "\n",
      "Accuracy values for 10-fold Cross Validation:\n",
      " [85.25427133 87.98410676 88.25062531 84.56211611 81.87884404 85.05665519\n",
      " 85.73485782 82.92295577 87.51797866 85.24452443]\n",
      "\n",
      "Final Average Accuracy of the model: 85.441\n"
     ]
    },
    {
     "data": {
      "text/plain": [
       "<AxesSubplot:>"
      ]
     },
     "execution_count": 227,
     "metadata": {},
     "output_type": "execute_result"
    },
    {
     "data": {
      "image/png": "[encoded data removed]",
      "text/plain": [
       "<Figure size 432x288 with 1 Axes>"
      ]
     },
     "metadata": {
      "needs_background": "light"
     },
     "output_type": "display_data"
    }
   ],
   "source": [
    "from sklearn.ensemble import RandomForestRegressor\n",
    "RegModel=RandomForestRegressor(max_depth=9,n_estimators=300,criterion='mse')\n",
    "print(RegModel)\n",
    "RF=RegModel.fit(X_train,Y_train)\n",
    "\n",
    "from sklearn import metrics\n",
    "print('R2 Value is:',metrics.r2_score(Y_train,RF.predict(X_train)))\n",
    "\n",
    "print('Model Validation & Accuracy Calculations')\n",
    "prediction=RF.predict(X_test)\n",
    "TDR=pd.DataFrame(data=X_test,columns=Predictors)\n",
    "TDR[Target]=Y_test\n",
    "TDR[('Predicted'+Target)]=np.round((prediction),2)\n",
    "TDR['APE']=100*((abs(TDR['price']-TDR['Predictedprice']))/TDR['price'])\n",
    "print(TDR[[Target,'Predicted'+Target,'APE']].head(10))\n",
    "\n",
    "MAPE=np.mean(TDR['APE'])\n",
    "MedianAPE=np.median(TDR['APE'])\n",
    "Accuracy=100-MAPE\n",
    "MedianAcc=100-MedianAPE\n",
    "print('Mean Accuracy:',Accuracy)\n",
    "print('Median Accuracy',MedianAcc)\n",
    "\n",
    "def Acc_Score(ori,pre):\n",
    "    MAPE=np.mean(100*(np.abs(ori-pre)/ori))\n",
    "    return(100-MAPE)\n",
    "\n",
    "from sklearn.metrics import make_scorer\n",
    "custom_scoring=make_scorer(Acc_Score,greater_is_better=True)\n",
    "\n",
    "from sklearn.model_selection import cross_val_score\n",
    "Accuracy_score=cross_val_score(RegModel,X,Y,cv=10,scoring=custom_scoring)\n",
    "\n",
    "print('\\nAccuracy values for 10-fold Cross Validation:\\n',Accuracy_score)\n",
    "print('\\nFinal Average Accuracy of the model:',round(Accuracy_score.mean(),3))\n",
    "\n",
    "FI=pd.Series(RF.feature_importances_,index=Predictors)\n",
    "FI.nlargest(10).plot(kind='barh')"
   ]
  },
  {
   "cell_type": "markdown",
   "id": "1e43e8cb",
   "metadata": {},
   "source": [
    "# AdaBoost"
   ]
  },
  {
   "cell_type": "code",
   "execution_count": 228,
   "id": "59a84921",
   "metadata": {},
   "outputs": [
    {
     "name": "stdout",
     "output_type": "stream",
     "text": [
      "AdaBoostRegressor(base_estimator=DecisionTreeRegressor(max_depth=3),\n",
      "                  learning_rate=0.01, n_estimators=1300)\n",
      "R2 Value is: 0.910484751559764\n",
      "\n",
      "##### Model Validation and Accuracy Calculations ##########\n",
      "   price  Predictedprice        APE\n",
      "0    698          816.81  17.021490\n",
      "1   1007          823.29  18.243297\n",
      "2   3026         1873.29  38.093523\n",
      "3   4855         5381.61  10.846756\n",
      "4   2555         1807.58  29.253229\n",
      "5   4872         5619.71  15.347085\n",
      "6    589          816.81  38.677419\n",
      "7   4027         2874.62  28.616340\n",
      "8   2894         2877.90   0.556323\n",
      "9   6733         6442.52   4.314273\n",
      "Mean Accuracy on testing data: 77.76666803900619\n",
      "Median Accuracy on testing Data: 83.36678920564195\n",
      "\n",
      "Accuracy values for 10-fold Cross Validation:\n",
      " [74.15696747 71.26379691 82.50212949 81.3638303  69.382328   87.63358239\n",
      " 72.49817392 55.75898495 81.1801591  69.50764688]\n",
      "\n",
      "Final Average Accuracy of the model: 74.525\n"
     ]
    },
    {
     "data": {
      "text/plain": [
       "<AxesSubplot:>"
      ]
     },
     "execution_count": 228,
     "metadata": {},
     "output_type": "execute_result"
    },
    {
     "data": {
      "image/png": "[encoded data removed]",
      "text/plain": [
       "<Figure size 432x288 with 1 Axes>"
      ]
     },
     "metadata": {
      "needs_background": "light"
     },
     "output_type": "display_data"
    }
   ],
   "source": [
    "from sklearn.ensemble import AdaBoostRegressor\n",
    "from sklearn.tree import DecisionTreeRegressor\n",
    "\n",
    "DTR=DecisionTreeRegressor(max_depth=3)\n",
    "RegModel=AdaBoostRegressor(n_estimators=1300,base_estimator=DTR,learning_rate=0.01)\n",
    "print(RegModel)\n",
    "AB=RegModel.fit(X_train,Y_train)\n",
    "prediction=AB.predict(X_test)\n",
    "\n",
    "from sklearn import metrics\n",
    "print('R2 Value is:',metrics.r2_score(Y_train,AB.predict(X_train)))\n",
    "\n",
    "print('\\n##### Model Validation and Accuracy Calculations ##########')\n",
    "TDR=pd.DataFrame(data=X_test,columns=Predictors)\n",
    "TDR[Target]=Y_test\n",
    "TDR[('Predicted'+Target)]=np.round((prediction),2)\n",
    "TDR['APE']=100*((abs(TDR['price']-TDR['Predictedprice']))/TDR['price'])\n",
    "print(TDR[[Target,'Predicted'+Target,'APE']].head(10))\n",
    "\n",
    "\n",
    "MAPE=np.mean(TDR['APE'])\n",
    "MedianMAPE=np.median(TDR['APE'])\n",
    "Accuracy=100-MAPE\n",
    "MedianAcc=100-MedianMAPE\n",
    "\n",
    "print('Mean Accuracy on testing data:',Accuracy)\n",
    "print('Median Accuracy on testing Data:',MedianAcc)\n",
    "\n",
    "def Acc_Score(ori,pre):\n",
    "    MAPE=np.mean(100*(np.abs(ori-pre)/ori))\n",
    "    return(100-MAPE)\n",
    "\n",
    "from sklearn.metrics import make_scorer\n",
    "custom_scoring=make_scorer(Acc_Score,greater_is_better=True)\n",
    "\n",
    "from sklearn.model_selection import cross_val_score\n",
    "Accuracy_score=cross_val_score(RegModel,X,Y,cv=10,scoring=custom_scoring)\n",
    "\n",
    "print('\\nAccuracy values for 10-fold Cross Validation:\\n',Accuracy_score)\n",
    "print('\\nFinal Average Accuracy of the model:',round(Accuracy_score.mean(),3))\n",
    "\n",
    "FI=pd.Series(AB.feature_importances_,index=Predictors)\n",
    "FI.nlargest(10).plot(kind='barh')"
   ]
  },
  {
   "cell_type": "markdown",
   "id": "0bc765bb",
   "metadata": {},
   "source": [
    "# XGBoost"
   ]
  },
  {
   "cell_type": "code",
   "execution_count": 229,
   "id": "7e2edd7f",
   "metadata": {},
   "outputs": [
    {
     "name": "stdout",
     "output_type": "stream",
     "text": [
      "XGBRegressor(base_score=None, booster='gbtree', colsample_bylevel=None,\n",
      "             colsample_bynode=None, colsample_bytree=None,\n",
      "             enable_categorical=False, gamma=None, gpu_id=None,\n",
      "             importance_type=None, interaction_constraints=None,\n",
      "             learning_rate=0.01, max_delta_step=None, max_depth=3,\n",
      "             min_child_weight=None, missing=nan, monotone_constraints=None,\n",
      "             n_estimators=1100, n_jobs=None, num_parallel_tree=None,\n",
      "             predictor=None, random_state=None, reg_alpha=None, reg_lambda=None,\n",
      "             scale_pos_weight=None, subsample=None, tree_method=None,\n",
      "             validate_parameters=None, verbosity=None)\n",
      "R2 Value is: 0.9803312552119425\n",
      "\n",
      "##### Model Validation and Accuracy Calculations ##########\n",
      "   price  Predictedprice        APE\n",
      "0    698      624.919983  10.469916\n",
      "1   1007     1108.819946  10.111216\n",
      "2   3026     2421.649902  19.971913\n",
      "3   4855     4597.009766   5.313908\n",
      "4   2555     2345.679932   8.192566\n",
      "5   4872     4994.149902   2.507182\n",
      "6    589      690.770020  17.278441\n",
      "7   4027     3735.649902   7.234917\n",
      "8   2894     2952.000000   2.004147\n",
      "9   6733     6658.669922   1.103967\n",
      "Mean Accuracy on testing data: 77.76666803900619\n",
      "Median Accuracy on testing data: 92.84474646519851\n",
      "\n",
      "Accuracy values for 10-fold Cross Validation:\n",
      " [89.14741539 88.92472707 88.88742286 84.61934046 86.50389964 88.20078843\n",
      " 88.5091872  84.35513033 90.68917956 87.46382981]\n",
      "\n",
      "Final Average Accuracy of the model: 87.73\n"
     ]
    },
    {
     "data": {
      "text/plain": [
       "<AxesSubplot:>"
      ]
     },
     "execution_count": 229,
     "metadata": {},
     "output_type": "execute_result"
    },
    {
     "data": {
      "image/png": "[encoded data removed]",
      "text/plain": [
       "<Figure size 432x288 with 1 Axes>"
      ]
     },
     "metadata": {
      "needs_background": "light"
     },
     "output_type": "display_data"
    }
   ],
   "source": [
    "from xgboost import XGBRegressor\n",
    "RegModel=XGBRegressor(max_depth=3,learning_rate=0.01,n_estimators=1100,booster='gbtree',objective='reg:squarederror')\n",
    "\n",
    "print(RegModel)\n",
    "XGB=RegModel.fit(X_train,Y_train)\n",
    "prediction=XGB.predict(X_test)\n",
    "\n",
    "from sklearn import metrics\n",
    "print('R2 Value is:',metrics.r2_score(Y_train,XGB.predict(X_train)))\n",
    "\n",
    "print('\\n##### Model Validation and Accuracy Calculations ##########')\n",
    "TDR=pd.DataFrame(data=X_test,columns=Predictors)\n",
    "TDR[Target]=Y_test\n",
    "TDR[('Predicted'+Target)]=np.round((prediction),2)\n",
    "TDR['APE']=100*((abs(TDR['price']-TDR['Predictedprice']))/TDR['price'])\n",
    "print(TDR[[Target,'Predicted'+Target,'APE']].head(10))\n",
    "\n",
    "MAPE=np.mean(TDR['APE'])\n",
    "MedianMAPE=np.median(TDR['APE'])\n",
    "Accruacy=100-MAPE\n",
    "MedianAcc=100-MedianMAPE\n",
    "\n",
    "print('Mean Accuracy on testing data:',Accuracy)\n",
    "print('Median Accuracy on testing data:',MedianAcc)\n",
    "\n",
    "def Accuracy_Values(ori,pre):\n",
    "    MAPE=np.mean(100*(np.abs(ori-pre)/ori))\n",
    "    return(100-MAPE)\n",
    "\n",
    "from sklearn.metrics import make_scorer\n",
    "custom_scoring=make_scorer(Acc_Score,greater_is_better=True)\n",
    "\n",
    "\n",
    "from sklearn.model_selection import cross_val_score\n",
    "Accuracy_score=cross_val_score(RegModel,X,Y,cv=10,scoring=custom_scoring)\n",
    "print('\\nAccuracy values for 10-fold Cross Validation:\\n',Accuracy_score)\n",
    "print('\\nFinal Average Accuracy of the model:',round(Accuracy_score.mean(),3))\n",
    "\n",
    "FI=pd.Series(XGB.feature_importances_,index=Predictors)\n",
    "FI.nlargest(10).plot(kind='barh')"
   ]
  },
  {
   "cell_type": "markdown",
   "id": "e5ff4a77",
   "metadata": {},
   "source": [
    "# KNN"
   ]
  },
  {
   "cell_type": "code",
   "execution_count": 230,
   "id": "e02b8a3e",
   "metadata": {},
   "outputs": [
    {
     "name": "stdout",
     "output_type": "stream",
     "text": [
      "KNeighborsRegressor(n_neighbors=6)\n",
      "R2 Value is: 0.9847204236886878\n",
      "\n",
      "##### Model Validation and Accuracy Calculations ##########\n",
      "   price  Predictedprice        APE\n",
      "0    698          672.33   3.677650\n",
      "1   1007         1059.83   5.246276\n",
      "2   3026         2597.33  14.166226\n",
      "3   4855         4585.67   5.547477\n",
      "4   2555         2718.83   6.412133\n",
      "5   4872         4579.50   6.003695\n",
      "6    589          630.33   7.016978\n",
      "7   4027         4794.50  19.058853\n",
      "8   2894         3092.83   6.870422\n",
      "9   6733         6680.33   0.782266\n",
      "Mean Accuracy Value on testing data: 92.85662860487663\n",
      "Median Accuracy Value on testing data: 95.04132573269172\n",
      "\n",
      "Accuracy values for 10-fold Cross Validation:\n",
      " [84.79419759 87.45696152 87.73853309 82.68041554 82.90527398 84.61697849\n",
      " 86.11069059 83.37918963 87.053379   85.69650454]\n",
      "\n",
      "Final Average Accuracy of the model: 85.243\n"
     ]
    }
   ],
   "source": [
    "from sklearn.neighbors import KNeighborsRegressor\n",
    "RegModel=KNeighborsRegressor(n_neighbors=6)\n",
    "\n",
    "print(RegModel)\n",
    "\n",
    "KNN=RegModel.fit(X_train,Y_train)\n",
    "prediction=KNN.predict(X_test)\n",
    "\n",
    "from sklearn import metrics\n",
    "print('R2 Value is:',metrics.r2_score(Y_train,KNN.predict(X_train)))\n",
    "\n",
    "print('\\n##### Model Validation and Accuracy Calculations ##########')\n",
    "TDR=pd.DataFrame(data=X_test,columns=Predictors)\n",
    "TDR[Target]=Y_test\n",
    "TDR[('Predicted'+Target)]=np.round((prediction),2)\n",
    "TDR['APE']=100*((abs(TDR['price']-TDR['Predictedprice']))/TDR['price'])\n",
    "print(TDR[[Target,'Predicted'+Target,'APE']].head(10))\n",
    "\n",
    "MAPE=np.mean(TDR['APE'])\n",
    "MedianMAPE=np.median(TDR['APE'])\n",
    "Accuracy=100-MAPE\n",
    "MedianAccuracy=100-MedianMAPE\n",
    "print('Mean Accuracy Value on testing data:',Accuracy)\n",
    "print('Median Accuracy Value on testing data:',MedianAccuracy)\n",
    "\n",
    "def Accuracy_Values(ori,pre):\n",
    "    MAPE=np.mean(100*(np.abs(ori-pre)/ori))\n",
    "    return(100-MAPE)\n",
    "\n",
    "from sklearn.metrics import make_scorer\n",
    "custom_scoring=make_scorer(Acc_Score,greater_is_better=True)\n",
    "\n",
    "from sklearn.model_selection import cross_val_score\n",
    "Accuracy_score=cross_val_score(RegModel,X,Y,cv=10,scoring=custom_scoring)\n",
    "print('\\nAccuracy values for 10-fold Cross Validation:\\n',Accuracy_score)\n",
    "print('\\nFinal Average Accuracy of the model:',round(Accuracy_score.mean(),3))\n",
    "\n",
    "\n"
   ]
  },
  {
   "cell_type": "markdown",
   "id": "e43f2259",
   "metadata": {},
   "source": [
    "# Model Deployment"
   ]
  },
  {
   "cell_type": "markdown",
   "id": "492084cc",
   "metadata": {},
   "source": [
    "Based on the above trials you select that algorithm which produces the best average accuracy. In this case, multiple algorithms have produced similar kind of average accuracy. Hence, we can choose any one of them.\n",
    "I am choosing XGBOOST as the final model since it is producing the best accuracy on this data."
   ]
  },
  {
   "cell_type": "markdown",
   "id": "4de69577",
   "metadata": {},
   "source": [
    "# Batch Mode"
   ]
  },
  {
   "cell_type": "markdown",
   "id": "4b7425e0",
   "metadata": {},
   "source": [
    "# Choosing only the most important variables"
   ]
  },
  {
   "cell_type": "code",
   "execution_count": 231,
   "id": "961f3e2c",
   "metadata": {},
   "outputs": [
    {
     "data": {
      "text/plain": [
       "Index(['cut', 'carat', 'color', 'clarity', 'Length', 'Height', 'Width',\n",
       "       'price'],\n",
       "      dtype='object')"
      ]
     },
     "execution_count": 231,
     "metadata": {},
     "output_type": "execute_result"
    }
   ],
   "source": [
    "DataForML_Numeric.columns"
   ]
  },
  {
   "cell_type": "code",
   "execution_count": 232,
   "id": "9bd3117a",
   "metadata": {},
   "outputs": [
    {
     "name": "stdout",
     "output_type": "stream",
     "text": [
      "(36190, 4)\n",
      "(36190,)\n"
     ]
    }
   ],
   "source": [
    "Target='price'\n",
    "\n",
    "\n",
    "Predictors=['carat','Length', 'color' , 'clarity']\n",
    "\n",
    "X=DataForML_Numeric[Predictors].values\n",
    "Y=DataForML_Numeric[Target].values\n",
    "\n",
    "\n",
    "from sklearn.preprocessing import StandardScaler, MinMaxScaler\n",
    "PredictorScaler=MinMaxScaler()\n",
    "\n",
    "\n",
    "PredictorScalerFit=PredictorScaler.fit(X)\n",
    "\n",
    "X=PredictorScalerFit.transform(X)\n",
    "\n",
    "print(X.shape)\n",
    "print(Y.shape)"
   ]
  },
  {
   "cell_type": "markdown",
   "id": "628774bb",
   "metadata": {},
   "source": [
    "# Retraining the model using 100% data"
   ]
  },
  {
   "cell_type": "code",
   "execution_count": 233,
   "id": "cae3d6db",
   "metadata": {},
   "outputs": [],
   "source": [
    "from xgboost import XGBRegressor\n",
    "RegModel=XGBRegressor(max_depth=3,learning_rate=0.01,n_estimators=1100,booster='gbtree',objective='reg:squarederror')\n",
    "\n",
    "Final_XGB_Model=RegModel.fit(X,Y)"
   ]
  },
  {
   "cell_type": "markdown",
   "id": "c9e24541",
   "metadata": {},
   "source": [
    "# Cross validating the final model accuracy with less predictors"
   ]
  },
  {
   "cell_type": "code",
   "execution_count": 234,
   "id": "8dde02b6",
   "metadata": {},
   "outputs": [
    {
     "name": "stdout",
     "output_type": "stream",
     "text": [
      "\n",
      "Accuracy values for 10-fold Cross Validation:\n",
      " [88.66036549 88.74056901 88.59119495 84.36458478 85.76990519 87.24768081\n",
      " 87.57552824 83.92931759 90.20505375 87.32996988]\n",
      "\n",
      "Final Average Accuracy of the model: 87.24\n"
     ]
    }
   ],
   "source": [
    "from sklearn.model_selection import cross_val_score\n",
    "from sklearn.metrics import make_scorer\n",
    "custom_scoring=make_scorer(Acc_Score,greater_is_better=True)\n",
    "\n",
    "Accuracy_Values=cross_val_score(Final_XGB_Model, X ,Y, cv=10, scoring=custom_scoring)\n",
    "print('\\nAccuracy values for 10-fold Cross Validation:\\n',Accuracy_Values)\n",
    "print('\\nFinal Average Accuracy of the model:', round(Accuracy_Values.mean(),2))"
   ]
  },
  {
   "cell_type": "markdown",
   "id": "3cedb07d",
   "metadata": {},
   "source": [
    "# Save the model as a serialized file which can be stored anywhere"
   ]
  },
  {
   "cell_type": "code",
   "execution_count": 235,
   "id": "a17272c3",
   "metadata": {},
   "outputs": [
    {
     "name": "stdout",
     "output_type": "stream",
     "text": [
      "pickle file of Predictive Model is saved at Location: C:\\Users\\DIP\n"
     ]
    }
   ],
   "source": [
    "import pickle\n",
    "import os\n",
    "\n",
    "\n",
    "with open('Final_XGB_Model.pkl', 'wb') as fileWriteStream:\n",
    "    pickle.dump(Final_XGB_Model, fileWriteStream)\n",
    "    fileWriteStream.close()\n",
    "    \n",
    "print('pickle file of Predictive Model is saved at Location:',os.getcwd())"
   ]
  },
  {
   "cell_type": "markdown",
   "id": "044a75dd",
   "metadata": {},
   "source": [
    "# Create a python function"
   ]
  },
  {
   "cell_type": "code",
   "execution_count": 236,
   "id": "e1551feb",
   "metadata": {},
   "outputs": [],
   "source": [
    "def FunctionPredictResult(InputData):\n",
    "    import pandas as pd\n",
    "    Num_Inputs=InputData.shape[0]\n",
    "    \n",
    "    DataForML=pd.read_pickle('DataForML.pkl')\n",
    "    InputData=InputData.append(DataForML)\n",
    "    \n",
    "    InputData['color'].replace({  'J':1, \n",
    "                                  'I':2,\n",
    "                                  'H':3,\n",
    "                                  'G':4,\n",
    "                                  'F':5,\n",
    "                                  'E':6,\n",
    "                                  'D':7\n",
    "                                 }, inplace=True)\n",
    "    \n",
    "    InputData['clarity'].replace({'I1':1,\n",
    "                                  'SI1':2,\n",
    "                                  'SI2':3,\n",
    "                                  'VS1':4,\n",
    "                                  'VS2':5,\n",
    "                                  'VVS1':6,\n",
    "                                  'VVS2':7,\n",
    "                                  'IF':8\n",
    "                                 }, inplace=True)\n",
    "    \n",
    "    \n",
    "    InputData=pd.get_dummies(InputData)\n",
    "            \n",
    "    Predictors=['carat','Length', 'color' , 'clarity']\n",
    "    \n",
    "    # Generating the input values to the model\n",
    "    X=InputData[Predictors].values[0:Num_Inputs]\n",
    "    \n",
    "    X=PredictorScalerFit.transform(X)\n",
    "    \n",
    "    \n",
    "    import pickle\n",
    "    with open('Final_XGB_Model.pkl', 'rb') as fileReadStream:\n",
    "        PredictionModel=pickle.load(fileReadStream)\n",
    "        # Don't forget to close the filestream!\n",
    "        fileReadStream.close()\n",
    "            \n",
    "    # Genprice Predictions\n",
    "    Prediction=PredictionModel.predict(X)\n",
    "    PredictionResult=pd.DataFrame(Prediction, columns=['Prediction'])\n",
    "    return(PredictionResult)"
   ]
  },
  {
   "cell_type": "code",
   "execution_count": 237,
   "id": "4d4348e1",
   "metadata": {},
   "outputs": [
    {
     "name": "stdout",
     "output_type": "stream",
     "text": [
      "   carat  Length color clarity\n",
      "0   0.23    3.98     E     SI2\n",
      "1   0.68    4.23     I     VS2\n"
     ]
    },
    {
     "data": {
      "text/html": [
       "<div>\n",
       "<style scoped>\n",
       "    .dataframe tbody tr th:only-of-type {\n",
       "        vertical-align: middle;\n",
       "    }\n",
       "\n",
       "    .dataframe tbody tr th {\n",
       "        vertical-align: top;\n",
       "    }\n",
       "\n",
       "    .dataframe thead th {\n",
       "        text-align: right;\n",
       "    }\n",
       "</style>\n",
       "<table border=\"1\" class=\"dataframe\">\n",
       "  <thead>\n",
       "    <tr style=\"text-align: right;\">\n",
       "      <th></th>\n",
       "      <th>Prediction</th>\n",
       "    </tr>\n",
       "  </thead>\n",
       "  <tbody>\n",
       "    <tr>\n",
       "      <th>0</th>\n",
       "      <td>289.071259</td>\n",
       "    </tr>\n",
       "    <tr>\n",
       "      <th>1</th>\n",
       "      <td>1557.120728</td>\n",
       "    </tr>\n",
       "  </tbody>\n",
       "</table>\n",
       "</div>"
      ],
      "text/plain": [
       "    Prediction\n",
       "0   289.071259\n",
       "1  1557.120728"
      ]
     },
     "execution_count": 237,
     "metadata": {},
     "output_type": "execute_result"
    }
   ],
   "source": [
    "NewSampleData=pd.DataFrame(\n",
    "data=[[0.23,3.98,'E','SI2'],\n",
    "     [0.68, 4.23,'I','VS2']],\n",
    "columns=['carat','Length', 'color' , 'clarity'])\n",
    "\n",
    "print(NewSampleData)\n",
    "\n",
    "# Calling the Function for prediction\n",
    "FunctionPredictResult(InputData= NewSampleData)"
   ]
  },
  {
   "cell_type": "markdown",
   "id": "6dbd34c3",
   "metadata": {},
   "source": [
    "# Deploying a predictive model as an API"
   ]
  },
  {
   "cell_type": "code",
   "execution_count": null,
   "id": "421834b7",
   "metadata": {},
   "outputs": [],
   "source": [
    "def FunctionGeneratePrediction(inp_carat, inp_Length, inp_color,inp_clarity):\n",
    "    SampleInputData=pd.DataFrame(\n",
    "     data=[[inp_carat, inp_Length, inp_color,inp_clarity]],\n",
    "     columns=['carat','Length', 'color' , 'clarity'])\n",
    "    Predictions=FunctionPredictResult(InputData= SampleInputData)\n",
    "    \n",
    "    return(Predictions.to_json())\n",
    "FunctionGeneratePrediction(inp_carat=2.35, \n",
    "                           inp_Length=5.96, \n",
    "                           inp_color='E',\n",
    "                           inp_clarity='VS2'\n",
    "                             )\n",
    "\n"
   ]
  },
  {
   "cell_type": "code",
   "execution_count": 239,
   "id": "6fe69148",
   "metadata": {},
   "outputs": [
    {
     "name": "stdout",
     "output_type": "stream",
     "text": [
      "Requirement already satisfied: flask in c:\\users\\dip\\anaconda3\\lib\\site-packages (1.1.2)\n",
      "Requirement already satisfied: itsdangerous>=0.24 in c:\\users\\dip\\anaconda3\\lib\\site-packages (from flask) (1.1.0)\n",
      "Requirement already satisfied: Werkzeug>=0.15 in c:\\users\\dip\\anaconda3\\lib\\site-packages (from flask) (1.0.1)\n",
      "Requirement already satisfied: click>=5.1 in c:\\users\\dip\\anaconda3\\lib\\site-packages (from flask) (7.1.2)\n",
      "Requirement already satisfied: Jinja2>=2.10.1 in c:\\users\\dip\\anaconda3\\lib\\site-packages (from flask) (2.11.3)\n",
      "Requirement already satisfied: MarkupSafe>=0.23 in c:\\users\\dip\\anaconda3\\lib\\site-packages (from Jinja2>=2.10.1->flask) (1.1.1)\n"
     ]
    }
   ],
   "source": [
    "!pip install flask"
   ]
  },
  {
   "cell_type": "markdown",
   "id": "f9c55605",
   "metadata": {},
   "source": [
    "# Creating Flask API"
   ]
  },
  {
   "cell_type": "code",
   "execution_count": 240,
   "id": "14bb5020",
   "metadata": {},
   "outputs": [],
   "source": [
    "from flask import Flask, request, jsonify\n",
    "import pickle\n",
    "import pandas as pd\n",
    "import numpy"
   ]
  },
  {
   "cell_type": "code",
   "execution_count": null,
   "id": "66733613",
   "metadata": {},
   "outputs": [],
   "source": [
    "app = Flask(__name__)\n",
    "\n",
    "@app.route('/my_prediction', methods=[\"GET\"])\n",
    "def prediction_api():\n",
    "    try:\n",
    "        carat_value=float(request.args.get('carat'))\n",
    "        length_value=float(request.args.get('Length'))\n",
    "        color_value=request.args.get('Color')\n",
    "        clarity_value=request.args.get('Clarity')\n",
    "                       \n",
    "        prediction_from_api=FunctionGeneratePrediction(\n",
    "                                                    inp_carat=carat_value, \n",
    "                                                    inp_Length=length_value, \n",
    "                                                    inp_color=color_value,\n",
    "                                                    inp_clarity=clarity_value                                                     inp_carat=carat_value, \n",
    "\n",
    "                                                        )\n",
    "\n",
    "        return (prediction_from_api,color_value)\n",
    "    \n",
    "    except Exception as e:\n",
    "        return('Something is not right!:'+str(e))\n",
    "    "
   ]
  },
  {
   "cell_type": "markdown",
   "id": "0ced6324",
   "metadata": {},
   "source": [
    "# Starting the API engine"
   ]
  },
  {
   "cell_type": "code",
   "execution_count": null,
   "id": "a75b10f7",
   "metadata": {},
   "outputs": [
    {
     "name": "stdout",
     "output_type": "stream",
     "text": [
      " * Serving Flask app \"__main__\" (lazy loading)\n",
      " * Environment: production\n",
      "   WARNING: This is a development server. Do not use it in a production deployment.\n",
      "   Use a production WSGI server instead.\n",
      " * Debug mode: on\n"
     ]
    },
    {
     "name": "stderr",
     "output_type": "stream",
     "text": [
      " * Running on http://127.0.0.1:8080/ (Press CTRL+C to quit)\n"
     ]
    }
   ],
   "source": [
    "import os\n",
    "if __name__ ==\"__main__\":\n",
    "    \n",
    "    app.run(host='127.0.0.1', port=8080, threaded=True, debug=True, use_reloader=False)"
   ]
  },
  {
   "cell_type": "markdown",
   "id": "95bef81d",
   "metadata": {},
   "source": [
    "# Sample URL to call the API"
   ]
  },
  {
   "cell_type": "markdown",
   "id": "1e06a218",
   "metadata": {},
   "source": [
    "http://127.0.0.1:8080/my_prediction?carat=&length=&color=&clarity="
   ]
  },
  {
   "cell_type": "code",
   "execution_count": null,
   "id": "477f5fdd",
   "metadata": {},
   "outputs": [],
   "source": []
  },
  {
   "cell_type": "code",
   "execution_count": null,
   "id": "41179a30",
   "metadata": {},
   "outputs": [],
   "source": []
  },
  {
   "cell_type": "code",
   "execution_count": null,
   "id": "81457b8c",
   "metadata": {},
   "outputs": [],
   "source": []
  },
  {
   "cell_type": "code",
   "execution_count": null,
   "id": "6e07edcd",
   "metadata": {},
   "outputs": [],
   "source": []
  },
  {
   "cell_type": "code",
   "execution_count": null,
   "id": "da5ed9bc",
   "metadata": {},
   "outputs": [],
   "source": []
  },
  {
   "cell_type": "code",
   "execution_count": null,
   "id": "07ce31a5",
   "metadata": {},
   "outputs": [],
   "source": []
  },
  {
   "cell_type": "code",
   "execution_count": null,
   "id": "8a60c64f",
   "metadata": {},
   "outputs": [],
   "source": []
  },
  {
   "cell_type": "code",
   "execution_count": null,
   "id": "afb9decb",
   "metadata": {},
   "outputs": [],
   "source": []
  },
  {
   "cell_type": "code",
   "execution_count": null,
   "id": "f3333861",
   "metadata": {},
   "outputs": [],
   "source": []
  },
  {
   "cell_type": "code",
   "execution_count": null,
   "id": "0025c2a6",
   "metadata": {},
   "outputs": [],
   "source": []
  }
 ],
 "metadata": {
  "kernelspec": {
   "display_name": "Python 3",
   "language": "python",
   "name": "python3"
  },
  "language_info": {
   "codemirror_mode": {
    "name": "ipython",
    "version": 3
   },
   "file_extension": ".py",
   "mimetype": "text/x-python",
   "name": "python",
   "nbconvert_exporter": "python",
   "pygments_lexer": "ipython3",
   "version": "3.8.8"
  }
 },
 "nbformat": 4,
 "nbformat_minor": 5
}
